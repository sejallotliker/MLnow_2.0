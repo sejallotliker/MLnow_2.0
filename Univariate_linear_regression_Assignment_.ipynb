{
  "nbformat": 4,
  "nbformat_minor": 0,
  "metadata": {
    "colab": {
      "name": "Univariate linear regression_Assignment .ipynb",
      "provenance": [],
      "authorship_tag": "ABX9TyMb4R+OSYmNhLxNm4Qo3XqZ",
      "include_colab_link": true
    },
    "kernelspec": {
      "name": "python3",
      "display_name": "Python 3"
    },
    "language_info": {
      "name": "python"
    }
  },
  "cells": [
    {
      "cell_type": "markdown",
      "metadata": {
        "id": "view-in-github",
        "colab_type": "text"
      },
      "source": [
        "<a href=\"https://colab.research.google.com/github/sejallotliker/MLnow_2.0/blob/main/Univariate_linear_regression_Assignment_.ipynb\" target=\"_parent\"><img src=\"https://colab.research.google.com/assets/colab-badge.svg\" alt=\"Open In Colab\"/></a>"
      ]
    },
    {
      "cell_type": "markdown",
      "metadata": {
        "id": "I4FZyeDymrRS"
      },
      "source": [
        "#Univeriate Linear regression\n",
        "\n",
        "Course on: `ML.now().girlscript`\n",
        "\n",
        "Author:  ```Sejal Lotliker```\n",
        "\n",
        "Date: ```06-06-2021```\n",
        "\n",
        "\n"
      ]
    },
    {
      "cell_type": "markdown",
      "metadata": {
        "id": "dMU3hC5vSR2O"
      },
      "source": [
        "**Setup**"
      ]
    },
    {
      "cell_type": "code",
      "metadata": {
        "colab": {
          "base_uri": "https://localhost:8080/"
        },
        "id": "LMUz1hXumeR0",
        "outputId": "f4e7d4af-52cd-400c-831b-fbaf34d8a7b6"
      },
      "source": [
        "from google.colab import drive\n",
        "drive.mount('/content/drive')"
      ],
      "execution_count": 1,
      "outputs": [
        {
          "output_type": "stream",
          "text": [
            "Mounted at /content/drive\n"
          ],
          "name": "stdout"
        }
      ]
    },
    {
      "cell_type": "code",
      "metadata": {
        "id": "I24I02vC0gv6"
      },
      "source": [
        ""
      ],
      "execution_count": null,
      "outputs": []
    }
  ]
}