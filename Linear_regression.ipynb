{
  "nbformat": 4,
  "nbformat_minor": 0,
  "metadata": {
    "colab": {
      "name": "Linear regression.ipynb",
      "provenance": [],
      "collapsed_sections": [],
      "mount_file_id": "1QDjJDGnO6FZj88uAXE7Atadk29ITtAw9",
      "authorship_tag": "ABX9TyPxw/Kspp81aYXEuRJFDpQD",
      "include_colab_link": true
    },
    "kernelspec": {
      "name": "python3",
      "display_name": "Python 3"
    },
    "language_info": {
      "name": "python"
    }
  },
  "cells": [
    {
      "cell_type": "markdown",
      "metadata": {
        "id": "view-in-github",
        "colab_type": "text"
      },
      "source": [
        "<a href=\"https://colab.research.google.com/github/sejallotliker/MLnow_2.0/blob/main/Linear_regression.ipynb\" target=\"_parent\"><img src=\"https://colab.research.google.com/assets/colab-badge.svg\" alt=\"Open In Colab\"/></a>"
      ]
    },
    {
      "cell_type": "markdown",
      "metadata": {
        "id": "U6dI4cQQIQLL"
      },
      "source": [
        "#Machine Learning\n",
        "\n",
        "Linear regression\n",
        "\n",
        "Author: `Sejal Lotliker`\n",
        "\n",
        "Date: `11-06-2021`"
      ]
    },
    {
      "cell_type": "code",
      "metadata": {
        "colab": {
          "base_uri": "https://localhost:8080/"
        },
        "id": "7PvX8CWMIo-x",
        "outputId": "33b53c29-ba8e-497c-dd4e-267faec33ff6"
      },
      "source": [
        "from google.colab import drive\n",
        "drive.mount('/content/drive')"
      ],
      "execution_count": 1,
      "outputs": [
        {
          "output_type": "stream",
          "text": [
            "Drive already mounted at /content/drive; to attempt to forcibly remount, call drive.mount(\"/content/drive\", force_remount=True).\n"
          ],
          "name": "stdout"
        }
      ]
    },
    {
      "cell_type": "code",
      "metadata": {
        "id": "hKZvhks_Iy8v"
      },
      "source": [
        "import pandas as pd\n",
        "import numpy as np\n",
        "import tensorflow as tf\n",
        "from tensorflow import keras\n",
        "import os"
      ],
      "execution_count": 2,
      "outputs": []
    },
    {
      "cell_type": "code",
      "metadata": {
        "id": "LpGpzlUMI2c2"
      },
      "source": [
        "path='/content/drive/MyDrive/Machine learning course by Girlscript/ML_EDA_Students performance in exam/StudentsPerformance.csv'\n",
        "my_data=my_data=pd.read_csv(path)"
      ],
      "execution_count": 3,
      "outputs": []
    },
    {
      "cell_type": "code",
      "metadata": {
        "colab": {
          "base_uri": "https://localhost:8080/",
          "height": 204
        },
        "id": "5JvVCqBVI6La",
        "outputId": "d1be942a-a71c-4f8f-db01-082a1352174e"
      },
      "source": [
        "my_data.head()"
      ],
      "execution_count": 5,
      "outputs": [
        {
          "output_type": "execute_result",
          "data": {
            "text/html": [
              "<div>\n",
              "<style scoped>\n",
              "    .dataframe tbody tr th:only-of-type {\n",
              "        vertical-align: middle;\n",
              "    }\n",
              "\n",
              "    .dataframe tbody tr th {\n",
              "        vertical-align: top;\n",
              "    }\n",
              "\n",
              "    .dataframe thead th {\n",
              "        text-align: right;\n",
              "    }\n",
              "</style>\n",
              "<table border=\"1\" class=\"dataframe\">\n",
              "  <thead>\n",
              "    <tr style=\"text-align: right;\">\n",
              "      <th></th>\n",
              "      <th>gender</th>\n",
              "      <th>groups</th>\n",
              "      <th>parentsEducation</th>\n",
              "      <th>lunch</th>\n",
              "      <th>test_preparation_course</th>\n",
              "      <th>math score</th>\n",
              "      <th>reading score</th>\n",
              "      <th>writing score</th>\n",
              "    </tr>\n",
              "  </thead>\n",
              "  <tbody>\n",
              "    <tr>\n",
              "      <th>0</th>\n",
              "      <td>female</td>\n",
              "      <td>group B</td>\n",
              "      <td>bachelor's degree</td>\n",
              "      <td>standard</td>\n",
              "      <td>none</td>\n",
              "      <td>72</td>\n",
              "      <td>72</td>\n",
              "      <td>74</td>\n",
              "    </tr>\n",
              "    <tr>\n",
              "      <th>1</th>\n",
              "      <td>female</td>\n",
              "      <td>group C</td>\n",
              "      <td>some college</td>\n",
              "      <td>standard</td>\n",
              "      <td>completed</td>\n",
              "      <td>69</td>\n",
              "      <td>90</td>\n",
              "      <td>88</td>\n",
              "    </tr>\n",
              "    <tr>\n",
              "      <th>2</th>\n",
              "      <td>female</td>\n",
              "      <td>group B</td>\n",
              "      <td>master's degree</td>\n",
              "      <td>standard</td>\n",
              "      <td>none</td>\n",
              "      <td>90</td>\n",
              "      <td>95</td>\n",
              "      <td>93</td>\n",
              "    </tr>\n",
              "    <tr>\n",
              "      <th>3</th>\n",
              "      <td>male</td>\n",
              "      <td>group A</td>\n",
              "      <td>associate's degree</td>\n",
              "      <td>free/reduced</td>\n",
              "      <td>none</td>\n",
              "      <td>47</td>\n",
              "      <td>57</td>\n",
              "      <td>44</td>\n",
              "    </tr>\n",
              "    <tr>\n",
              "      <th>4</th>\n",
              "      <td>male</td>\n",
              "      <td>group C</td>\n",
              "      <td>some college</td>\n",
              "      <td>standard</td>\n",
              "      <td>none</td>\n",
              "      <td>76</td>\n",
              "      <td>78</td>\n",
              "      <td>75</td>\n",
              "    </tr>\n",
              "  </tbody>\n",
              "</table>\n",
              "</div>"
            ],
            "text/plain": [
              "   gender   groups  ... reading score writing score\n",
              "0  female  group B  ...            72            74\n",
              "1  female  group C  ...            90            88\n",
              "2  female  group B  ...            95            93\n",
              "3    male  group A  ...            57            44\n",
              "4    male  group C  ...            78            75\n",
              "\n",
              "[5 rows x 8 columns]"
            ]
          },
          "metadata": {
            "tags": []
          },
          "execution_count": 5
        }
      ]
    },
    {
      "cell_type": "code",
      "metadata": {
        "colab": {
          "base_uri": "https://localhost:8080/",
          "height": 204
        },
        "id": "69LkCDiKI9NS",
        "outputId": "32f8f38b-c764-49d5-a6c9-5ad6e4fe7b60"
      },
      "source": [
        "unimy_data=my_data[['math score','reading score']]\n",
        "unimy_data.head()"
      ],
      "execution_count": 6,
      "outputs": [
        {
          "output_type": "execute_result",
          "data": {
            "text/html": [
              "<div>\n",
              "<style scoped>\n",
              "    .dataframe tbody tr th:only-of-type {\n",
              "        vertical-align: middle;\n",
              "    }\n",
              "\n",
              "    .dataframe tbody tr th {\n",
              "        vertical-align: top;\n",
              "    }\n",
              "\n",
              "    .dataframe thead th {\n",
              "        text-align: right;\n",
              "    }\n",
              "</style>\n",
              "<table border=\"1\" class=\"dataframe\">\n",
              "  <thead>\n",
              "    <tr style=\"text-align: right;\">\n",
              "      <th></th>\n",
              "      <th>math score</th>\n",
              "      <th>reading score</th>\n",
              "    </tr>\n",
              "  </thead>\n",
              "  <tbody>\n",
              "    <tr>\n",
              "      <th>0</th>\n",
              "      <td>72</td>\n",
              "      <td>72</td>\n",
              "    </tr>\n",
              "    <tr>\n",
              "      <th>1</th>\n",
              "      <td>69</td>\n",
              "      <td>90</td>\n",
              "    </tr>\n",
              "    <tr>\n",
              "      <th>2</th>\n",
              "      <td>90</td>\n",
              "      <td>95</td>\n",
              "    </tr>\n",
              "    <tr>\n",
              "      <th>3</th>\n",
              "      <td>47</td>\n",
              "      <td>57</td>\n",
              "    </tr>\n",
              "    <tr>\n",
              "      <th>4</th>\n",
              "      <td>76</td>\n",
              "      <td>78</td>\n",
              "    </tr>\n",
              "  </tbody>\n",
              "</table>\n",
              "</div>"
            ],
            "text/plain": [
              "   math score  reading score\n",
              "0          72             72\n",
              "1          69             90\n",
              "2          90             95\n",
              "3          47             57\n",
              "4          76             78"
            ]
          },
          "metadata": {
            "tags": []
          },
          "execution_count": 6
        }
      ]
    },
    {
      "cell_type": "code",
      "metadata": {
        "id": "MnUQvzXHJI59"
      },
      "source": [
        "unimy_data.to_csv('univariate_my_data.csv')"
      ],
      "execution_count": 7,
      "outputs": []
    },
    {
      "cell_type": "code",
      "metadata": {
        "colab": {
          "base_uri": "https://localhost:8080/"
        },
        "id": "LZ2k1qkSJLqc",
        "outputId": "c73c2caa-c1e2-4a4c-8239-349623b4b380"
      },
      "source": [
        "ls"
      ],
      "execution_count": 8,
      "outputs": [
        {
          "output_type": "stream",
          "text": [
            "\u001b[0m\u001b[01;34mdrive\u001b[0m/  \u001b[01;34msample_data\u001b[0m/  univariate_my_data.csv\n"
          ],
          "name": "stdout"
        }
      ]
    },
    {
      "cell_type": "code",
      "metadata": {
        "colab": {
          "base_uri": "https://localhost:8080/",
          "height": 157
        },
        "id": "oNr0cDM1JRYx",
        "outputId": "e4bb6ae6-0dcc-4c6e-b464-2f8cd2872cf0"
      },
      "source": [
        "import seaborn as sns\n",
        "sns.palplot(sns.color_palette('PuOr')) #Purpole to orange colors\n",
        "pal=sns.color_palette('PuOr',6) #To print 6 shades from purple to orange\n",
        "pal.as_hex() #set hex code values for colors\n",
        "\n",
        "import matplotlib.pyplot as plt\n",
        "plt.style.use(['seaborn'])\n",
        "sns_colors=['#c6690c','#664697'] #orange purple hex codes\n",
        "sns.set_palette(sns_colors) #set the palette as sns_colors\n",
        "sns.palplot(sns.color_palette(sns_colors)) #plot the color codes"
      ],
      "execution_count": 9,
      "outputs": [
        {
          "output_type": "display_data",
          "data": {
            "image/png": "[encoded data removed]",
            "text/plain": [
              "<Figure size 432x72 with 1 Axes>"
            ]
          },
          "metadata": {
            "tags": [],
            "needs_background": "light"
          }
        },
        {
          "output_type": "display_data",
          "data": {
            "image/png": "[encoded data removed]",
            "text/plain": [
              "<Figure size 144x72 with 1 Axes>"
            ]
          },
          "metadata": {
            "tags": []
          }
        }
      ]
    },
    {
      "cell_type": "code",
      "metadata": {
        "colab": {
          "base_uri": "https://localhost:8080/"
        },
        "id": "RoSUN-2aJU_6",
        "outputId": "4396443e-8ae4-4fdd-cd3f-c5ebd3347b53"
      },
      "source": [
        "unimy_data.columns"
      ],
      "execution_count": 10,
      "outputs": [
        {
          "output_type": "execute_result",
          "data": {
            "text/plain": [
              "Index(['math score', 'reading score'], dtype='object')"
            ]
          },
          "metadata": {
            "tags": []
          },
          "execution_count": 10
        }
      ]
    },
    {
      "cell_type": "code",
      "metadata": {
        "colab": {
          "base_uri": "https://localhost:8080/",
          "height": 391
        },
        "id": "LDf4boboJX4S",
        "outputId": "17edc2cf-016f-4139-c42a-2eaa4f12c39b"
      },
      "source": [
        "#pairplot for all the values\n",
        "sns.pairplot(unimy_data,\n",
        "             x_vars = ['math score', 'reading score'],\n",
        "             y_vars = ['math score', 'reading score'],\n",
        "             diag_kind='kde' \n",
        "             )"
      ],
      "execution_count": 11,
      "outputs": [
        {
          "output_type": "execute_result",
          "data": {
            "text/plain": [
              "<seaborn.axisgrid.PairGrid at 0x7f3969cc08d0>"
            ]
          },
          "metadata": {
            "tags": []
          },
          "execution_count": 11
        },
        {
          "output_type": "display_data",
          "data": {
            "image/png": "[encoded data removed]",
            "text/plain": [
              "<Figure size 360x360 with 6 Axes>"
            ]
          },
          "metadata": {
            "tags": []
          }
        }
      ]
    },
    {
      "cell_type": "markdown",
      "metadata": {
        "id": "SA9C-QlcJfOJ"
      },
      "source": [
        "#Data splitting\n",
        "\n",
        "Data splitting is done for univariate my_data"
      ]
    },
    {
      "cell_type": "code",
      "metadata": {
        "colab": {
          "base_uri": "https://localhost:8080/"
        },
        "id": "2APrWFPYJa9H",
        "outputId": "20ad716a-3aa7-439f-8421-2a5b5899aa1e"
      },
      "source": [
        "# 80-20 train-test percent split\n",
        "trainDataset= unimy_data.sample(frac=0.8, random_state=0)\n",
        "testDataset= unimy_data.drop(trainDataset.index)\n",
        "\n",
        "print(trainDataset.head())\n",
        "print(testDataset.head())"
      ],
      "execution_count": 12,
      "outputs": [
        {
          "output_type": "stream",
          "text": [
            "     math score  reading score\n",
            "993          62             72\n",
            "859          87             73\n",
            "298          40             46\n",
            "553          77             62\n",
            "672          69             78\n",
            "    math score  reading score\n",
            "9           38             60\n",
            "11          40             52\n",
            "19          54             58\n",
            "23          69             73\n",
            "28          70             70\n"
          ],
          "name": "stdout"
        }
      ]
    },
    {
      "cell_type": "code",
      "metadata": {
        "colab": {
          "base_uri": "https://localhost:8080/"
        },
        "id": "uttzWudBJoeD",
        "outputId": "c3a746de-c8dc-4d6c-83a7-22c86d0cbcd4"
      },
      "source": [
        "print(trainDataset.shape)\n",
        "print(testDataset.shape)"
      ],
      "execution_count": 13,
      "outputs": [
        {
          "output_type": "stream",
          "text": [
            "(800, 2)\n",
            "(200, 2)\n"
          ],
          "name": "stdout"
        }
      ]
    },
    {
      "cell_type": "code",
      "metadata": {
        "colab": {
          "base_uri": "https://localhost:8080/"
        },
        "id": "f9sI0rpLJrVp",
        "outputId": "08da7f2f-673e-4823-cd54-e3ed2ce1186a"
      },
      "source": [
        "# to copy the trainDataset dataframe for getting the features\n",
        "trainFeatures= trainDataset.copy()\n",
        "testFeatures= testDataset.copy()\n",
        "\n",
        "print(trainFeatures.head())\n",
        "print(testFeatures.head())"
      ],
      "execution_count": 14,
      "outputs": [
        {
          "output_type": "stream",
          "text": [
            "     math score  reading score\n",
            "993          62             72\n",
            "859          87             73\n",
            "298          40             46\n",
            "553          77             62\n",
            "672          69             78\n",
            "    math score  reading score\n",
            "9           38             60\n",
            "11          40             52\n",
            "19          54             58\n",
            "23          69             73\n",
            "28          70             70\n"
          ],
          "name": "stdout"
        }
      ]
    },
    {
      "cell_type": "code",
      "metadata": {
        "colab": {
          "base_uri": "https://localhost:8080/"
        },
        "id": "I6ipZTOqKWgg",
        "outputId": "bff458d6-a97d-46c3-f234-8267e0aeb3be"
      },
      "source": [
        "#To remove the math score column and saving it into the labels variables\n",
        "\n",
        "trainLabels = trainFeatures.pop('math score')\n",
        "testLabels = testFeatures.pop('math score')\n",
        "\n",
        "print(trainLabels.head())\n",
        "print(testLabels.head())"
      ],
      "execution_count": 19,
      "outputs": [
        {
          "output_type": "stream",
          "text": [
            "993    62\n",
            "859    87\n",
            "298    40\n",
            "553    77\n",
            "672    69\n",
            "Name: math score, dtype: int64\n",
            "9     38\n",
            "11    40\n",
            "19    54\n",
            "23    69\n",
            "28    70\n",
            "Name: math score, dtype: int64\n"
          ],
          "name": "stdout"
        }
      ]
    },
    {
      "cell_type": "code",
      "metadata": {
        "colab": {
          "base_uri": "https://localhost:8080/"
        },
        "id": "-1riEof2K393",
        "outputId": "11c37ee7-4518-40b2-eb42-e9ecf3ff7e20"
      },
      "source": [
        "print(trainFeatures.head())\n",
        "print(testFeatures.head())"
      ],
      "execution_count": 21,
      "outputs": [
        {
          "output_type": "stream",
          "text": [
            "     reading score\n",
            "993             72\n",
            "859             73\n",
            "298             46\n",
            "553             62\n",
            "672             78\n",
            "    reading score\n",
            "9              60\n",
            "11             52\n",
            "19             58\n",
            "23             73\n",
            "28             70\n"
          ],
          "name": "stdout"
        }
      ]
    },
    {
      "cell_type": "code",
      "metadata": {
        "colab": {
          "base_uri": "https://localhost:8080/"
        },
        "id": "g_HNBhRaK7tf",
        "outputId": "44e8a29a-7dab-458d-815d-b84afb0ca8ba"
      },
      "source": [
        "print(testFeatures.shape)\n",
        "print(trainFeatures.shape)"
      ],
      "execution_count": 22,
      "outputs": [
        {
          "output_type": "stream",
          "text": [
            "(200, 1)\n",
            "(800, 1)\n"
          ],
          "name": "stdout"
        }
      ]
    },
    {
      "cell_type": "code",
      "metadata": {
        "id": "--KlXQ8WJtyj"
      },
      "source": [
        "# For univariate -- Num features = 1\n",
        "# for multivariate -- Num Features> 1 = 11\n",
        "\n",
        "model = tf.keras.Sequential([\n",
        "                           tf.keras.layers.Dense(1)\n",
        "])"
      ],
      "execution_count": 15,
      "outputs": []
    },
    {
      "cell_type": "code",
      "metadata": {
        "id": "cBRvhzfJJwst"
      },
      "source": [
        "model.compile(\n",
        "    loss = 'mean_absolute_error', #minimizing the MAE loss\n",
        "    optimizer = tf.keras.optimizers.Adam(0.001) #learning rate specified as 0.001\n",
        "    #optimizer = 'adam', # takes the default learning rate\n",
        "    ,metrics = ['mae','mse']  \n",
        ")"
      ],
      "execution_count": 16,
      "outputs": []
    },
    {
      "cell_type": "code",
      "metadata": {
        "colab": {
          "base_uri": "https://localhost:8080/"
        },
        "id": "15PKzb9YJ14O",
        "outputId": "91a8cad4-4c70-4917-f07d-5da81a4bdb40"
      },
      "source": [
        "numEpochs = 300\n",
        "history = model.fit(x=trainFeatures, y=trainLabels, validation_data=(testFeatures, testLabels), epochs= numEpochs)"
      ],
      "execution_count": 20,
      "outputs": [
        {
          "output_type": "stream",
          "text": [
            "Epoch 1/300\n",
            "25/25 [==============================] - 1s 9ms/step - loss: 11.3634 - mae: 11.3634 - mse: 183.9161 - val_loss: 10.5168 - val_mae: 10.5168 - val_mse: 157.9699\n",
            "Epoch 2/300\n",
            "25/25 [==============================] - 0s 3ms/step - loss: 10.1049 - mae: 10.1049 - mse: 151.3403 - val_loss: 9.4286 - val_mae: 9.4286 - val_mse: 130.8339\n",
            "Epoch 3/300\n",
            "25/25 [==============================] - 0s 2ms/step - loss: 9.0876 - mae: 9.0876 - mse: 126.3319 - val_loss: 8.5673 - val_mae: 8.5673 - val_mse: 111.0556\n",
            "Epoch 4/300\n",
            "25/25 [==============================] - 0s 2ms/step - loss: 8.4223 - mae: 8.4223 - mse: 109.1781 - val_loss: 7.9574 - val_mae: 7.9574 - val_mse: 97.2387\n",
            "Epoch 5/300\n",
            "25/25 [==============================] - 0s 2ms/step - loss: 7.9395 - mae: 7.9395 - mse: 97.0845 - val_loss: 7.5478 - val_mae: 7.5478 - val_mse: 88.6679\n",
            "Epoch 6/300\n",
            "25/25 [==============================] - 0s 2ms/step - loss: 7.6498 - mae: 7.6498 - mse: 89.6800 - val_loss: 7.2822 - val_mae: 7.2822 - val_mse: 83.2014\n",
            "Epoch 7/300\n",
            "25/25 [==============================] - 0s 3ms/step - loss: 7.4486 - mae: 7.4486 - mse: 85.0286 - val_loss: 7.1302 - val_mae: 7.1302 - val_mse: 79.6736\n",
            "Epoch 8/300\n",
            "25/25 [==============================] - 0s 2ms/step - loss: 7.3272 - mae: 7.3272 - mse: 82.0928 - val_loss: 7.0682 - val_mae: 7.0682 - val_mse: 77.9501\n",
            "Epoch 9/300\n",
            "25/25 [==============================] - 0s 2ms/step - loss: 7.2734 - mae: 7.2734 - mse: 80.6165 - val_loss: 7.0329 - val_mae: 7.0329 - val_mse: 76.9392\n",
            "Epoch 10/300\n",
            "25/25 [==============================] - 0s 3ms/step - loss: 7.2490 - mae: 7.2490 - mse: 79.8604 - val_loss: 7.0174 - val_mae: 7.0174 - val_mse: 76.3818\n",
            "Epoch 11/300\n",
            "25/25 [==============================] - 0s 2ms/step - loss: 7.2353 - mae: 7.2353 - mse: 79.5118 - val_loss: 7.0156 - val_mae: 7.0156 - val_mse: 76.3194\n",
            "Epoch 12/300\n",
            "25/25 [==============================] - 0s 3ms/step - loss: 7.2320 - mae: 7.2320 - mse: 79.2969 - val_loss: 7.0112 - val_mae: 7.0112 - val_mse: 76.0870\n",
            "Epoch 13/300\n",
            "25/25 [==============================] - 0s 2ms/step - loss: 7.2289 - mae: 7.2289 - mse: 79.1855 - val_loss: 7.0110 - val_mae: 7.0110 - val_mse: 76.0433\n",
            "Epoch 14/300\n",
            "25/25 [==============================] - 0s 2ms/step - loss: 7.2280 - mae: 7.2280 - mse: 79.1321 - val_loss: 7.0109 - val_mae: 7.0109 - val_mse: 76.0414\n",
            "Epoch 15/300\n",
            "25/25 [==============================] - 0s 2ms/step - loss: 7.2285 - mae: 7.2285 - mse: 79.1531 - val_loss: 7.0109 - val_mae: 7.0109 - val_mse: 76.0337\n",
            "Epoch 16/300\n",
            "25/25 [==============================] - 0s 2ms/step - loss: 7.2275 - mae: 7.2275 - mse: 79.0885 - val_loss: 7.0112 - val_mae: 7.0112 - val_mse: 75.9784\n",
            "Epoch 17/300\n",
            "25/25 [==============================] - 0s 2ms/step - loss: 7.2298 - mae: 7.2298 - mse: 79.1268 - val_loss: 7.0109 - val_mae: 7.0109 - val_mse: 76.0131\n",
            "Epoch 18/300\n",
            "25/25 [==============================] - 0s 2ms/step - loss: 7.2271 - mae: 7.2271 - mse: 79.0634 - val_loss: 7.0115 - val_mae: 7.0115 - val_mse: 75.9547\n",
            "Epoch 19/300\n",
            "25/25 [==============================] - 0s 2ms/step - loss: 7.2270 - mae: 7.2270 - mse: 79.0406 - val_loss: 7.0111 - val_mae: 7.0111 - val_mse: 75.9676\n",
            "Epoch 20/300\n",
            "25/25 [==============================] - 0s 3ms/step - loss: 7.2274 - mae: 7.2274 - mse: 79.0315 - val_loss: 7.0116 - val_mae: 7.0116 - val_mse: 75.9463\n",
            "Epoch 21/300\n",
            "25/25 [==============================] - 0s 2ms/step - loss: 7.2282 - mae: 7.2282 - mse: 79.0501 - val_loss: 7.0108 - val_mae: 7.0108 - val_mse: 75.9783\n",
            "Epoch 22/300\n",
            "25/25 [==============================] - 0s 3ms/step - loss: 7.2283 - mae: 7.2283 - mse: 79.0255 - val_loss: 7.0117 - val_mae: 7.0117 - val_mse: 75.9377\n",
            "Epoch 23/300\n",
            "25/25 [==============================] - 0s 2ms/step - loss: 7.2281 - mae: 7.2281 - mse: 79.0531 - val_loss: 7.0107 - val_mae: 7.0107 - val_mse: 75.9724\n",
            "Epoch 24/300\n",
            "25/25 [==============================] - 0s 2ms/step - loss: 7.2269 - mae: 7.2269 - mse: 79.0580 - val_loss: 7.0107 - val_mae: 7.0107 - val_mse: 75.9698\n",
            "Epoch 25/300\n",
            "25/25 [==============================] - 0s 2ms/step - loss: 7.2274 - mae: 7.2274 - mse: 79.0600 - val_loss: 7.0106 - val_mae: 7.0106 - val_mse: 75.9712\n",
            "Epoch 26/300\n",
            "25/25 [==============================] - 0s 3ms/step - loss: 7.2281 - mae: 7.2281 - mse: 79.0893 - val_loss: 7.0107 - val_mae: 7.0107 - val_mse: 75.9512\n",
            "Epoch 27/300\n",
            "25/25 [==============================] - 0s 3ms/step - loss: 7.2268 - mae: 7.2268 - mse: 79.0390 - val_loss: 7.0104 - val_mae: 7.0104 - val_mse: 75.9619\n",
            "Epoch 28/300\n",
            "25/25 [==============================] - 0s 2ms/step - loss: 7.2275 - mae: 7.2275 - mse: 79.0521 - val_loss: 7.0102 - val_mae: 7.0102 - val_mse: 75.9803\n",
            "Epoch 29/300\n",
            "25/25 [==============================] - 0s 2ms/step - loss: 7.2325 - mae: 7.2325 - mse: 79.0892 - val_loss: 7.0118 - val_mae: 7.0118 - val_mse: 75.9185\n",
            "Epoch 30/300\n",
            "25/25 [==============================] - 0s 2ms/step - loss: 7.2284 - mae: 7.2284 - mse: 79.0622 - val_loss: 7.0101 - val_mae: 7.0101 - val_mse: 75.9723\n",
            "Epoch 31/300\n",
            "25/25 [==============================] - 0s 3ms/step - loss: 7.2284 - mae: 7.2284 - mse: 79.0921 - val_loss: 7.0097 - val_mae: 7.0097 - val_mse: 75.9978\n",
            "Epoch 32/300\n",
            "25/25 [==============================] - 0s 3ms/step - loss: 7.2270 - mae: 7.2270 - mse: 79.0576 - val_loss: 7.0101 - val_mae: 7.0101 - val_mse: 75.9454\n",
            "Epoch 33/300\n",
            "25/25 [==============================] - 0s 3ms/step - loss: 7.2301 - mae: 7.2301 - mse: 79.0650 - val_loss: 7.0108 - val_mae: 7.0108 - val_mse: 75.9245\n",
            "Epoch 34/300\n",
            "25/25 [==============================] - 0s 2ms/step - loss: 7.2263 - mae: 7.2263 - mse: 79.0311 - val_loss: 7.0098 - val_mae: 7.0098 - val_mse: 75.9579\n",
            "Epoch 35/300\n",
            "25/25 [==============================] - 0s 2ms/step - loss: 7.2262 - mae: 7.2262 - mse: 79.0412 - val_loss: 7.0097 - val_mae: 7.0097 - val_mse: 75.9578\n",
            "Epoch 36/300\n",
            "25/25 [==============================] - 0s 3ms/step - loss: 7.2272 - mae: 7.2272 - mse: 79.0334 - val_loss: 7.0102 - val_mae: 7.0102 - val_mse: 75.9266\n",
            "Epoch 37/300\n",
            "25/25 [==============================] - 0s 3ms/step - loss: 7.2260 - mae: 7.2260 - mse: 79.0203 - val_loss: 7.0095 - val_mae: 7.0095 - val_mse: 75.9543\n",
            "Epoch 38/300\n",
            "25/25 [==============================] - 0s 3ms/step - loss: 7.2268 - mae: 7.2268 - mse: 79.0472 - val_loss: 7.0092 - val_mae: 7.0092 - val_mse: 75.9682\n",
            "Epoch 39/300\n",
            "25/25 [==============================] - 0s 2ms/step - loss: 7.2267 - mae: 7.2267 - mse: 79.0073 - val_loss: 7.0098 - val_mae: 7.0098 - val_mse: 75.9239\n",
            "Epoch 40/300\n",
            "25/25 [==============================] - 0s 3ms/step - loss: 7.2264 - mae: 7.2264 - mse: 79.0297 - val_loss: 7.0091 - val_mae: 7.0091 - val_mse: 75.9636\n",
            "Epoch 41/300\n",
            "25/25 [==============================] - 0s 2ms/step - loss: 7.2278 - mae: 7.2278 - mse: 78.9688 - val_loss: 7.0103 - val_mae: 7.0103 - val_mse: 75.9059\n",
            "Epoch 42/300\n",
            "25/25 [==============================] - 0s 3ms/step - loss: 7.2253 - mae: 7.2253 - mse: 78.9824 - val_loss: 7.0095 - val_mae: 7.0095 - val_mse: 75.9212\n",
            "Epoch 43/300\n",
            "25/25 [==============================] - 0s 2ms/step - loss: 7.2258 - mae: 7.2258 - mse: 78.9798 - val_loss: 7.0093 - val_mae: 7.0093 - val_mse: 75.9204\n",
            "Epoch 44/300\n",
            "25/25 [==============================] - 0s 2ms/step - loss: 7.2266 - mae: 7.2266 - mse: 79.0000 - val_loss: 7.0096 - val_mae: 7.0096 - val_mse: 75.9094\n",
            "Epoch 45/300\n",
            "25/25 [==============================] - 0s 2ms/step - loss: 7.2272 - mae: 7.2272 - mse: 79.0202 - val_loss: 7.0096 - val_mae: 7.0096 - val_mse: 75.9074\n",
            "Epoch 46/300\n",
            "25/25 [==============================] - 0s 2ms/step - loss: 7.2274 - mae: 7.2274 - mse: 78.9880 - val_loss: 7.0090 - val_mae: 7.0090 - val_mse: 75.9167\n",
            "Epoch 47/300\n",
            "25/25 [==============================] - 0s 2ms/step - loss: 7.2256 - mae: 7.2256 - mse: 79.0595 - val_loss: 7.0080 - val_mae: 7.0080 - val_mse: 75.9965\n",
            "Epoch 48/300\n",
            "25/25 [==============================] - 0s 2ms/step - loss: 7.2273 - mae: 7.2273 - mse: 79.1549 - val_loss: 7.0080 - val_mae: 7.0080 - val_mse: 76.0295\n",
            "Epoch 49/300\n",
            "25/25 [==============================] - 0s 2ms/step - loss: 7.2249 - mae: 7.2249 - mse: 79.1197 - val_loss: 7.0082 - val_mae: 7.0082 - val_mse: 75.9448\n",
            "Epoch 50/300\n",
            "25/25 [==============================] - 0s 2ms/step - loss: 7.2248 - mae: 7.2248 - mse: 79.0177 - val_loss: 7.0089 - val_mae: 7.0089 - val_mse: 75.9018\n",
            "Epoch 51/300\n",
            "25/25 [==============================] - 0s 3ms/step - loss: 7.2279 - mae: 7.2279 - mse: 79.0426 - val_loss: 7.0082 - val_mae: 7.0082 - val_mse: 75.9212\n",
            "Epoch 52/300\n",
            "25/25 [==============================] - 0s 2ms/step - loss: 7.2267 - mae: 7.2267 - mse: 78.9590 - val_loss: 7.0094 - val_mae: 7.0094 - val_mse: 75.8843\n",
            "Epoch 53/300\n",
            "25/25 [==============================] - 0s 2ms/step - loss: 7.2270 - mae: 7.2270 - mse: 78.9445 - val_loss: 7.0088 - val_mae: 7.0088 - val_mse: 75.8917\n",
            "Epoch 54/300\n",
            "25/25 [==============================] - 0s 3ms/step - loss: 7.2250 - mae: 7.2250 - mse: 78.9705 - val_loss: 7.0089 - val_mae: 7.0089 - val_mse: 75.8864\n",
            "Epoch 55/300\n",
            "25/25 [==============================] - 0s 2ms/step - loss: 7.2288 - mae: 7.2288 - mse: 78.9692 - val_loss: 7.0097 - val_mae: 7.0097 - val_mse: 75.8724\n",
            "Epoch 56/300\n",
            "25/25 [==============================] - 0s 3ms/step - loss: 7.2265 - mae: 7.2265 - mse: 78.9825 - val_loss: 7.0086 - val_mae: 7.0086 - val_mse: 75.8851\n",
            "Epoch 57/300\n",
            "25/25 [==============================] - 0s 3ms/step - loss: 7.2242 - mae: 7.2242 - mse: 78.9628 - val_loss: 7.0077 - val_mae: 7.0077 - val_mse: 75.9014\n",
            "Epoch 58/300\n",
            "25/25 [==============================] - 0s 2ms/step - loss: 7.2262 - mae: 7.2262 - mse: 79.0726 - val_loss: 7.0068 - val_mae: 7.0068 - val_mse: 75.9872\n",
            "Epoch 59/300\n",
            "25/25 [==============================] - 0s 2ms/step - loss: 7.2277 - mae: 7.2277 - mse: 79.0479 - val_loss: 7.0073 - val_mae: 7.0073 - val_mse: 75.9088\n",
            "Epoch 60/300\n",
            "25/25 [==============================] - 0s 2ms/step - loss: 7.2254 - mae: 7.2254 - mse: 79.0264 - val_loss: 7.0072 - val_mae: 7.0072 - val_mse: 75.9028\n",
            "Epoch 61/300\n",
            "25/25 [==============================] - 0s 3ms/step - loss: 7.2247 - mae: 7.2247 - mse: 78.9840 - val_loss: 7.0070 - val_mae: 7.0070 - val_mse: 75.9086\n",
            "Epoch 62/300\n",
            "25/25 [==============================] - 0s 3ms/step - loss: 7.2268 - mae: 7.2268 - mse: 78.9584 - val_loss: 7.0087 - val_mae: 7.0087 - val_mse: 75.8619\n",
            "Epoch 63/300\n",
            "25/25 [==============================] - 0s 3ms/step - loss: 7.2237 - mae: 7.2237 - mse: 78.9551 - val_loss: 7.0075 - val_mae: 7.0075 - val_mse: 75.8785\n",
            "Epoch 64/300\n",
            "25/25 [==============================] - 0s 3ms/step - loss: 7.2247 - mae: 7.2247 - mse: 78.9952 - val_loss: 7.0067 - val_mae: 7.0067 - val_mse: 75.9007\n",
            "Epoch 65/300\n",
            "25/25 [==============================] - 0s 2ms/step - loss: 7.2257 - mae: 7.2257 - mse: 79.0080 - val_loss: 7.0073 - val_mae: 7.0073 - val_mse: 75.8762\n",
            "Epoch 66/300\n",
            "25/25 [==============================] - 0s 2ms/step - loss: 7.2243 - mae: 7.2243 - mse: 78.9814 - val_loss: 7.0065 - val_mae: 7.0065 - val_mse: 75.8930\n",
            "Epoch 67/300\n",
            "25/25 [==============================] - 0s 2ms/step - loss: 7.2261 - mae: 7.2261 - mse: 79.0335 - val_loss: 7.0060 - val_mae: 7.0060 - val_mse: 75.9321\n",
            "Epoch 68/300\n",
            "25/25 [==============================] - 0s 2ms/step - loss: 7.2278 - mae: 7.2278 - mse: 78.9568 - val_loss: 7.0070 - val_mae: 7.0070 - val_mse: 75.8698\n",
            "Epoch 69/300\n",
            "25/25 [==============================] - 0s 2ms/step - loss: 7.2232 - mae: 7.2232 - mse: 78.9369 - val_loss: 7.0061 - val_mae: 7.0061 - val_mse: 75.8916\n",
            "Epoch 70/300\n",
            "25/25 [==============================] - 0s 2ms/step - loss: 7.2241 - mae: 7.2241 - mse: 78.9622 - val_loss: 7.0071 - val_mae: 7.0071 - val_mse: 75.8583\n",
            "Epoch 71/300\n",
            "25/25 [==============================] - 0s 2ms/step - loss: 7.2227 - mae: 7.2227 - mse: 78.9162 - val_loss: 7.0063 - val_mae: 7.0063 - val_mse: 75.8732\n",
            "Epoch 72/300\n",
            "25/25 [==============================] - 0s 3ms/step - loss: 7.2229 - mae: 7.2229 - mse: 78.9515 - val_loss: 7.0054 - val_mae: 7.0054 - val_mse: 75.9199\n",
            "Epoch 73/300\n",
            "25/25 [==============================] - 0s 3ms/step - loss: 7.2236 - mae: 7.2236 - mse: 79.0107 - val_loss: 7.0054 - val_mae: 7.0054 - val_mse: 75.9044\n",
            "Epoch 74/300\n",
            "25/25 [==============================] - 0s 3ms/step - loss: 7.2231 - mae: 7.2231 - mse: 78.9398 - val_loss: 7.0060 - val_mae: 7.0060 - val_mse: 75.8664\n",
            "Epoch 75/300\n",
            "25/25 [==============================] - 0s 2ms/step - loss: 7.2245 - mae: 7.2245 - mse: 79.0324 - val_loss: 7.0050 - val_mae: 7.0050 - val_mse: 75.9268\n",
            "Epoch 76/300\n",
            "25/25 [==============================] - 0s 2ms/step - loss: 7.2232 - mae: 7.2232 - mse: 78.9757 - val_loss: 7.0053 - val_mae: 7.0053 - val_mse: 75.8755\n",
            "Epoch 77/300\n",
            "25/25 [==============================] - 0s 2ms/step - loss: 7.2241 - mae: 7.2241 - mse: 78.9329 - val_loss: 7.0053 - val_mae: 7.0053 - val_mse: 75.8711\n",
            "Epoch 78/300\n",
            "25/25 [==============================] - 0s 2ms/step - loss: 7.2254 - mae: 7.2254 - mse: 79.0314 - val_loss: 7.0048 - val_mae: 7.0048 - val_mse: 75.8958\n",
            "Epoch 79/300\n",
            "25/25 [==============================] - 0s 2ms/step - loss: 7.2259 - mae: 7.2259 - mse: 78.9349 - val_loss: 7.0061 - val_mae: 7.0061 - val_mse: 75.8394\n",
            "Epoch 80/300\n",
            "25/25 [==============================] - 0s 2ms/step - loss: 7.2228 - mae: 7.2228 - mse: 78.9248 - val_loss: 7.0054 - val_mae: 7.0054 - val_mse: 75.8502\n",
            "Epoch 81/300\n",
            "25/25 [==============================] - 0s 2ms/step - loss: 7.2275 - mae: 7.2275 - mse: 78.9971 - val_loss: 7.0065 - val_mae: 7.0065 - val_mse: 75.8257\n",
            "Epoch 82/300\n",
            "25/25 [==============================] - 0s 2ms/step - loss: 7.2215 - mae: 7.2215 - mse: 78.9098 - val_loss: 7.0051 - val_mae: 7.0051 - val_mse: 75.8502\n",
            "Epoch 83/300\n",
            "25/25 [==============================] - 0s 2ms/step - loss: 7.2282 - mae: 7.2282 - mse: 79.0891 - val_loss: 7.0041 - val_mae: 7.0041 - val_mse: 75.8959\n",
            "Epoch 84/300\n",
            "25/25 [==============================] - 0s 3ms/step - loss: 7.2219 - mae: 7.2219 - mse: 78.9432 - val_loss: 7.0059 - val_mae: 7.0059 - val_mse: 75.8231\n",
            "Epoch 85/300\n",
            "25/25 [==============================] - 0s 2ms/step - loss: 7.2249 - mae: 7.2249 - mse: 78.9369 - val_loss: 7.0044 - val_mae: 7.0044 - val_mse: 75.8534\n",
            "Epoch 86/300\n",
            "25/25 [==============================] - 0s 2ms/step - loss: 7.2237 - mae: 7.2237 - mse: 78.9031 - val_loss: 7.0054 - val_mae: 7.0054 - val_mse: 75.8234\n",
            "Epoch 87/300\n",
            "25/25 [==============================] - 0s 2ms/step - loss: 7.2246 - mae: 7.2246 - mse: 78.9656 - val_loss: 7.0037 - val_mae: 7.0037 - val_mse: 75.8810\n",
            "Epoch 88/300\n",
            "25/25 [==============================] - 0s 2ms/step - loss: 7.2236 - mae: 7.2236 - mse: 78.8894 - val_loss: 7.0059 - val_mae: 7.0059 - val_mse: 75.8097\n",
            "Epoch 89/300\n",
            "25/25 [==============================] - 0s 3ms/step - loss: 7.2238 - mae: 7.2238 - mse: 78.8825 - val_loss: 7.0052 - val_mae: 7.0052 - val_mse: 75.8155\n",
            "Epoch 90/300\n",
            "25/25 [==============================] - 0s 2ms/step - loss: 7.2217 - mae: 7.2217 - mse: 78.9072 - val_loss: 7.0036 - val_mae: 7.0036 - val_mse: 75.8515\n",
            "Epoch 91/300\n",
            "25/25 [==============================] - 0s 2ms/step - loss: 7.2216 - mae: 7.2216 - mse: 78.9141 - val_loss: 7.0040 - val_mae: 7.0040 - val_mse: 75.8328\n",
            "Epoch 92/300\n",
            "25/25 [==============================] - 0s 2ms/step - loss: 7.2209 - mae: 7.2209 - mse: 78.9126 - val_loss: 7.0032 - val_mae: 7.0032 - val_mse: 75.8524\n",
            "Epoch 93/300\n",
            "25/25 [==============================] - 0s 2ms/step - loss: 7.2221 - mae: 7.2221 - mse: 78.9523 - val_loss: 7.0034 - val_mae: 7.0034 - val_mse: 75.8367\n",
            "Epoch 94/300\n",
            "25/25 [==============================] - 0s 3ms/step - loss: 7.2246 - mae: 7.2246 - mse: 79.0077 - val_loss: 7.0029 - val_mae: 7.0029 - val_mse: 75.8539\n",
            "Epoch 95/300\n",
            "25/25 [==============================] - 0s 2ms/step - loss: 7.2207 - mae: 7.2207 - mse: 78.8862 - val_loss: 7.0040 - val_mae: 7.0040 - val_mse: 75.8120\n",
            "Epoch 96/300\n",
            "25/25 [==============================] - 0s 2ms/step - loss: 7.2211 - mae: 7.2211 - mse: 78.8866 - val_loss: 7.0035 - val_mae: 7.0035 - val_mse: 75.8186\n",
            "Epoch 97/300\n",
            "25/25 [==============================] - 0s 2ms/step - loss: 7.2223 - mae: 7.2223 - mse: 78.9263 - val_loss: 7.0038 - val_mae: 7.0038 - val_mse: 75.8077\n",
            "Epoch 98/300\n",
            "25/25 [==============================] - 0s 2ms/step - loss: 7.2235 - mae: 7.2235 - mse: 78.9365 - val_loss: 7.0023 - val_mae: 7.0023 - val_mse: 75.8510\n",
            "Epoch 99/300\n",
            "25/25 [==============================] - 0s 3ms/step - loss: 7.2204 - mae: 7.2204 - mse: 78.8911 - val_loss: 7.0041 - val_mae: 7.0041 - val_mse: 75.7926\n",
            "Epoch 100/300\n",
            "25/25 [==============================] - 0s 2ms/step - loss: 7.2216 - mae: 7.2216 - mse: 78.8736 - val_loss: 7.0045 - val_mae: 7.0045 - val_mse: 75.7855\n",
            "Epoch 101/300\n",
            "25/25 [==============================] - 0s 2ms/step - loss: 7.2217 - mae: 7.2217 - mse: 78.8302 - val_loss: 7.0024 - val_mae: 7.0024 - val_mse: 75.8232\n",
            "Epoch 102/300\n",
            "25/25 [==============================] - 0s 3ms/step - loss: 7.2238 - mae: 7.2238 - mse: 78.9012 - val_loss: 7.0035 - val_mae: 7.0035 - val_mse: 75.7913\n",
            "Epoch 103/300\n",
            "25/25 [==============================] - 0s 2ms/step - loss: 7.2253 - mae: 7.2253 - mse: 78.9566 - val_loss: 7.0015 - val_mae: 7.0015 - val_mse: 75.8683\n",
            "Epoch 104/300\n",
            "25/25 [==============================] - 0s 2ms/step - loss: 7.2214 - mae: 7.2214 - mse: 78.9338 - val_loss: 7.0015 - val_mae: 7.0015 - val_mse: 75.8475\n",
            "Epoch 105/300\n",
            "25/25 [==============================] - 0s 2ms/step - loss: 7.2234 - mae: 7.2234 - mse: 78.8499 - val_loss: 7.0037 - val_mae: 7.0037 - val_mse: 75.7773\n",
            "Epoch 106/300\n",
            "25/25 [==============================] - 0s 2ms/step - loss: 7.2193 - mae: 7.2193 - mse: 78.8514 - val_loss: 7.0016 - val_mae: 7.0016 - val_mse: 75.8208\n",
            "Epoch 107/300\n",
            "25/25 [==============================] - 0s 2ms/step - loss: 7.2223 - mae: 7.2223 - mse: 78.8941 - val_loss: 7.0018 - val_mae: 7.0018 - val_mse: 75.8088\n",
            "Epoch 108/300\n",
            "25/25 [==============================] - 0s 3ms/step - loss: 7.2222 - mae: 7.2222 - mse: 78.9477 - val_loss: 7.0017 - val_mae: 7.0017 - val_mse: 75.8056\n",
            "Epoch 109/300\n",
            "25/25 [==============================] - 0s 3ms/step - loss: 7.2220 - mae: 7.2220 - mse: 78.8744 - val_loss: 7.0021 - val_mae: 7.0021 - val_mse: 75.7887\n",
            "Epoch 110/300\n",
            "25/25 [==============================] - 0s 2ms/step - loss: 7.2206 - mae: 7.2206 - mse: 78.8924 - val_loss: 7.0005 - val_mae: 7.0005 - val_mse: 75.8557\n",
            "Epoch 111/300\n",
            "25/25 [==============================] - 0s 3ms/step - loss: 7.2249 - mae: 7.2249 - mse: 78.9448 - val_loss: 7.0018 - val_mae: 7.0018 - val_mse: 75.7850\n",
            "Epoch 112/300\n",
            "25/25 [==============================] - 0s 2ms/step - loss: 7.2192 - mae: 7.2192 - mse: 78.8476 - val_loss: 7.0015 - val_mae: 7.0015 - val_mse: 75.7875\n",
            "Epoch 113/300\n",
            "25/25 [==============================] - 0s 3ms/step - loss: 7.2190 - mae: 7.2190 - mse: 78.8768 - val_loss: 7.0007 - val_mae: 7.0007 - val_mse: 75.8093\n",
            "Epoch 114/300\n",
            "25/25 [==============================] - 0s 2ms/step - loss: 7.2198 - mae: 7.2198 - mse: 78.8812 - val_loss: 7.0002 - val_mae: 7.0002 - val_mse: 75.8260\n",
            "Epoch 115/300\n",
            "25/25 [==============================] - 0s 3ms/step - loss: 7.2203 - mae: 7.2203 - mse: 78.9268 - val_loss: 7.0007 - val_mae: 7.0007 - val_mse: 75.7965\n",
            "Epoch 116/300\n",
            "25/25 [==============================] - 0s 2ms/step - loss: 7.2195 - mae: 7.2195 - mse: 78.8237 - val_loss: 7.0021 - val_mae: 7.0021 - val_mse: 75.7576\n",
            "Epoch 117/300\n",
            "25/25 [==============================] - 0s 3ms/step - loss: 7.2188 - mae: 7.2188 - mse: 78.8293 - val_loss: 7.0014 - val_mae: 7.0014 - val_mse: 75.7671\n",
            "Epoch 118/300\n",
            "25/25 [==============================] - 0s 2ms/step - loss: 7.2201 - mae: 7.2201 - mse: 78.9095 - val_loss: 7.0001 - val_mae: 7.0001 - val_mse: 75.7985\n",
            "Epoch 119/300\n",
            "25/25 [==============================] - 0s 2ms/step - loss: 7.2233 - mae: 7.2233 - mse: 78.8391 - val_loss: 7.0016 - val_mae: 7.0016 - val_mse: 75.7545\n",
            "Epoch 120/300\n",
            "25/25 [==============================] - 0s 2ms/step - loss: 7.2180 - mae: 7.2180 - mse: 78.8097 - val_loss: 7.0006 - val_mae: 7.0006 - val_mse: 75.7713\n",
            "Epoch 121/300\n",
            "25/25 [==============================] - 0s 3ms/step - loss: 7.2205 - mae: 7.2205 - mse: 78.8472 - val_loss: 6.9998 - val_mae: 6.9998 - val_mse: 75.7879\n",
            "Epoch 122/300\n",
            "25/25 [==============================] - 0s 3ms/step - loss: 7.2180 - mae: 7.2180 - mse: 78.8606 - val_loss: 6.9995 - val_mae: 6.9995 - val_mse: 75.7914\n",
            "Epoch 123/300\n",
            "25/25 [==============================] - 0s 3ms/step - loss: 7.2185 - mae: 7.2185 - mse: 78.8552 - val_loss: 6.9996 - val_mae: 6.9996 - val_mse: 75.7830\n",
            "Epoch 124/300\n",
            "25/25 [==============================] - 0s 2ms/step - loss: 7.2189 - mae: 7.2189 - mse: 78.8255 - val_loss: 7.0006 - val_mae: 7.0006 - val_mse: 75.7507\n",
            "Epoch 125/300\n",
            "25/25 [==============================] - 0s 2ms/step - loss: 7.2185 - mae: 7.2185 - mse: 78.8452 - val_loss: 6.9996 - val_mae: 6.9996 - val_mse: 75.7715\n",
            "Epoch 126/300\n",
            "25/25 [==============================] - 0s 3ms/step - loss: 7.2199 - mae: 7.2199 - mse: 78.8672 - val_loss: 6.9993 - val_mae: 6.9993 - val_mse: 75.7749\n",
            "Epoch 127/300\n",
            "25/25 [==============================] - 0s 3ms/step - loss: 7.2186 - mae: 7.2186 - mse: 78.8150 - val_loss: 7.0011 - val_mae: 7.0011 - val_mse: 75.7323\n",
            "Epoch 128/300\n",
            "25/25 [==============================] - 0s 2ms/step - loss: 7.2205 - mae: 7.2205 - mse: 78.8059 - val_loss: 7.0003 - val_mae: 7.0003 - val_mse: 75.7392\n",
            "Epoch 129/300\n",
            "25/25 [==============================] - 0s 2ms/step - loss: 7.2269 - mae: 7.2269 - mse: 79.0668 - val_loss: 6.9981 - val_mae: 6.9981 - val_mse: 75.8246\n",
            "Epoch 130/300\n",
            "25/25 [==============================] - 0s 3ms/step - loss: 7.2184 - mae: 7.2184 - mse: 78.9173 - val_loss: 6.9988 - val_mae: 6.9988 - val_mse: 75.7668\n",
            "Epoch 131/300\n",
            "25/25 [==============================] - 0s 3ms/step - loss: 7.2169 - mae: 7.2169 - mse: 78.8264 - val_loss: 6.9999 - val_mae: 6.9999 - val_mse: 75.7344\n",
            "Epoch 132/300\n",
            "25/25 [==============================] - 0s 2ms/step - loss: 7.2177 - mae: 7.2177 - mse: 78.7612 - val_loss: 7.0007 - val_mae: 7.0007 - val_mse: 75.7206\n",
            "Epoch 133/300\n",
            "25/25 [==============================] - 0s 2ms/step - loss: 7.2164 - mae: 7.2164 - mse: 78.7752 - val_loss: 6.9997 - val_mae: 6.9997 - val_mse: 75.7293\n",
            "Epoch 134/300\n",
            "25/25 [==============================] - 0s 3ms/step - loss: 7.2175 - mae: 7.2175 - mse: 78.8538 - val_loss: 6.9987 - val_mae: 6.9987 - val_mse: 75.7489\n",
            "Epoch 135/300\n",
            "25/25 [==============================] - 0s 2ms/step - loss: 7.2184 - mae: 7.2184 - mse: 78.8159 - val_loss: 6.9996 - val_mae: 6.9996 - val_mse: 75.7239\n",
            "Epoch 136/300\n",
            "25/25 [==============================] - 0s 2ms/step - loss: 7.2185 - mae: 7.2185 - mse: 78.7807 - val_loss: 6.9997 - val_mae: 6.9997 - val_mse: 75.7174\n",
            "Epoch 137/300\n",
            "25/25 [==============================] - 0s 2ms/step - loss: 7.2199 - mae: 7.2199 - mse: 78.8677 - val_loss: 6.9975 - val_mae: 6.9975 - val_mse: 75.7690\n",
            "Epoch 138/300\n",
            "25/25 [==============================] - 0s 3ms/step - loss: 7.2171 - mae: 7.2171 - mse: 78.8482 - val_loss: 6.9975 - val_mae: 6.9975 - val_mse: 75.7608\n",
            "Epoch 139/300\n",
            "25/25 [==============================] - 0s 2ms/step - loss: 7.2165 - mae: 7.2165 - mse: 78.8195 - val_loss: 6.9977 - val_mae: 6.9977 - val_mse: 75.7500\n",
            "Epoch 140/300\n",
            "25/25 [==============================] - 0s 2ms/step - loss: 7.2192 - mae: 7.2192 - mse: 78.7842 - val_loss: 6.9988 - val_mae: 6.9988 - val_mse: 75.7152\n",
            "Epoch 141/300\n",
            "25/25 [==============================] - 0s 2ms/step - loss: 7.2177 - mae: 7.2177 - mse: 78.7682 - val_loss: 6.9990 - val_mae: 6.9990 - val_mse: 75.7091\n",
            "Epoch 142/300\n",
            "25/25 [==============================] - 0s 2ms/step - loss: 7.2188 - mae: 7.2188 - mse: 78.8498 - val_loss: 6.9967 - val_mae: 6.9967 - val_mse: 75.7687\n",
            "Epoch 143/300\n",
            "25/25 [==============================] - 0s 2ms/step - loss: 7.2166 - mae: 7.2166 - mse: 78.8096 - val_loss: 6.9980 - val_mae: 6.9980 - val_mse: 75.7207\n",
            "Epoch 144/300\n",
            "25/25 [==============================] - 0s 3ms/step - loss: 7.2171 - mae: 7.2171 - mse: 78.8464 - val_loss: 6.9972 - val_mae: 6.9972 - val_mse: 75.7377\n",
            "Epoch 145/300\n",
            "25/25 [==============================] - 0s 2ms/step - loss: 7.2179 - mae: 7.2179 - mse: 78.8041 - val_loss: 6.9984 - val_mae: 6.9984 - val_mse: 75.7028\n",
            "Epoch 146/300\n",
            "25/25 [==============================] - 0s 3ms/step - loss: 7.2199 - mae: 7.2199 - mse: 78.8662 - val_loss: 6.9972 - val_mae: 6.9972 - val_mse: 75.7249\n",
            "Epoch 147/300\n",
            "25/25 [==============================] - 0s 3ms/step - loss: 7.2173 - mae: 7.2173 - mse: 78.8443 - val_loss: 6.9963 - val_mae: 6.9963 - val_mse: 75.7500\n",
            "Epoch 148/300\n",
            "25/25 [==============================] - 0s 3ms/step - loss: 7.2162 - mae: 7.2162 - mse: 78.8124 - val_loss: 6.9964 - val_mae: 6.9964 - val_mse: 75.7405\n",
            "Epoch 149/300\n",
            "25/25 [==============================] - 0s 2ms/step - loss: 7.2204 - mae: 7.2204 - mse: 78.8446 - val_loss: 6.9973 - val_mae: 6.9973 - val_mse: 75.7071\n",
            "Epoch 150/300\n",
            "25/25 [==============================] - 0s 2ms/step - loss: 7.2251 - mae: 7.2251 - mse: 78.9556 - val_loss: 6.9953 - val_mae: 6.9953 - val_mse: 75.8095\n",
            "Epoch 151/300\n",
            "25/25 [==============================] - 0s 3ms/step - loss: 7.2130 - mae: 7.2130 - mse: 78.7851 - val_loss: 6.9968 - val_mae: 6.9968 - val_mse: 75.7096\n",
            "Epoch 152/300\n",
            "25/25 [==============================] - 0s 3ms/step - loss: 7.2175 - mae: 7.2175 - mse: 78.7400 - val_loss: 6.9988 - val_mae: 6.9988 - val_mse: 75.6793\n",
            "Epoch 153/300\n",
            "25/25 [==============================] - 0s 3ms/step - loss: 7.2159 - mae: 7.2159 - mse: 78.7737 - val_loss: 6.9964 - val_mae: 6.9964 - val_mse: 75.7099\n",
            "Epoch 154/300\n",
            "25/25 [==============================] - 0s 3ms/step - loss: 7.2161 - mae: 7.2161 - mse: 78.7683 - val_loss: 6.9963 - val_mae: 6.9963 - val_mse: 75.7069\n",
            "Epoch 155/300\n",
            "25/25 [==============================] - 0s 2ms/step - loss: 7.2178 - mae: 7.2178 - mse: 78.7347 - val_loss: 6.9982 - val_mae: 6.9982 - val_mse: 75.6741\n",
            "Epoch 156/300\n",
            "25/25 [==============================] - 0s 2ms/step - loss: 7.2173 - mae: 7.2173 - mse: 78.7741 - val_loss: 6.9950 - val_mae: 6.9950 - val_mse: 75.7410\n",
            "Epoch 157/300\n",
            "25/25 [==============================] - 0s 2ms/step - loss: 7.2146 - mae: 7.2146 - mse: 78.7715 - val_loss: 6.9960 - val_mae: 6.9960 - val_mse: 75.6997\n",
            "Epoch 158/300\n",
            "25/25 [==============================] - 0s 2ms/step - loss: 7.2195 - mae: 7.2195 - mse: 78.8808 - val_loss: 6.9949 - val_mae: 6.9949 - val_mse: 75.7316\n",
            "Epoch 159/300\n",
            "25/25 [==============================] - 0s 3ms/step - loss: 7.2175 - mae: 7.2175 - mse: 78.8714 - val_loss: 6.9965 - val_mae: 6.9965 - val_mse: 75.6786\n",
            "Epoch 160/300\n",
            "25/25 [==============================] - 0s 3ms/step - loss: 7.2161 - mae: 7.2161 - mse: 78.7943 - val_loss: 6.9955 - val_mae: 6.9955 - val_mse: 75.6977\n",
            "Epoch 161/300\n",
            "25/25 [==============================] - 0s 3ms/step - loss: 7.2160 - mae: 7.2160 - mse: 78.7159 - val_loss: 6.9987 - val_mae: 6.9987 - val_mse: 75.6611\n",
            "Epoch 162/300\n",
            "25/25 [==============================] - 0s 2ms/step - loss: 7.2164 - mae: 7.2164 - mse: 78.7629 - val_loss: 6.9955 - val_mae: 6.9955 - val_mse: 75.6856\n",
            "Epoch 163/300\n",
            "25/25 [==============================] - 0s 3ms/step - loss: 7.2150 - mae: 7.2150 - mse: 78.7559 - val_loss: 6.9958 - val_mae: 6.9958 - val_mse: 75.6757\n",
            "Epoch 164/300\n",
            "25/25 [==============================] - 0s 3ms/step - loss: 7.2189 - mae: 7.2189 - mse: 78.7109 - val_loss: 6.9988 - val_mae: 6.9988 - val_mse: 75.6560\n",
            "Epoch 165/300\n",
            "25/25 [==============================] - 0s 2ms/step - loss: 7.2150 - mae: 7.2150 - mse: 78.6891 - val_loss: 6.9960 - val_mae: 6.9960 - val_mse: 75.6621\n",
            "Epoch 166/300\n",
            "25/25 [==============================] - 0s 2ms/step - loss: 7.2144 - mae: 7.2144 - mse: 78.7236 - val_loss: 6.9943 - val_mae: 6.9943 - val_mse: 75.6985\n",
            "Epoch 167/300\n",
            "25/25 [==============================] - 0s 3ms/step - loss: 7.2167 - mae: 7.2167 - mse: 78.8347 - val_loss: 6.9942 - val_mae: 6.9942 - val_mse: 75.6974\n",
            "Epoch 168/300\n",
            "25/25 [==============================] - 0s 3ms/step - loss: 7.2164 - mae: 7.2164 - mse: 78.7482 - val_loss: 6.9968 - val_mae: 6.9968 - val_mse: 75.6486\n",
            "Epoch 169/300\n",
            "25/25 [==============================] - 0s 2ms/step - loss: 7.2149 - mae: 7.2149 - mse: 78.7424 - val_loss: 6.9942 - val_mae: 6.9942 - val_mse: 75.6873\n",
            "Epoch 170/300\n",
            "25/25 [==============================] - 0s 3ms/step - loss: 7.2184 - mae: 7.2184 - mse: 78.7841 - val_loss: 6.9967 - val_mae: 6.9967 - val_mse: 75.6439\n",
            "Epoch 171/300\n",
            "25/25 [==============================] - 0s 2ms/step - loss: 7.2127 - mae: 7.2127 - mse: 78.7018 - val_loss: 6.9947 - val_mae: 6.9947 - val_mse: 75.6627\n",
            "Epoch 172/300\n",
            "25/25 [==============================] - 0s 2ms/step - loss: 7.2178 - mae: 7.2178 - mse: 78.7850 - val_loss: 6.9950 - val_mae: 6.9950 - val_mse: 75.6506\n",
            "Epoch 173/300\n",
            "25/25 [==============================] - 0s 2ms/step - loss: 7.2121 - mae: 7.2121 - mse: 78.6830 - val_loss: 6.9942 - val_mae: 6.9942 - val_mse: 75.6653\n",
            "Epoch 174/300\n",
            "25/25 [==============================] - 0s 2ms/step - loss: 7.2160 - mae: 7.2160 - mse: 78.7242 - val_loss: 6.9945 - val_mae: 6.9945 - val_mse: 75.6512\n",
            "Epoch 175/300\n",
            "25/25 [==============================] - 0s 3ms/step - loss: 7.2142 - mae: 7.2142 - mse: 78.7747 - val_loss: 6.9931 - val_mae: 6.9931 - val_mse: 75.6878\n",
            "Epoch 176/300\n",
            "25/25 [==============================] - 0s 3ms/step - loss: 7.2146 - mae: 7.2146 - mse: 78.8105 - val_loss: 6.9919 - val_mae: 6.9919 - val_mse: 75.7418\n",
            "Epoch 177/300\n",
            "25/25 [==============================] - 0s 3ms/step - loss: 7.2148 - mae: 7.2148 - mse: 78.7741 - val_loss: 6.9952 - val_mae: 6.9952 - val_mse: 75.6332\n",
            "Epoch 178/300\n",
            "25/25 [==============================] - 0s 2ms/step - loss: 7.2129 - mae: 7.2129 - mse: 78.7314 - val_loss: 6.9936 - val_mae: 6.9936 - val_mse: 75.6538\n",
            "Epoch 179/300\n",
            "25/25 [==============================] - 0s 2ms/step - loss: 7.2159 - mae: 7.2159 - mse: 78.7662 - val_loss: 6.9949 - val_mae: 6.9949 - val_mse: 75.6301\n",
            "Epoch 180/300\n",
            "25/25 [==============================] - 0s 3ms/step - loss: 7.2126 - mae: 7.2126 - mse: 78.6764 - val_loss: 6.9938 - val_mae: 6.9938 - val_mse: 75.6405\n",
            "Epoch 181/300\n",
            "25/25 [==============================] - 0s 3ms/step - loss: 7.2263 - mae: 7.2263 - mse: 79.0057 - val_loss: 6.9914 - val_mae: 6.9914 - val_mse: 75.7172\n",
            "Epoch 182/300\n",
            "25/25 [==============================] - 0s 2ms/step - loss: 7.2157 - mae: 7.2157 - mse: 78.8447 - val_loss: 6.9950 - val_mae: 6.9950 - val_mse: 75.6217\n",
            "Epoch 183/300\n",
            "25/25 [==============================] - 0s 3ms/step - loss: 7.2143 - mae: 7.2143 - mse: 78.6723 - val_loss: 6.9956 - val_mae: 6.9956 - val_mse: 75.6181\n",
            "Epoch 184/300\n",
            "25/25 [==============================] - 0s 2ms/step - loss: 7.2116 - mae: 7.2116 - mse: 78.6647 - val_loss: 6.9934 - val_mae: 6.9934 - val_mse: 75.6306\n",
            "Epoch 185/300\n",
            "25/25 [==============================] - 0s 2ms/step - loss: 7.2157 - mae: 7.2157 - mse: 78.7758 - val_loss: 6.9922 - val_mae: 6.9922 - val_mse: 75.6558\n",
            "Epoch 186/300\n",
            "25/25 [==============================] - 0s 2ms/step - loss: 7.2141 - mae: 7.2141 - mse: 78.7553 - val_loss: 6.9920 - val_mae: 6.9920 - val_mse: 75.6565\n",
            "Epoch 187/300\n",
            "25/25 [==============================] - 0s 2ms/step - loss: 7.2184 - mae: 7.2184 - mse: 78.8788 - val_loss: 6.9910 - val_mae: 6.9910 - val_mse: 75.6882\n",
            "Epoch 188/300\n",
            "25/25 [==============================] - 0s 2ms/step - loss: 7.2122 - mae: 7.2122 - mse: 78.6515 - val_loss: 6.9949 - val_mae: 6.9949 - val_mse: 75.6087\n",
            "Epoch 189/300\n",
            "25/25 [==============================] - 0s 3ms/step - loss: 7.2148 - mae: 7.2148 - mse: 78.7126 - val_loss: 6.9925 - val_mae: 6.9925 - val_mse: 75.6282\n",
            "Epoch 190/300\n",
            "25/25 [==============================] - 0s 2ms/step - loss: 7.2140 - mae: 7.2140 - mse: 78.7302 - val_loss: 6.9917 - val_mae: 6.9917 - val_mse: 75.6452\n",
            "Epoch 191/300\n",
            "25/25 [==============================] - 0s 2ms/step - loss: 7.2133 - mae: 7.2133 - mse: 78.6882 - val_loss: 6.9925 - val_mae: 6.9925 - val_mse: 75.6193\n",
            "Epoch 192/300\n",
            "25/25 [==============================] - 0s 2ms/step - loss: 7.2204 - mae: 7.2204 - mse: 78.7128 - val_loss: 6.9950 - val_mae: 6.9950 - val_mse: 75.6012\n",
            "Epoch 193/300\n",
            "25/25 [==============================] - 0s 2ms/step - loss: 7.2110 - mae: 7.2110 - mse: 78.6960 - val_loss: 6.9911 - val_mae: 6.9911 - val_mse: 75.6466\n",
            "Epoch 194/300\n",
            "25/25 [==============================] - 0s 2ms/step - loss: 7.2129 - mae: 7.2129 - mse: 78.7360 - val_loss: 6.9922 - val_mae: 6.9922 - val_mse: 75.6129\n",
            "Epoch 195/300\n",
            "25/25 [==============================] - 0s 3ms/step - loss: 7.2113 - mae: 7.2113 - mse: 78.7071 - val_loss: 6.9909 - val_mae: 6.9909 - val_mse: 75.6433\n",
            "Epoch 196/300\n",
            "25/25 [==============================] - 0s 2ms/step - loss: 7.2122 - mae: 7.2122 - mse: 78.6974 - val_loss: 6.9918 - val_mae: 6.9918 - val_mse: 75.6115\n",
            "Epoch 197/300\n",
            "25/25 [==============================] - 0s 2ms/step - loss: 7.2119 - mae: 7.2119 - mse: 78.6891 - val_loss: 6.9925 - val_mae: 6.9925 - val_mse: 75.5980\n",
            "Epoch 198/300\n",
            "25/25 [==============================] - 0s 3ms/step - loss: 7.2182 - mae: 7.2182 - mse: 78.8414 - val_loss: 6.9905 - val_mae: 6.9905 - val_mse: 75.6383\n",
            "Epoch 199/300\n",
            "25/25 [==============================] - 0s 3ms/step - loss: 7.2126 - mae: 7.2126 - mse: 78.6323 - val_loss: 6.9945 - val_mae: 6.9945 - val_mse: 75.5886\n",
            "Epoch 200/300\n",
            "25/25 [==============================] - 0s 2ms/step - loss: 7.2130 - mae: 7.2130 - mse: 78.6349 - val_loss: 6.9923 - val_mae: 6.9923 - val_mse: 75.5910\n",
            "Epoch 201/300\n",
            "25/25 [==============================] - 0s 3ms/step - loss: 7.2139 - mae: 7.2139 - mse: 78.7406 - val_loss: 6.9906 - val_mae: 6.9906 - val_mse: 75.6181\n",
            "Epoch 202/300\n",
            "25/25 [==============================] - 0s 2ms/step - loss: 7.2121 - mae: 7.2121 - mse: 78.7309 - val_loss: 6.9905 - val_mae: 6.9905 - val_mse: 75.6157\n",
            "Epoch 203/300\n",
            "25/25 [==============================] - 0s 2ms/step - loss: 7.2136 - mae: 7.2136 - mse: 78.6545 - val_loss: 6.9917 - val_mae: 6.9917 - val_mse: 75.5874\n",
            "Epoch 204/300\n",
            "25/25 [==============================] - 0s 3ms/step - loss: 7.2124 - mae: 7.2124 - mse: 78.6439 - val_loss: 6.9920 - val_mae: 6.9920 - val_mse: 75.5831\n",
            "Epoch 205/300\n",
            "25/25 [==============================] - 0s 2ms/step - loss: 7.2103 - mae: 7.2103 - mse: 78.6712 - val_loss: 6.9897 - val_mae: 6.9897 - val_mse: 75.6229\n",
            "Epoch 206/300\n",
            "25/25 [==============================] - 0s 2ms/step - loss: 7.2152 - mae: 7.2152 - mse: 78.7359 - val_loss: 6.9913 - val_mae: 6.9913 - val_mse: 75.5827\n",
            "Epoch 207/300\n",
            "25/25 [==============================] - 0s 2ms/step - loss: 7.2153 - mae: 7.2153 - mse: 78.8016 - val_loss: 6.9881 - val_mae: 6.9881 - val_mse: 75.6798\n",
            "Epoch 208/300\n",
            "25/25 [==============================] - 0s 2ms/step - loss: 7.2119 - mae: 7.2119 - mse: 78.7157 - val_loss: 6.9894 - val_mae: 6.9894 - val_mse: 75.6172\n",
            "Epoch 209/300\n",
            "25/25 [==============================] - 0s 2ms/step - loss: 7.2109 - mae: 7.2109 - mse: 78.6561 - val_loss: 6.9911 - val_mae: 6.9911 - val_mse: 75.5760\n",
            "Epoch 210/300\n",
            "25/25 [==============================] - 0s 3ms/step - loss: 7.2132 - mae: 7.2132 - mse: 78.6562 - val_loss: 6.9909 - val_mae: 6.9909 - val_mse: 75.5750\n",
            "Epoch 211/300\n",
            "25/25 [==============================] - 0s 2ms/step - loss: 7.2097 - mae: 7.2097 - mse: 78.6568 - val_loss: 6.9890 - val_mae: 6.9890 - val_mse: 75.6110\n",
            "Epoch 212/300\n",
            "25/25 [==============================] - 0s 3ms/step - loss: 7.2122 - mae: 7.2122 - mse: 78.6967 - val_loss: 6.9906 - val_mae: 6.9906 - val_mse: 75.5716\n",
            "Epoch 213/300\n",
            "25/25 [==============================] - 0s 3ms/step - loss: 7.2163 - mae: 7.2163 - mse: 78.8096 - val_loss: 6.9892 - val_mae: 6.9892 - val_mse: 75.5939\n",
            "Epoch 214/300\n",
            "25/25 [==============================] - 0s 2ms/step - loss: 7.2096 - mae: 7.2096 - mse: 78.6557 - val_loss: 6.9891 - val_mae: 6.9891 - val_mse: 75.5926\n",
            "Epoch 215/300\n",
            "25/25 [==============================] - 0s 3ms/step - loss: 7.2109 - mae: 7.2109 - mse: 78.7119 - val_loss: 6.9884 - val_mae: 6.9884 - val_mse: 75.6073\n",
            "Epoch 216/300\n",
            "25/25 [==============================] - 0s 2ms/step - loss: 7.2145 - mae: 7.2145 - mse: 78.6443 - val_loss: 6.9914 - val_mae: 6.9914 - val_mse: 75.5574\n",
            "Epoch 217/300\n",
            "25/25 [==============================] - 0s 3ms/step - loss: 7.2081 - mae: 7.2081 - mse: 78.5890 - val_loss: 6.9896 - val_mae: 6.9896 - val_mse: 75.5669\n",
            "Epoch 218/300\n",
            "25/25 [==============================] - 0s 2ms/step - loss: 7.2121 - mae: 7.2121 - mse: 78.6882 - val_loss: 6.9871 - val_mae: 6.9871 - val_mse: 75.6400\n",
            "Epoch 219/300\n",
            "25/25 [==============================] - 0s 3ms/step - loss: 7.2093 - mae: 7.2093 - mse: 78.6632 - val_loss: 6.9889 - val_mae: 6.9889 - val_mse: 75.5737\n",
            "Epoch 220/300\n",
            "25/25 [==============================] - 0s 2ms/step - loss: 7.2098 - mae: 7.2098 - mse: 78.5721 - val_loss: 6.9909 - val_mae: 6.9909 - val_mse: 75.5501\n",
            "Epoch 221/300\n",
            "25/25 [==============================] - 0s 2ms/step - loss: 7.2091 - mae: 7.2091 - mse: 78.5906 - val_loss: 6.9887 - val_mae: 6.9887 - val_mse: 75.5688\n",
            "Epoch 222/300\n",
            "25/25 [==============================] - 0s 3ms/step - loss: 7.2092 - mae: 7.2092 - mse: 78.6325 - val_loss: 6.9892 - val_mae: 6.9892 - val_mse: 75.5557\n",
            "Epoch 223/300\n",
            "25/25 [==============================] - 0s 2ms/step - loss: 7.2098 - mae: 7.2098 - mse: 78.6214 - val_loss: 6.9886 - val_mae: 6.9886 - val_mse: 75.5614\n",
            "Epoch 224/300\n",
            "25/25 [==============================] - 0s 3ms/step - loss: 7.2084 - mae: 7.2084 - mse: 78.6287 - val_loss: 6.9873 - val_mae: 6.9873 - val_mse: 75.5914\n",
            "Epoch 225/300\n",
            "25/25 [==============================] - 0s 2ms/step - loss: 7.2083 - mae: 7.2083 - mse: 78.6414 - val_loss: 6.9879 - val_mae: 6.9879 - val_mse: 75.5688\n",
            "Epoch 226/300\n",
            "25/25 [==============================] - 0s 3ms/step - loss: 7.2087 - mae: 7.2087 - mse: 78.6377 - val_loss: 6.9873 - val_mae: 6.9873 - val_mse: 75.5791\n",
            "Epoch 227/300\n",
            "25/25 [==============================] - 0s 3ms/step - loss: 7.2082 - mae: 7.2082 - mse: 78.6496 - val_loss: 6.9873 - val_mae: 6.9873 - val_mse: 75.5757\n",
            "Epoch 228/300\n",
            "25/25 [==============================] - 0s 3ms/step - loss: 7.2083 - mae: 7.2083 - mse: 78.5635 - val_loss: 6.9894 - val_mae: 6.9894 - val_mse: 75.5379\n",
            "Epoch 229/300\n",
            "25/25 [==============================] - 0s 2ms/step - loss: 7.2103 - mae: 7.2103 - mse: 78.6203 - val_loss: 6.9896 - val_mae: 6.9896 - val_mse: 75.5346\n",
            "Epoch 230/300\n",
            "25/25 [==============================] - 0s 3ms/step - loss: 7.2082 - mae: 7.2082 - mse: 78.5840 - val_loss: 6.9876 - val_mae: 6.9876 - val_mse: 75.5509\n",
            "Epoch 231/300\n",
            "25/25 [==============================] - 0s 3ms/step - loss: 7.2086 - mae: 7.2086 - mse: 78.5894 - val_loss: 6.9885 - val_mae: 6.9885 - val_mse: 75.5364\n",
            "Epoch 232/300\n",
            "25/25 [==============================] - 0s 2ms/step - loss: 7.2093 - mae: 7.2093 - mse: 78.6612 - val_loss: 6.9876 - val_mae: 6.9876 - val_mse: 75.5442\n",
            "Epoch 233/300\n",
            "25/25 [==============================] - 0s 2ms/step - loss: 7.2072 - mae: 7.2072 - mse: 78.6002 - val_loss: 6.9878 - val_mae: 6.9878 - val_mse: 75.5364\n",
            "Epoch 234/300\n",
            "25/25 [==============================] - 0s 3ms/step - loss: 7.2093 - mae: 7.2093 - mse: 78.5819 - val_loss: 6.9895 - val_mae: 6.9895 - val_mse: 75.5242\n",
            "Epoch 235/300\n",
            "25/25 [==============================] - 0s 2ms/step - loss: 7.2088 - mae: 7.2088 - mse: 78.5903 - val_loss: 6.9865 - val_mae: 6.9865 - val_mse: 75.5553\n",
            "Epoch 236/300\n",
            "25/25 [==============================] - 0s 3ms/step - loss: 7.2082 - mae: 7.2082 - mse: 78.6299 - val_loss: 6.9865 - val_mae: 6.9865 - val_mse: 75.5527\n",
            "Epoch 237/300\n",
            "25/25 [==============================] - 0s 2ms/step - loss: 7.2081 - mae: 7.2081 - mse: 78.6120 - val_loss: 6.9862 - val_mae: 6.9862 - val_mse: 75.5539\n",
            "Epoch 238/300\n",
            "25/25 [==============================] - 0s 2ms/step - loss: 7.2084 - mae: 7.2084 - mse: 78.6346 - val_loss: 6.9870 - val_mae: 6.9870 - val_mse: 75.5303\n",
            "Epoch 239/300\n",
            "25/25 [==============================] - 0s 2ms/step - loss: 7.2177 - mae: 7.2177 - mse: 78.6732 - val_loss: 6.9897 - val_mae: 6.9897 - val_mse: 75.5146\n",
            "Epoch 240/300\n",
            "25/25 [==============================] - 0s 3ms/step - loss: 7.2164 - mae: 7.2164 - mse: 78.8160 - val_loss: 6.9842 - val_mae: 6.9842 - val_mse: 75.6518\n",
            "Epoch 241/300\n",
            "25/25 [==============================] - 0s 2ms/step - loss: 7.2090 - mae: 7.2090 - mse: 78.7270 - val_loss: 6.9844 - val_mae: 6.9844 - val_mse: 75.5989\n",
            "Epoch 242/300\n",
            "25/25 [==============================] - 0s 2ms/step - loss: 7.2106 - mae: 7.2106 - mse: 78.5778 - val_loss: 6.9893 - val_mae: 6.9893 - val_mse: 75.5091\n",
            "Epoch 243/300\n",
            "25/25 [==============================] - 0s 2ms/step - loss: 7.2096 - mae: 7.2096 - mse: 78.6453 - val_loss: 6.9859 - val_mae: 6.9859 - val_mse: 75.5323\n",
            "Epoch 244/300\n",
            "25/25 [==============================] - 0s 2ms/step - loss: 7.2108 - mae: 7.2108 - mse: 78.6665 - val_loss: 6.9856 - val_mae: 6.9856 - val_mse: 75.5371\n",
            "Epoch 245/300\n",
            "25/25 [==============================] - 0s 3ms/step - loss: 7.2055 - mae: 7.2055 - mse: 78.5172 - val_loss: 6.9877 - val_mae: 6.9877 - val_mse: 75.5068\n",
            "Epoch 246/300\n",
            "25/25 [==============================] - 0s 3ms/step - loss: 7.2060 - mae: 7.2060 - mse: 78.5305 - val_loss: 6.9871 - val_mae: 6.9871 - val_mse: 75.5080\n",
            "Epoch 247/300\n",
            "25/25 [==============================] - 0s 2ms/step - loss: 7.2063 - mae: 7.2063 - mse: 78.5482 - val_loss: 6.9868 - val_mae: 6.9868 - val_mse: 75.5075\n",
            "Epoch 248/300\n",
            "25/25 [==============================] - 0s 2ms/step - loss: 7.2130 - mae: 7.2130 - mse: 78.7361 - val_loss: 6.9846 - val_mae: 6.9846 - val_mse: 75.5466\n",
            "Epoch 249/300\n",
            "25/25 [==============================] - 0s 2ms/step - loss: 7.2074 - mae: 7.2074 - mse: 78.5395 - val_loss: 6.9862 - val_mae: 6.9862 - val_mse: 75.5063\n",
            "Epoch 250/300\n",
            "25/25 [==============================] - 0s 3ms/step - loss: 7.2138 - mae: 7.2138 - mse: 78.5739 - val_loss: 6.9892 - val_mae: 6.9892 - val_mse: 75.4971\n",
            "Epoch 251/300\n",
            "25/25 [==============================] - 0s 2ms/step - loss: 7.2067 - mae: 7.2067 - mse: 78.5877 - val_loss: 6.9846 - val_mae: 6.9846 - val_mse: 75.5302\n",
            "Epoch 252/300\n",
            "25/25 [==============================] - 0s 2ms/step - loss: 7.2060 - mae: 7.2060 - mse: 78.5712 - val_loss: 6.9849 - val_mae: 6.9849 - val_mse: 75.5170\n",
            "Epoch 253/300\n",
            "25/25 [==============================] - 0s 2ms/step - loss: 7.2084 - mae: 7.2084 - mse: 78.5994 - val_loss: 6.9828 - val_mae: 6.9828 - val_mse: 75.5887\n",
            "Epoch 254/300\n",
            "25/25 [==============================] - 0s 3ms/step - loss: 7.2056 - mae: 7.2056 - mse: 78.6036 - val_loss: 6.9846 - val_mae: 6.9846 - val_mse: 75.5153\n",
            "Epoch 255/300\n",
            "25/25 [==============================] - 0s 2ms/step - loss: 7.2064 - mae: 7.2064 - mse: 78.5133 - val_loss: 6.9866 - val_mae: 6.9866 - val_mse: 75.4888\n",
            "Epoch 256/300\n",
            "25/25 [==============================] - 0s 3ms/step - loss: 7.2050 - mae: 7.2050 - mse: 78.5480 - val_loss: 6.9840 - val_mae: 6.9840 - val_mse: 75.5198\n",
            "Epoch 257/300\n",
            "25/25 [==============================] - 0s 2ms/step - loss: 7.2086 - mae: 7.2086 - mse: 78.6529 - val_loss: 6.9844 - val_mae: 6.9844 - val_mse: 75.5067\n",
            "Epoch 258/300\n",
            "25/25 [==============================] - 0s 2ms/step - loss: 7.2053 - mae: 7.2053 - mse: 78.5552 - val_loss: 6.9835 - val_mae: 6.9835 - val_mse: 75.5250\n",
            "Epoch 259/300\n",
            "25/25 [==============================] - 0s 3ms/step - loss: 7.2059 - mae: 7.2059 - mse: 78.6198 - val_loss: 6.9836 - val_mae: 6.9836 - val_mse: 75.5171\n",
            "Epoch 260/300\n",
            "25/25 [==============================] - 0s 2ms/step - loss: 7.2049 - mae: 7.2049 - mse: 78.5524 - val_loss: 6.9841 - val_mae: 6.9841 - val_mse: 75.4997\n",
            "Epoch 261/300\n",
            "25/25 [==============================] - 0s 2ms/step - loss: 7.2065 - mae: 7.2065 - mse: 78.5456 - val_loss: 6.9870 - val_mae: 6.9870 - val_mse: 75.4759\n",
            "Epoch 262/300\n",
            "25/25 [==============================] - 0s 2ms/step - loss: 7.2061 - mae: 7.2061 - mse: 78.5425 - val_loss: 6.9833 - val_mae: 6.9833 - val_mse: 75.5126\n",
            "Epoch 263/300\n",
            "25/25 [==============================] - 0s 3ms/step - loss: 7.2084 - mae: 7.2084 - mse: 78.5848 - val_loss: 6.9836 - val_mae: 6.9836 - val_mse: 75.4988\n",
            "Epoch 264/300\n",
            "25/25 [==============================] - 0s 3ms/step - loss: 7.2050 - mae: 7.2050 - mse: 78.5551 - val_loss: 6.9835 - val_mae: 6.9835 - val_mse: 75.4964\n",
            "Epoch 265/300\n",
            "25/25 [==============================] - 0s 2ms/step - loss: 7.2047 - mae: 7.2047 - mse: 78.5447 - val_loss: 6.9831 - val_mae: 6.9831 - val_mse: 75.5018\n",
            "Epoch 266/300\n",
            "25/25 [==============================] - 0s 2ms/step - loss: 7.2065 - mae: 7.2065 - mse: 78.5589 - val_loss: 6.9823 - val_mae: 6.9823 - val_mse: 75.5242\n",
            "Epoch 267/300\n",
            "25/25 [==============================] - 0s 3ms/step - loss: 7.2068 - mae: 7.2068 - mse: 78.6200 - val_loss: 6.9851 - val_mae: 6.9851 - val_mse: 75.4692\n",
            "Epoch 268/300\n",
            "25/25 [==============================] - 0s 3ms/step - loss: 7.2069 - mae: 7.2069 - mse: 78.5409 - val_loss: 6.9839 - val_mae: 6.9839 - val_mse: 75.4760\n",
            "Epoch 269/300\n",
            "25/25 [==============================] - 0s 3ms/step - loss: 7.2118 - mae: 7.2118 - mse: 78.6887 - val_loss: 6.9823 - val_mae: 6.9823 - val_mse: 75.5059\n",
            "Epoch 270/300\n",
            "25/25 [==============================] - 0s 3ms/step - loss: 7.2062 - mae: 7.2062 - mse: 78.5480 - val_loss: 6.9850 - val_mae: 6.9850 - val_mse: 75.4625\n",
            "Epoch 271/300\n",
            "25/25 [==============================] - 0s 2ms/step - loss: 7.2057 - mae: 7.2057 - mse: 78.4967 - val_loss: 6.9817 - val_mae: 6.9817 - val_mse: 75.5130\n",
            "Epoch 272/300\n",
            "25/25 [==============================] - 0s 3ms/step - loss: 7.2038 - mae: 7.2038 - mse: 78.5274 - val_loss: 6.9834 - val_mae: 6.9834 - val_mse: 75.4699\n",
            "Epoch 273/300\n",
            "25/25 [==============================] - 0s 2ms/step - loss: 7.2045 - mae: 7.2045 - mse: 78.4935 - val_loss: 6.9838 - val_mae: 6.9838 - val_mse: 75.4636\n",
            "Epoch 274/300\n",
            "25/25 [==============================] - 0s 3ms/step - loss: 7.2037 - mae: 7.2037 - mse: 78.4781 - val_loss: 6.9834 - val_mae: 6.9834 - val_mse: 75.4636\n",
            "Epoch 275/300\n",
            "25/25 [==============================] - 0s 2ms/step - loss: 7.2036 - mae: 7.2036 - mse: 78.4940 - val_loss: 6.9824 - val_mae: 6.9824 - val_mse: 75.4729\n",
            "Epoch 276/300\n",
            "25/25 [==============================] - 0s 2ms/step - loss: 7.2061 - mae: 7.2061 - mse: 78.5963 - val_loss: 6.9813 - val_mae: 6.9813 - val_mse: 75.5012\n",
            "Epoch 277/300\n",
            "25/25 [==============================] - 0s 2ms/step - loss: 7.2034 - mae: 7.2034 - mse: 78.5331 - val_loss: 6.9821 - val_mae: 6.9821 - val_mse: 75.4705\n",
            "Epoch 278/300\n",
            "25/25 [==============================] - 0s 2ms/step - loss: 7.2053 - mae: 7.2053 - mse: 78.5340 - val_loss: 6.9816 - val_mae: 6.9816 - val_mse: 75.4791\n",
            "Epoch 279/300\n",
            "25/25 [==============================] - 0s 3ms/step - loss: 7.2042 - mae: 7.2042 - mse: 78.5645 - val_loss: 6.9812 - val_mae: 6.9812 - val_mse: 75.4875\n",
            "Epoch 280/300\n",
            "25/25 [==============================] - 0s 2ms/step - loss: 7.2027 - mae: 7.2027 - mse: 78.5207 - val_loss: 6.9819 - val_mae: 6.9819 - val_mse: 75.4636\n",
            "Epoch 281/300\n",
            "25/25 [==============================] - 0s 4ms/step - loss: 7.2038 - mae: 7.2038 - mse: 78.4990 - val_loss: 6.9830 - val_mae: 6.9830 - val_mse: 75.4490\n",
            "Epoch 282/300\n",
            "25/25 [==============================] - 0s 3ms/step - loss: 7.2119 - mae: 7.2119 - mse: 78.7433 - val_loss: 6.9793 - val_mae: 6.9793 - val_mse: 75.5436\n",
            "Epoch 283/300\n",
            "25/25 [==============================] - 0s 3ms/step - loss: 7.2081 - mae: 7.2081 - mse: 78.5693 - val_loss: 6.9834 - val_mae: 6.9834 - val_mse: 75.4416\n",
            "Epoch 284/300\n",
            "25/25 [==============================] - 0s 2ms/step - loss: 7.2100 - mae: 7.2100 - mse: 78.6557 - val_loss: 6.9796 - val_mae: 6.9796 - val_mse: 75.5194\n",
            "Epoch 285/300\n",
            "25/25 [==============================] - 0s 3ms/step - loss: 7.2019 - mae: 7.2019 - mse: 78.4973 - val_loss: 6.9825 - val_mae: 6.9825 - val_mse: 75.4427\n",
            "Epoch 286/300\n",
            "25/25 [==============================] - 0s 3ms/step - loss: 7.2044 - mae: 7.2044 - mse: 78.4795 - val_loss: 6.9809 - val_mae: 6.9809 - val_mse: 75.4606\n",
            "Epoch 287/300\n",
            "25/25 [==============================] - 0s 2ms/step - loss: 7.2030 - mae: 7.2030 - mse: 78.4636 - val_loss: 6.9832 - val_mae: 6.9832 - val_mse: 75.4338\n",
            "Epoch 288/300\n",
            "25/25 [==============================] - 0s 3ms/step - loss: 7.2038 - mae: 7.2038 - mse: 78.4486 - val_loss: 6.9818 - val_mae: 6.9818 - val_mse: 75.4414\n",
            "Epoch 289/300\n",
            "25/25 [==============================] - 0s 2ms/step - loss: 7.2038 - mae: 7.2038 - mse: 78.5283 - val_loss: 6.9800 - val_mae: 6.9800 - val_mse: 75.4731\n",
            "Epoch 290/300\n",
            "25/25 [==============================] - 0s 2ms/step - loss: 7.2035 - mae: 7.2035 - mse: 78.5377 - val_loss: 6.9808 - val_mae: 6.9808 - val_mse: 75.4464\n",
            "Epoch 291/300\n",
            "25/25 [==============================] - 0s 2ms/step - loss: 7.2037 - mae: 7.2037 - mse: 78.5425 - val_loss: 6.9804 - val_mae: 6.9804 - val_mse: 75.4503\n",
            "Epoch 292/300\n",
            "25/25 [==============================] - 0s 3ms/step - loss: 7.2029 - mae: 7.2029 - mse: 78.5387 - val_loss: 6.9798 - val_mae: 6.9798 - val_mse: 75.4626\n",
            "Epoch 293/300\n",
            "25/25 [==============================] - 0s 2ms/step - loss: 7.2049 - mae: 7.2049 - mse: 78.5161 - val_loss: 6.9797 - val_mae: 6.9797 - val_mse: 75.4608\n",
            "Epoch 294/300\n",
            "25/25 [==============================] - 0s 2ms/step - loss: 7.2020 - mae: 7.2020 - mse: 78.4690 - val_loss: 6.9817 - val_mae: 6.9817 - val_mse: 75.4259\n",
            "Epoch 295/300\n",
            "25/25 [==============================] - 0s 4ms/step - loss: 7.2049 - mae: 7.2049 - mse: 78.5564 - val_loss: 6.9797 - val_mae: 6.9797 - val_mse: 75.4513\n",
            "Epoch 296/300\n",
            "25/25 [==============================] - 0s 2ms/step - loss: 7.2114 - mae: 7.2114 - mse: 78.5285 - val_loss: 6.9826 - val_mae: 6.9826 - val_mse: 75.4171\n",
            "Epoch 297/300\n",
            "25/25 [==============================] - 0s 3ms/step - loss: 7.2040 - mae: 7.2040 - mse: 78.5620 - val_loss: 6.9780 - val_mae: 6.9780 - val_mse: 75.5044\n",
            "Epoch 298/300\n",
            "25/25 [==============================] - 0s 2ms/step - loss: 7.2043 - mae: 7.2043 - mse: 78.5227 - val_loss: 6.9791 - val_mae: 6.9791 - val_mse: 75.4539\n",
            "Epoch 299/300\n",
            "25/25 [==============================] - 0s 2ms/step - loss: 7.2025 - mae: 7.2025 - mse: 78.4901 - val_loss: 6.9797 - val_mae: 6.9797 - val_mse: 75.4342\n",
            "Epoch 300/300\n",
            "25/25 [==============================] - 0s 2ms/step - loss: 7.2013 - mae: 7.2013 - mse: 78.4535 - val_loss: 6.9798 - val_mae: 6.9798 - val_mse: 75.4283\n"
          ],
          "name": "stdout"
        }
      ]
    },
    {
      "cell_type": "code",
      "metadata": {
        "colab": {
          "base_uri": "https://localhost:8080/"
        },
        "id": "A3XW8ixgLFKf",
        "outputId": "baace080-44d1-43d5-a527-8b6fc5221091"
      },
      "source": [
        "print(history)"
      ],
      "execution_count": 23,
      "outputs": [
        {
          "output_type": "stream",
          "text": [
            "<tensorflow.python.keras.callbacks.History object at 0x7f395c1a4110>\n"
          ],
          "name": "stdout"
        }
      ]
    },
    {
      "cell_type": "code",
      "metadata": {
        "colab": {
          "base_uri": "https://localhost:8080/"
        },
        "id": "9GfKb4RyLFlz",
        "outputId": "d43d7bf9-4ab2-41ff-e4ab-4997d54b24a9"
      },
      "source": [
        "model.summary()"
      ],
      "execution_count": 24,
      "outputs": [
        {
          "output_type": "stream",
          "text": [
            "Model: \"sequential\"\n",
            "_________________________________________________________________\n",
            "Layer (type)                 Output Shape              Param #   \n",
            "=================================================================\n",
            "dense (Dense)                (None, 1)                 2         \n",
            "=================================================================\n",
            "Total params: 2\n",
            "Trainable params: 2\n",
            "Non-trainable params: 0\n",
            "_________________________________________________________________\n"
          ],
          "name": "stdout"
        }
      ]
    },
    {
      "cell_type": "code",
      "metadata": {
        "colab": {
          "base_uri": "https://localhost:8080/",
          "height": 1000
        },
        "id": "qsx6XJmxLH4u",
        "outputId": "f02631bd-55bf-4d4d-9e71-ac81277a9ed0"
      },
      "source": [
        "#tempString = 'mse'\n",
        "def curvePlots(tempString):\n",
        "\n",
        " plt.plot(history.history[tempString])\n",
        " plt.plot(history.history[f'val_{tempString}'])\n",
        " plt.xlabel('NumEpochs')\n",
        " plt.ylabel(tempString)\n",
        " plt.legend([tempString ,f'val_{tempString}'])\n",
        " plt.show()\n",
        "\n",
        "curvePlots('mse')\n",
        "curvePlots('mae')\n",
        "curvePlots('loss')"
      ],
      "execution_count": 25,
      "outputs": [
        {
          "output_type": "display_data",
          "data": {
            "image/png": "[encoded data removed]",
            "text/plain": [
              "<Figure size 576x396 with 1 Axes>"
            ]
          },
          "metadata": {
            "tags": []
          }
        },
        {
          "output_type": "display_data",
          "data": {
            "image/png": "[encoded data removed]",
            "text/plain": [
              "<Figure size 576x396 with 1 Axes>"
            ]
          },
          "metadata": {
            "tags": []
          }
        },
        {
          "output_type": "display_data",
          "data": {
            "image/png": "[encoded data removed]",
            "text/plain": [
              "<Figure size 576x396 with 1 Axes>"
            ]
          },
          "metadata": {
            "tags": []
          }
        }
      ]
    },
    {
      "cell_type": "code",
      "metadata": {
        "colab": {
          "base_uri": "https://localhost:8080/"
        },
        "id": "k4W3BzMqLL35",
        "outputId": "425ebce3-31e0-4621-c31c-d210c59d4e0b"
      },
      "source": [
        "model.predict([1])"
      ],
      "execution_count": 26,
      "outputs": [
        {
          "output_type": "execute_result",
          "data": {
            "text/plain": [
              "array([[2.0799718]], dtype=float32)"
            ]
          },
          "metadata": {
            "tags": []
          },
          "execution_count": 26
        }
      ]
    },
    {
      "cell_type": "code",
      "metadata": {
        "colab": {
          "base_uri": "https://localhost:8080/"
        },
        "id": "_ndF2j9GLQFU",
        "outputId": "da42786f-14cb-4283-b5d5-4fe2cf2df839"
      },
      "source": [
        "print(f'Prediction for input value 1:{model.predict([1])}')\n",
        "\n",
        "#for a list of values\n",
        "tempListforPreds=[1,2,3,4,5,6]\n",
        "print(f'''\n",
        "\n",
        "input List ={tempListforPreds}\n",
        "\n",
        "List of Predictions:\n",
        "{model.predict(tempListforPreds)}\n",
        "\n",
        "List of Predictions(flattened out):\n",
        "{model.predict(tempListforPreds).flatten()}\n",
        "''')"
      ],
      "execution_count": 27,
      "outputs": [
        {
          "output_type": "stream",
          "text": [
            "Prediction for input value 1:[[2.0799718]]\n",
            "\n",
            "\n",
            "input List =[1, 2, 3, 4, 5, 6]\n",
            "\n",
            "List of Predictions:\n",
            "[[2.0799718]\n",
            " [3.0122013]\n",
            " [3.9444304]\n",
            " [4.87666  ]\n",
            " [5.8088894]\n",
            " [6.7411184]]\n",
            "\n",
            "List of Predictions(flattened out):\n",
            "[2.0799718 3.0122013 3.9444304 4.87666   5.8088894 6.7411184]\n",
            "\n"
          ],
          "name": "stdout"
        }
      ]
    },
    {
      "cell_type": "code",
      "metadata": {
        "colab": {
          "base_uri": "https://localhost:8080/"
        },
        "id": "fG2R3R3OLShl",
        "outputId": "72d522c8-b33f-456f-b84a-6aad74614500"
      },
      "source": [
        "print(testFeatures)"
      ],
      "execution_count": 28,
      "outputs": [
        {
          "output_type": "stream",
          "text": [
            "     reading score\n",
            "9               60\n",
            "11              52\n",
            "19              58\n",
            "23              73\n",
            "28              70\n",
            "..             ...\n",
            "962            100\n",
            "966             68\n",
            "976             62\n",
            "980             24\n",
            "983             87\n",
            "\n",
            "[200 rows x 1 columns]\n"
          ],
          "name": "stdout"
        }
      ]
    },
    {
      "cell_type": "code",
      "metadata": {
        "colab": {
          "base_uri": "https://localhost:8080/"
        },
        "id": "EUty3kBFLVK9",
        "outputId": "2af9d752-f1a0-4e6e-9b64-df15f1a66fe7"
      },
      "source": [
        "model.predict([testFeatures]).flatten()"
      ],
      "execution_count": 30,
      "outputs": [
        {
          "output_type": "execute_result",
          "data": {
            "text/plain": [
              "array([57.08151 , 49.623672, 55.21705 , 69.20049 , 66.4038  , 68.26826 ,\n",
              "       76.658325, 69.20049 , 55.21705 , 61.742653, 67.33603 , 73.86163 ,\n",
              "       52.42036 , 56.149277, 59.878197, 48.691444, 46.826984, 44.962524,\n",
              "       37.50469 , 78.52278 , 67.33603 , 32.84354 , 81.31947 , 76.658325,\n",
              "       63.607113, 63.607113, 72.929405, 65.47157 , 54.28482 , 77.59055 ,\n",
              "       79.45501 , 35.640232, 58.013737, 41.23361 , 64.53934 , 71.06495 ,\n",
              "       63.607113, 66.4038  , 71.06495 , 48.691444, 72.929405, 64.53934 ,\n",
              "       47.759212, 65.47157 , 49.623672, 60.810425, 53.35259 , 76.658325,\n",
              "       65.47157 , 58.013737, 68.26826 , 47.759212, 70.13272 , 60.810425,\n",
              "       69.20049 , 72.929405, 74.79387 , 40.301376, 71.99718 , 66.4038  ,\n",
              "       73.86163 , 59.878197, 49.623672, 77.59055 , 71.06495 , 69.20049 ,\n",
              "       57.08151 , 39.36915 , 63.607113, 49.623672, 60.810425, 81.31947 ,\n",
              "       50.5559  , 44.030296, 71.06495 , 64.53934 , 85.048386, 60.810425,\n",
              "       72.929405, 69.20049 , 91.574   , 89.70953 , 46.826984, 73.86163 ,\n",
              "       60.810425, 63.607113, 59.878197, 67.33603 , 78.52278 , 80.387245,\n",
              "       62.674885, 68.26826 , 69.20049 , 77.59055 , 44.030296, 80.387245,\n",
              "       61.742653, 51.488132, 81.31947 , 44.962524, 50.5559  , 67.33603 ,\n",
              "       46.826984, 82.2517  , 39.36915 , 62.674885, 89.70953 , 59.878197,\n",
              "       71.99718 , 85.048386, 43.098064, 37.50469 , 62.674885, 71.06495 ,\n",
              "       85.048386, 41.23361 , 76.658325, 74.79387 , 62.674885, 94.37068 ,\n",
              "       72.929405, 77.59055 , 57.08151 , 79.45501 , 55.21705 , 57.08151 ,\n",
              "       56.149277, 73.86163 , 59.878197, 48.691444, 83.18393 , 86.91285 ,\n",
              "       70.13272 , 82.2517  , 72.929405, 60.810425, 77.59055 , 62.674885,\n",
              "       50.5559  , 77.59055 , 68.26826 , 62.674885, 68.26826 , 56.149277,\n",
              "       58.013737, 66.4038  , 69.20049 , 45.894753, 55.21705 , 57.08151 ,\n",
              "       79.45501 , 52.42036 , 89.70953 , 55.21705 , 58.945965, 45.894753,\n",
              "       61.742653, 42.165836, 74.79387 , 80.387245, 80.387245, 62.674885,\n",
              "       79.45501 , 88.777306, 71.99718 , 70.13272 , 56.149277, 60.810425,\n",
              "       55.21705 , 80.387245, 80.387245, 51.488132, 71.06495 , 63.607113,\n",
              "       63.607113, 81.31947 , 70.13272 , 48.691444, 55.21705 , 79.45501 ,\n",
              "       69.20049 , 61.742653, 28.182396, 73.86163 , 73.86163 , 40.301376,\n",
              "       94.37068 , 70.13272 , 67.33603 , 59.878197, 54.28482 , 58.945965,\n",
              "       55.21705 , 71.06495 , 51.488132, 94.37068 , 64.53934 , 58.945965,\n",
              "       23.521248, 82.2517  ], dtype=float32)"
            ]
          },
          "metadata": {
            "tags": []
          },
          "execution_count": 30
        }
      ]
    },
    {
      "cell_type": "code",
      "metadata": {
        "id": "-cpf2Uz6LgDR"
      },
      "source": [
        ""
      ],
      "execution_count": null,
      "outputs": []
    }
  ]
}