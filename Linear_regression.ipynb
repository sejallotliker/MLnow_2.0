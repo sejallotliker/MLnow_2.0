{
  "nbformat": 4,
  "nbformat_minor": 0,
  "metadata": {
    "colab": {
      "name": "Linear regression.ipynb",
      "provenance": [],
      "collapsed_sections": [],
      "mount_file_id": "1QDjJDGnO6FZj88uAXE7Atadk29ITtAw9",
      "authorship_tag": "ABX9TyPSPJqoqaFNf6Dh4z/XTuB9",
      "include_colab_link": true
    },
    "kernelspec": {
      "name": "python3",
      "display_name": "Python 3"
    },
    "language_info": {
      "name": "python"
    }
  },
  "cells": [
    {
      "cell_type": "markdown",
      "metadata": {
        "id": "view-in-github",
        "colab_type": "text"
      },
      "source": [
        "<a href=\"https://colab.research.google.com/github/sejallotliker/MLnow_2.0/blob/main/Linear_regression.ipynb\" target=\"_parent\"><img src=\"https://colab.research.google.com/assets/colab-badge.svg\" alt=\"Open In Colab\"/></a>"
      ]
    },
    {
      "cell_type": "markdown",
      "metadata": {
        "id": "U6dI4cQQIQLL"
      },
      "source": [
        "#Machine Learning\n",
        "\n",
        "Linear regression\n",
        "\n",
        "Author: `Sejal Lotliker`\n",
        "\n",
        "Date: `11-06-2021`"
      ]
    },
    {
      "cell_type": "code",
      "metadata": {
        "colab": {
          "base_uri": "https://localhost:8080/"
        },
        "id": "7PvX8CWMIo-x",
        "outputId": "baf1d463-5bb0-436b-8068-0010ade637e6"
      },
      "source": [
        "from google.colab import drive\n",
        "drive.mount('/content/drive')"
      ],
      "execution_count": 3,
      "outputs": [
        {
          "output_type": "stream",
          "text": [
            "Drive already mounted at /content/drive; to attempt to forcibly remount, call drive.mount(\"/content/drive\", force_remount=True).\n"
          ],
          "name": "stdout"
        }
      ]
    },
    {
      "cell_type": "code",
      "metadata": {
        "id": "hKZvhks_Iy8v"
      },
      "source": [
        "import pandas as pd\n",
        "import numpy as np\n",
        "import tensorflow as tf\n",
        "from tensorflow import keras\n",
        "import os"
      ],
      "execution_count": 4,
      "outputs": []
    },
    {
      "cell_type": "code",
      "metadata": {
        "id": "LpGpzlUMI2c2"
      },
      "source": [
        "path='/content/drive/MyDrive/Machine learning course by Girlscript/ML_EDA_Students performance in exam/StudentsPerformance.csv'\n",
        "my_data=my_data=pd.read_csv(path)"
      ],
      "execution_count": 5,
      "outputs": []
    },
    {
      "cell_type": "code",
      "metadata": {
        "colab": {
          "base_uri": "https://localhost:8080/",
          "height": 203
        },
        "id": "5JvVCqBVI6La",
        "outputId": "3718f00f-9c46-4a6a-f99e-7fc4b83451f2"
      },
      "source": [
        "my_data.head()"
      ],
      "execution_count": 6,
      "outputs": [
        {
          "output_type": "execute_result",
          "data": {
            "text/html": [
              "<div>\n",
              "<style scoped>\n",
              "    .dataframe tbody tr th:only-of-type {\n",
              "        vertical-align: middle;\n",
              "    }\n",
              "\n",
              "    .dataframe tbody tr th {\n",
              "        vertical-align: top;\n",
              "    }\n",
              "\n",
              "    .dataframe thead th {\n",
              "        text-align: right;\n",
              "    }\n",
              "</style>\n",
              "<table border=\"1\" class=\"dataframe\">\n",
              "  <thead>\n",
              "    <tr style=\"text-align: right;\">\n",
              "      <th></th>\n",
              "      <th>gender</th>\n",
              "      <th>groups</th>\n",
              "      <th>parentsEducation</th>\n",
              "      <th>lunch</th>\n",
              "      <th>test_preparation_course</th>\n",
              "      <th>math score</th>\n",
              "      <th>reading score</th>\n",
              "      <th>writing score</th>\n",
              "    </tr>\n",
              "  </thead>\n",
              "  <tbody>\n",
              "    <tr>\n",
              "      <th>0</th>\n",
              "      <td>female</td>\n",
              "      <td>group B</td>\n",
              "      <td>bachelor's degree</td>\n",
              "      <td>standard</td>\n",
              "      <td>none</td>\n",
              "      <td>72</td>\n",
              "      <td>72</td>\n",
              "      <td>74</td>\n",
              "    </tr>\n",
              "    <tr>\n",
              "      <th>1</th>\n",
              "      <td>female</td>\n",
              "      <td>group C</td>\n",
              "      <td>some college</td>\n",
              "      <td>standard</td>\n",
              "      <td>completed</td>\n",
              "      <td>69</td>\n",
              "      <td>90</td>\n",
              "      <td>88</td>\n",
              "    </tr>\n",
              "    <tr>\n",
              "      <th>2</th>\n",
              "      <td>female</td>\n",
              "      <td>group B</td>\n",
              "      <td>master's degree</td>\n",
              "      <td>standard</td>\n",
              "      <td>none</td>\n",
              "      <td>90</td>\n",
              "      <td>95</td>\n",
              "      <td>93</td>\n",
              "    </tr>\n",
              "    <tr>\n",
              "      <th>3</th>\n",
              "      <td>male</td>\n",
              "      <td>group A</td>\n",
              "      <td>associate's degree</td>\n",
              "      <td>free/reduced</td>\n",
              "      <td>none</td>\n",
              "      <td>47</td>\n",
              "      <td>57</td>\n",
              "      <td>44</td>\n",
              "    </tr>\n",
              "    <tr>\n",
              "      <th>4</th>\n",
              "      <td>male</td>\n",
              "      <td>group C</td>\n",
              "      <td>some college</td>\n",
              "      <td>standard</td>\n",
              "      <td>none</td>\n",
              "      <td>76</td>\n",
              "      <td>78</td>\n",
              "      <td>75</td>\n",
              "    </tr>\n",
              "  </tbody>\n",
              "</table>\n",
              "</div>"
            ],
            "text/plain": [
              "   gender   groups  ... reading score writing score\n",
              "0  female  group B  ...            72            74\n",
              "1  female  group C  ...            90            88\n",
              "2  female  group B  ...            95            93\n",
              "3    male  group A  ...            57            44\n",
              "4    male  group C  ...            78            75\n",
              "\n",
              "[5 rows x 8 columns]"
            ]
          },
          "metadata": {
            "tags": []
          },
          "execution_count": 6
        }
      ]
    },
    {
      "cell_type": "code",
      "metadata": {
        "colab": {
          "base_uri": "https://localhost:8080/",
          "height": 203
        },
        "id": "69LkCDiKI9NS",
        "outputId": "9054e122-3b4c-4ca6-92e7-edaceae2bad3"
      },
      "source": [
        "unimy_data=my_data[['math score','reading score']]\n",
        "unimy_data.head()"
      ],
      "execution_count": 7,
      "outputs": [
        {
          "output_type": "execute_result",
          "data": {
            "text/html": [
              "<div>\n",
              "<style scoped>\n",
              "    .dataframe tbody tr th:only-of-type {\n",
              "        vertical-align: middle;\n",
              "    }\n",
              "\n",
              "    .dataframe tbody tr th {\n",
              "        vertical-align: top;\n",
              "    }\n",
              "\n",
              "    .dataframe thead th {\n",
              "        text-align: right;\n",
              "    }\n",
              "</style>\n",
              "<table border=\"1\" class=\"dataframe\">\n",
              "  <thead>\n",
              "    <tr style=\"text-align: right;\">\n",
              "      <th></th>\n",
              "      <th>math score</th>\n",
              "      <th>reading score</th>\n",
              "    </tr>\n",
              "  </thead>\n",
              "  <tbody>\n",
              "    <tr>\n",
              "      <th>0</th>\n",
              "      <td>72</td>\n",
              "      <td>72</td>\n",
              "    </tr>\n",
              "    <tr>\n",
              "      <th>1</th>\n",
              "      <td>69</td>\n",
              "      <td>90</td>\n",
              "    </tr>\n",
              "    <tr>\n",
              "      <th>2</th>\n",
              "      <td>90</td>\n",
              "      <td>95</td>\n",
              "    </tr>\n",
              "    <tr>\n",
              "      <th>3</th>\n",
              "      <td>47</td>\n",
              "      <td>57</td>\n",
              "    </tr>\n",
              "    <tr>\n",
              "      <th>4</th>\n",
              "      <td>76</td>\n",
              "      <td>78</td>\n",
              "    </tr>\n",
              "  </tbody>\n",
              "</table>\n",
              "</div>"
            ],
            "text/plain": [
              "   math score  reading score\n",
              "0          72             72\n",
              "1          69             90\n",
              "2          90             95\n",
              "3          47             57\n",
              "4          76             78"
            ]
          },
          "metadata": {
            "tags": []
          },
          "execution_count": 7
        }
      ]
    },
    {
      "cell_type": "code",
      "metadata": {
        "id": "MnUQvzXHJI59"
      },
      "source": [
        "unimy_data.to_csv('univariate_my_data.csv')"
      ],
      "execution_count": 8,
      "outputs": []
    },
    {
      "cell_type": "code",
      "metadata": {
        "colab": {
          "base_uri": "https://localhost:8080/"
        },
        "id": "LZ2k1qkSJLqc",
        "outputId": "85b89144-7c20-4350-d7a7-9dc3490804c3"
      },
      "source": [
        "ls"
      ],
      "execution_count": 9,
      "outputs": [
        {
          "output_type": "stream",
          "text": [
            "\u001b[0m\u001b[01;34mdrive\u001b[0m/  \u001b[01;34msample_data\u001b[0m/  univariate_my_data.csv\n"
          ],
          "name": "stdout"
        }
      ]
    },
    {
      "cell_type": "code",
      "metadata": {
        "colab": {
          "base_uri": "https://localhost:8080/",
          "height": 157
        },
        "id": "oNr0cDM1JRYx",
        "outputId": "84212e19-796a-4d0f-81aa-aabec2cd54e4"
      },
      "source": [
        "import seaborn as sns\n",
        "sns.palplot(sns.color_palette('PuOr')) #Purpole to orange colors\n",
        "pal=sns.color_palette('PuOr',6) #To print 6 shades from purple to orange\n",
        "pal.as_hex() #set hex code values for colors\n",
        "\n",
        "import matplotlib.pyplot as plt\n",
        "plt.style.use(['seaborn'])\n",
        "sns_colors=['#c6690c','#664697'] #orange purple hex codes\n",
        "sns.set_palette(sns_colors) #set the palette as sns_colors\n",
        "sns.palplot(sns.color_palette(sns_colors)) #plot the color codes"
      ],
      "execution_count": 10,
      "outputs": [
        {
          "output_type": "display_data",
          "data": {
            "image/png": "[encoded data removed]",
            "text/plain": [
              "<Figure size 432x72 with 1 Axes>"
            ]
          },
          "metadata": {
            "tags": [],
            "needs_background": "light"
          }
        },
        {
          "output_type": "display_data",
          "data": {
            "image/png": "[encoded data removed]",
            "text/plain": [
              "<Figure size 144x72 with 1 Axes>"
            ]
          },
          "metadata": {
            "tags": []
          }
        }
      ]
    },
    {
      "cell_type": "code",
      "metadata": {
        "colab": {
          "base_uri": "https://localhost:8080/"
        },
        "id": "RoSUN-2aJU_6",
        "outputId": "af5714f3-1379-4f97-f082-edd5e19fa0f5"
      },
      "source": [
        "unimy_data.columns"
      ],
      "execution_count": 11,
      "outputs": [
        {
          "output_type": "execute_result",
          "data": {
            "text/plain": [
              "Index(['math score', 'reading score'], dtype='object')"
            ]
          },
          "metadata": {
            "tags": []
          },
          "execution_count": 11
        }
      ]
    },
    {
      "cell_type": "code",
      "metadata": {
        "colab": {
          "base_uri": "https://localhost:8080/",
          "height": 391
        },
        "id": "LDf4boboJX4S",
        "outputId": "bce4e59f-b3c7-45c1-f7fa-8ec113a73169"
      },
      "source": [
        "#pairplot for all the values\n",
        "sns.pairplot(unimy_data,\n",
        "             x_vars = ['math score', 'reading score'],\n",
        "             y_vars = ['math score', 'reading score'],\n",
        "             diag_kind='kde' \n",
        "             )"
      ],
      "execution_count": 12,
      "outputs": [
        {
          "output_type": "execute_result",
          "data": {
            "text/plain": [
              "<seaborn.axisgrid.PairGrid at 0x7eff7a0c8b90>"
            ]
          },
          "metadata": {
            "tags": []
          },
          "execution_count": 12
        },
        {
          "output_type": "display_data",
          "data": {
            "image/png": "[encoded data removed]",
            "text/plain": [
              "<Figure size 360x360 with 6 Axes>"
            ]
          },
          "metadata": {
            "tags": []
          }
        }
      ]
    },
    {
      "cell_type": "markdown",
      "metadata": {
        "id": "SA9C-QlcJfOJ"
      },
      "source": [
        "#Data splitting\n",
        "\n",
        "Data splitting is done for univariate my_data"
      ]
    },
    {
      "cell_type": "code",
      "metadata": {
        "colab": {
          "base_uri": "https://localhost:8080/"
        },
        "id": "2APrWFPYJa9H",
        "outputId": "a3c3b04e-041c-45e8-d5a0-e40f0a9232c0"
      },
      "source": [
        "# 80-20 train-test percent split\n",
        "trainDataset= unimy_data.sample(frac=0.8, random_state=0)\n",
        "testDataset= unimy_data.drop(trainDataset.index)\n",
        "\n",
        "print(trainDataset.head())\n",
        "print(testDataset.head())"
      ],
      "execution_count": 13,
      "outputs": [
        {
          "output_type": "stream",
          "text": [
            "     math score  reading score\n",
            "993          62             72\n",
            "859          87             73\n",
            "298          40             46\n",
            "553          77             62\n",
            "672          69             78\n",
            "    math score  reading score\n",
            "9           38             60\n",
            "11          40             52\n",
            "19          54             58\n",
            "23          69             73\n",
            "28          70             70\n"
          ],
          "name": "stdout"
        }
      ]
    },
    {
      "cell_type": "code",
      "metadata": {
        "colab": {
          "base_uri": "https://localhost:8080/"
        },
        "id": "uttzWudBJoeD",
        "outputId": "e93abfbe-663c-49b1-e165-fbd1fdf5c06c"
      },
      "source": [
        "print(trainDataset.shape)\n",
        "print(testDataset.shape)"
      ],
      "execution_count": 14,
      "outputs": [
        {
          "output_type": "stream",
          "text": [
            "(800, 2)\n",
            "(200, 2)\n"
          ],
          "name": "stdout"
        }
      ]
    },
    {
      "cell_type": "code",
      "metadata": {
        "colab": {
          "base_uri": "https://localhost:8080/"
        },
        "id": "f9sI0rpLJrVp",
        "outputId": "6522bd9d-ca29-444e-f2db-533b62fd8f79"
      },
      "source": [
        "# to copy the trainDataset dataframe for getting the features\n",
        "trainFeatures= trainDataset.copy()\n",
        "testFeatures= testDataset.copy()\n",
        "\n",
        "print(trainFeatures.head())\n",
        "print(testFeatures.head())"
      ],
      "execution_count": 15,
      "outputs": [
        {
          "output_type": "stream",
          "text": [
            "     math score  reading score\n",
            "993          62             72\n",
            "859          87             73\n",
            "298          40             46\n",
            "553          77             62\n",
            "672          69             78\n",
            "    math score  reading score\n",
            "9           38             60\n",
            "11          40             52\n",
            "19          54             58\n",
            "23          69             73\n",
            "28          70             70\n"
          ],
          "name": "stdout"
        }
      ]
    },
    {
      "cell_type": "code",
      "metadata": {
        "colab": {
          "base_uri": "https://localhost:8080/"
        },
        "id": "I6ipZTOqKWgg",
        "outputId": "86f61f4b-8c4a-4ead-9e20-8e77c2aa4dbb"
      },
      "source": [
        "#To remove the math score column and saving it into the labels variables\n",
        "\n",
        "trainLabels = trainFeatures.pop('math score')\n",
        "testLabels = testFeatures.pop('math score')\n",
        "\n",
        "print(trainLabels.head())\n",
        "print(testLabels.head())"
      ],
      "execution_count": 16,
      "outputs": [
        {
          "output_type": "stream",
          "text": [
            "993    62\n",
            "859    87\n",
            "298    40\n",
            "553    77\n",
            "672    69\n",
            "Name: math score, dtype: int64\n",
            "9     38\n",
            "11    40\n",
            "19    54\n",
            "23    69\n",
            "28    70\n",
            "Name: math score, dtype: int64\n"
          ],
          "name": "stdout"
        }
      ]
    },
    {
      "cell_type": "code",
      "metadata": {
        "colab": {
          "base_uri": "https://localhost:8080/"
        },
        "id": "-1riEof2K393",
        "outputId": "e498d98a-f923-41db-9fd8-80b7074f59c4"
      },
      "source": [
        "print(trainFeatures.head())\n",
        "print(testFeatures.head())"
      ],
      "execution_count": 17,
      "outputs": [
        {
          "output_type": "stream",
          "text": [
            "     reading score\n",
            "993             72\n",
            "859             73\n",
            "298             46\n",
            "553             62\n",
            "672             78\n",
            "    reading score\n",
            "9              60\n",
            "11             52\n",
            "19             58\n",
            "23             73\n",
            "28             70\n"
          ],
          "name": "stdout"
        }
      ]
    },
    {
      "cell_type": "code",
      "metadata": {
        "colab": {
          "base_uri": "https://localhost:8080/"
        },
        "id": "g_HNBhRaK7tf",
        "outputId": "2702344d-c5a2-4e4a-df6b-e79122acff93"
      },
      "source": [
        "print(testFeatures.shape)\n",
        "print(trainFeatures.shape)"
      ],
      "execution_count": 18,
      "outputs": [
        {
          "output_type": "stream",
          "text": [
            "(200, 1)\n",
            "(800, 1)\n"
          ],
          "name": "stdout"
        }
      ]
    },
    {
      "cell_type": "code",
      "metadata": {
        "id": "--KlXQ8WJtyj"
      },
      "source": [
        "# For univariate -- Num features = 1\n",
        "# for multivariate -- Num Features> 1 = 11\n",
        "\n",
        "model = tf.keras.Sequential([\n",
        "                           tf.keras.layers.Dense(1)\n",
        "])"
      ],
      "execution_count": 19,
      "outputs": []
    },
    {
      "cell_type": "code",
      "metadata": {
        "id": "cBRvhzfJJwst"
      },
      "source": [
        "model.compile(\n",
        "    loss = 'mean_absolute_error', #minimizing the MAE loss\n",
        "    optimizer = tf.keras.optimizers.Adam(0.001) #learning rate specified as 0.001\n",
        "    #optimizer = 'adam', # takes the default learning rate\n",
        "    ,metrics = ['mae','mse']  \n",
        ")"
      ],
      "execution_count": 20,
      "outputs": []
    },
    {
      "cell_type": "code",
      "metadata": {
        "colab": {
          "base_uri": "https://localhost:8080/"
        },
        "id": "15PKzb9YJ14O",
        "outputId": "708c5fe0-73ca-49e1-b102-f5e522fe7a02"
      },
      "source": [
        "numEpochs = 300\n",
        "history = model.fit(x=trainFeatures, y=trainLabels, validation_data=(testFeatures, testLabels), epochs= numEpochs)"
      ],
      "execution_count": 21,
      "outputs": [
        {
          "output_type": "stream",
          "text": [
            "Epoch 1/300\n",
            "25/25 [==============================] - 1s 10ms/step - loss: 76.3994 - mae: 76.3994 - mse: 6122.8442 - val_loss: 73.5676 - val_mae: 73.5676 - val_mse: 5692.8462\n",
            "Epoch 2/300\n",
            "25/25 [==============================] - 0s 3ms/step - loss: 74.6390 - mae: 74.6390 - mse: 5845.9233 - val_loss: 71.8510 - val_mae: 71.8510 - val_mse: 5432.9038\n",
            "Epoch 3/300\n",
            "25/25 [==============================] - 0s 3ms/step - loss: 72.8750 - mae: 72.8750 - mse: 5574.7485 - val_loss: 70.1357 - val_mae: 70.1357 - val_mse: 5179.3232\n",
            "Epoch 4/300\n",
            "25/25 [==============================] - 0s 3ms/step - loss: 71.1170 - mae: 71.1170 - mse: 5312.9287 - val_loss: 68.4113 - val_mae: 68.4113 - val_mse: 4930.5811\n",
            "Epoch 5/300\n",
            "25/25 [==============================] - 0s 3ms/step - loss: 69.3551 - mae: 69.3551 - mse: 5055.6743 - val_loss: 66.6892 - val_mae: 66.6892 - val_mse: 4688.3828\n",
            "Epoch 6/300\n",
            "25/25 [==============================] - 0s 2ms/step - loss: 67.5891 - mae: 67.5891 - mse: 4803.8979 - val_loss: 64.9768 - val_mae: 64.9768 - val_mse: 4453.6851\n",
            "Epoch 7/300\n",
            "25/25 [==============================] - 0s 2ms/step - loss: 65.8322 - mae: 65.8322 - mse: 4561.0176 - val_loss: 63.2559 - val_mae: 63.2559 - val_mse: 4223.9946\n",
            "Epoch 8/300\n",
            "25/25 [==============================] - 0s 3ms/step - loss: 64.0712 - mae: 64.0712 - mse: 4323.5854 - val_loss: 61.5382 - val_mae: 61.5382 - val_mse: 4000.9055\n",
            "Epoch 9/300\n",
            "25/25 [==============================] - 0s 2ms/step - loss: 62.3147 - mae: 62.3147 - mse: 4092.8306 - val_loss: 59.8146 - val_mae: 59.8146 - val_mse: 3783.2515\n",
            "Epoch 10/300\n",
            "25/25 [==============================] - 0s 2ms/step - loss: 60.5488 - mae: 60.5488 - mse: 3866.2231 - val_loss: 58.1045 - val_mae: 58.1045 - val_mse: 3573.4299\n",
            "Epoch 11/300\n",
            "25/25 [==============================] - 0s 2ms/step - loss: 58.7969 - mae: 58.7969 - mse: 3650.3752 - val_loss: 56.3767 - val_mae: 56.3767 - val_mse: 3367.6455\n",
            "Epoch 12/300\n",
            "25/25 [==============================] - 0s 3ms/step - loss: 57.0302 - mae: 57.0302 - mse: 3437.5244 - val_loss: 54.6654 - val_mae: 54.6654 - val_mse: 3169.9736\n",
            "Epoch 13/300\n",
            "25/25 [==============================] - 0s 3ms/step - loss: 55.2741 - mae: 55.2741 - mse: 3232.6873 - val_loss: 52.9449 - val_mae: 52.9449 - val_mse: 2977.4170\n",
            "Epoch 14/300\n",
            "25/25 [==============================] - 0s 2ms/step - loss: 53.5137 - mae: 53.5137 - mse: 3033.9238 - val_loss: 51.2255 - val_mae: 51.2255 - val_mse: 2791.1565\n",
            "Epoch 15/300\n",
            "25/25 [==============================] - 0s 2ms/step - loss: 51.7536 - mae: 51.7536 - mse: 2841.4517 - val_loss: 49.5070 - val_mae: 49.5070 - val_mse: 2611.1582\n",
            "Epoch 16/300\n",
            "25/25 [==============================] - 0s 2ms/step - loss: 49.9927 - mae: 49.9927 - mse: 2655.3696 - val_loss: 47.7905 - val_mae: 47.7905 - val_mse: 2437.5393\n",
            "Epoch 17/300\n",
            "25/25 [==============================] - 0s 2ms/step - loss: 48.2349 - mae: 48.2349 - mse: 2476.7498 - val_loss: 46.0688 - val_mae: 46.0688 - val_mse: 2269.5735\n",
            "Epoch 18/300\n",
            "25/25 [==============================] - 0s 2ms/step - loss: 46.4732 - mae: 46.4732 - mse: 2303.7742 - val_loss: 44.3512 - val_mae: 44.3512 - val_mse: 2108.1904\n",
            "Epoch 19/300\n",
            "25/25 [==============================] - 0s 2ms/step - loss: 44.7137 - mae: 44.7137 - mse: 2136.8611 - val_loss: 42.6339 - val_mae: 42.6339 - val_mse: 1952.8693\n",
            "Epoch 20/300\n",
            "25/25 [==============================] - 0s 2ms/step - loss: 42.9542 - mae: 42.9542 - mse: 1977.0817 - val_loss: 40.9202 - val_mae: 40.9202 - val_mse: 1803.6118\n",
            "Epoch 21/300\n",
            "25/25 [==============================] - 0s 2ms/step - loss: 41.1926 - mae: 41.1926 - mse: 1823.4619 - val_loss: 39.2101 - val_mae: 39.2101 - val_mse: 1660.8287\n",
            "Epoch 22/300\n",
            "25/25 [==============================] - 0s 3ms/step - loss: 39.4342 - mae: 39.4342 - mse: 1676.8782 - val_loss: 37.4960 - val_mae: 37.4960 - val_mse: 1523.8875\n",
            "Epoch 23/300\n",
            "25/25 [==============================] - 0s 3ms/step - loss: 37.6712 - mae: 37.6712 - mse: 1535.7256 - val_loss: 35.7883 - val_mae: 35.7883 - val_mse: 1393.6108\n",
            "Epoch 24/300\n",
            "25/25 [==============================] - 0s 3ms/step - loss: 35.9155 - mae: 35.9155 - mse: 1402.1383 - val_loss: 34.0697 - val_mae: 34.0697 - val_mse: 1268.6978\n",
            "Epoch 25/300\n",
            "25/25 [==============================] - 0s 2ms/step - loss: 34.1532 - mae: 34.1532 - mse: 1274.3246 - val_loss: 32.3563 - val_mae: 32.3563 - val_mse: 1150.3550\n",
            "Epoch 26/300\n",
            "25/25 [==============================] - 0s 2ms/step - loss: 32.3926 - mae: 32.3926 - mse: 1153.2008 - val_loss: 30.6464 - val_mae: 30.6464 - val_mse: 1038.4087\n",
            "Epoch 27/300\n",
            "25/25 [==============================] - 0s 3ms/step - loss: 30.6369 - mae: 30.6369 - mse: 1038.5344 - val_loss: 28.9371 - val_mae: 28.9371 - val_mse: 932.6541\n",
            "Epoch 28/300\n",
            "25/25 [==============================] - 0s 3ms/step - loss: 28.8844 - mae: 28.8844 - mse: 930.6378 - val_loss: 27.2298 - val_mae: 27.2298 - val_mse: 833.1582\n",
            "Epoch 29/300\n",
            "25/25 [==============================] - 0s 2ms/step - loss: 27.1353 - mae: 27.1353 - mse: 828.6812 - val_loss: 25.5297 - val_mae: 25.5297 - val_mse: 740.1861\n",
            "Epoch 30/300\n",
            "25/25 [==============================] - 0s 2ms/step - loss: 25.4019 - mae: 25.4019 - mse: 734.9561 - val_loss: 23.8211 - val_mae: 23.8211 - val_mse: 652.8716\n",
            "Epoch 31/300\n",
            "25/25 [==============================] - 0s 3ms/step - loss: 23.6691 - mae: 23.6691 - mse: 645.8963 - val_loss: 22.1310 - val_mae: 22.1310 - val_mse: 572.1404\n",
            "Epoch 32/300\n",
            "25/25 [==============================] - 0s 2ms/step - loss: 21.9543 - mae: 21.9543 - mse: 564.2305 - val_loss: 20.4832 - val_mae: 20.4832 - val_mse: 498.3120\n",
            "Epoch 33/300\n",
            "25/25 [==============================] - 0s 3ms/step - loss: 20.2687 - mae: 20.2687 - mse: 489.6243 - val_loss: 18.8330 - val_mae: 18.8330 - val_mse: 430.2704\n",
            "Epoch 34/300\n",
            "25/25 [==============================] - 0s 2ms/step - loss: 18.6022 - mae: 18.6022 - mse: 421.6677 - val_loss: 17.2478 - val_mae: 17.2478 - val_mse: 369.1400\n",
            "Epoch 35/300\n",
            "25/25 [==============================] - 0s 3ms/step - loss: 16.9861 - mae: 16.9861 - mse: 360.5386 - val_loss: 15.7136 - val_mae: 15.7136 - val_mse: 314.2251\n",
            "Epoch 36/300\n",
            "25/25 [==============================] - 0s 3ms/step - loss: 15.4239 - mae: 15.4239 - mse: 305.8113 - val_loss: 14.2366 - val_mae: 14.2366 - val_mse: 265.6784\n",
            "Epoch 37/300\n",
            "25/25 [==============================] - 0s 3ms/step - loss: 13.9417 - mae: 13.9417 - mse: 258.7319 - val_loss: 12.8710 - val_mae: 12.8710 - val_mse: 224.0502\n",
            "Epoch 38/300\n",
            "25/25 [==============================] - 0s 2ms/step - loss: 12.5890 - mae: 12.5890 - mse: 218.0656 - val_loss: 11.6506 - val_mae: 11.6506 - val_mse: 189.1210\n",
            "Epoch 39/300\n",
            "25/25 [==============================] - 0s 3ms/step - loss: 11.3736 - mae: 11.3736 - mse: 183.9191 - val_loss: 10.6349 - val_mae: 10.6349 - val_mse: 160.9303\n",
            "Epoch 40/300\n",
            "25/25 [==============================] - 0s 2ms/step - loss: 10.3275 - mae: 10.3275 - mse: 157.1689 - val_loss: 9.7398 - val_mae: 9.7398 - val_mse: 137.9643\n",
            "Epoch 41/300\n",
            "25/25 [==============================] - 0s 2ms/step - loss: 9.4726 - mae: 9.4726 - mse: 135.4979 - val_loss: 8.9769 - val_mae: 8.9769 - val_mse: 120.1317\n",
            "Epoch 42/300\n",
            "25/25 [==============================] - 0s 2ms/step - loss: 8.8403 - mae: 8.8403 - mse: 119.5887 - val_loss: 8.4142 - val_mae: 8.4142 - val_mse: 107.3110\n",
            "Epoch 43/300\n",
            "25/25 [==============================] - 0s 2ms/step - loss: 8.3743 - mae: 8.3743 - mse: 107.8823 - val_loss: 8.0163 - val_mae: 8.0163 - val_mse: 98.4513\n",
            "Epoch 44/300\n",
            "25/25 [==============================] - 0s 2ms/step - loss: 8.0379 - mae: 8.0379 - mse: 99.6606 - val_loss: 7.6810 - val_mae: 7.6810 - val_mse: 91.4312\n",
            "Epoch 45/300\n",
            "25/25 [==============================] - 0s 2ms/step - loss: 7.7930 - mae: 7.7930 - mse: 93.2685 - val_loss: 7.4457 - val_mae: 7.4457 - val_mse: 86.5618\n",
            "Epoch 46/300\n",
            "25/25 [==============================] - 0s 2ms/step - loss: 7.6191 - mae: 7.6191 - mse: 88.8738 - val_loss: 7.2912 - val_mae: 7.2912 - val_mse: 83.4205\n",
            "Epoch 47/300\n",
            "25/25 [==============================] - 0s 2ms/step - loss: 7.4895 - mae: 7.4895 - mse: 85.8422 - val_loss: 7.1715 - val_mae: 7.1715 - val_mse: 80.8961\n",
            "Epoch 48/300\n",
            "25/25 [==============================] - 0s 2ms/step - loss: 7.3871 - mae: 7.3871 - mse: 83.5608 - val_loss: 7.0948 - val_mae: 7.0948 - val_mse: 79.0579\n",
            "Epoch 49/300\n",
            "25/25 [==============================] - 0s 2ms/step - loss: 7.3189 - mae: 7.3189 - mse: 81.7793 - val_loss: 7.0436 - val_mae: 7.0436 - val_mse: 77.7249\n",
            "Epoch 50/300\n",
            "25/25 [==============================] - 0s 2ms/step - loss: 7.2713 - mae: 7.2713 - mse: 80.7300 - val_loss: 7.0225 - val_mae: 7.0225 - val_mse: 77.0877\n",
            "Epoch 51/300\n",
            "25/25 [==============================] - 0s 2ms/step - loss: 7.2456 - mae: 7.2456 - mse: 80.0516 - val_loss: 7.0016 - val_mae: 7.0016 - val_mse: 76.5076\n",
            "Epoch 52/300\n",
            "25/25 [==============================] - 0s 2ms/step - loss: 7.2268 - mae: 7.2268 - mse: 79.5389 - val_loss: 6.9923 - val_mae: 6.9923 - val_mse: 76.1901\n",
            "Epoch 53/300\n",
            "25/25 [==============================] - 0s 2ms/step - loss: 7.2179 - mae: 7.2179 - mse: 79.2469 - val_loss: 6.9870 - val_mae: 6.9870 - val_mse: 75.9700\n",
            "Epoch 54/300\n",
            "25/25 [==============================] - 0s 3ms/step - loss: 7.2126 - mae: 7.2126 - mse: 79.0643 - val_loss: 6.9849 - val_mae: 6.9849 - val_mse: 75.8888\n",
            "Epoch 55/300\n",
            "25/25 [==============================] - 0s 3ms/step - loss: 7.2101 - mae: 7.2101 - mse: 78.9332 - val_loss: 6.9819 - val_mae: 6.9819 - val_mse: 75.7462\n",
            "Epoch 56/300\n",
            "25/25 [==============================] - 0s 2ms/step - loss: 7.2071 - mae: 7.2071 - mse: 78.8267 - val_loss: 6.9810 - val_mae: 6.9810 - val_mse: 75.6968\n",
            "Epoch 57/300\n",
            "25/25 [==============================] - 0s 3ms/step - loss: 7.2062 - mae: 7.2062 - mse: 78.7705 - val_loss: 6.9803 - val_mae: 6.9803 - val_mse: 75.6604\n",
            "Epoch 58/300\n",
            "25/25 [==============================] - 0s 3ms/step - loss: 7.2064 - mae: 7.2064 - mse: 78.7143 - val_loss: 6.9789 - val_mae: 6.9789 - val_mse: 75.5914\n",
            "Epoch 59/300\n",
            "25/25 [==============================] - 0s 2ms/step - loss: 7.2045 - mae: 7.2045 - mse: 78.6565 - val_loss: 6.9789 - val_mae: 6.9789 - val_mse: 75.5631\n",
            "Epoch 60/300\n",
            "25/25 [==============================] - 0s 2ms/step - loss: 7.2040 - mae: 7.2040 - mse: 78.6241 - val_loss: 6.9789 - val_mae: 6.9789 - val_mse: 75.5569\n",
            "Epoch 61/300\n",
            "25/25 [==============================] - 0s 2ms/step - loss: 7.2040 - mae: 7.2040 - mse: 78.5865 - val_loss: 6.9792 - val_mae: 6.9792 - val_mse: 75.5249\n",
            "Epoch 62/300\n",
            "25/25 [==============================] - 0s 2ms/step - loss: 7.2026 - mae: 7.2026 - mse: 78.5662 - val_loss: 6.9795 - val_mae: 6.9795 - val_mse: 75.5123\n",
            "Epoch 63/300\n",
            "25/25 [==============================] - 0s 2ms/step - loss: 7.2029 - mae: 7.2029 - mse: 78.5656 - val_loss: 6.9794 - val_mae: 6.9794 - val_mse: 75.5132\n",
            "Epoch 64/300\n",
            "25/25 [==============================] - 0s 3ms/step - loss: 7.2037 - mae: 7.2037 - mse: 78.5774 - val_loss: 6.9794 - val_mae: 6.9794 - val_mse: 75.5116\n",
            "Epoch 65/300\n",
            "25/25 [==============================] - 0s 2ms/step - loss: 7.2022 - mae: 7.2022 - mse: 78.5021 - val_loss: 6.9806 - val_mae: 6.9806 - val_mse: 75.4660\n",
            "Epoch 66/300\n",
            "25/25 [==============================] - 0s 2ms/step - loss: 7.2027 - mae: 7.2027 - mse: 78.4779 - val_loss: 6.9810 - val_mae: 6.9810 - val_mse: 75.4536\n",
            "Epoch 67/300\n",
            "25/25 [==============================] - 0s 3ms/step - loss: 7.2020 - mae: 7.2020 - mse: 78.4943 - val_loss: 6.9804 - val_mae: 6.9804 - val_mse: 75.4705\n",
            "Epoch 68/300\n",
            "25/25 [==============================] - 0s 2ms/step - loss: 7.2018 - mae: 7.2018 - mse: 78.5016 - val_loss: 6.9806 - val_mae: 6.9806 - val_mse: 75.4631\n",
            "Epoch 69/300\n",
            "25/25 [==============================] - 0s 2ms/step - loss: 7.2037 - mae: 7.2037 - mse: 78.4905 - val_loss: 6.9818 - val_mae: 6.9818 - val_mse: 75.4420\n",
            "Epoch 70/300\n",
            "25/25 [==============================] - 0s 3ms/step - loss: 7.2026 - mae: 7.2026 - mse: 78.4795 - val_loss: 6.9809 - val_mae: 6.9809 - val_mse: 75.4509\n",
            "Epoch 71/300\n",
            "25/25 [==============================] - 0s 2ms/step - loss: 7.2033 - mae: 7.2033 - mse: 78.5159 - val_loss: 6.9807 - val_mae: 6.9807 - val_mse: 75.4570\n",
            "Epoch 72/300\n",
            "25/25 [==============================] - 0s 2ms/step - loss: 7.2021 - mae: 7.2021 - mse: 78.4743 - val_loss: 6.9812 - val_mae: 6.9812 - val_mse: 75.4455\n",
            "Epoch 73/300\n",
            "25/25 [==============================] - 0s 3ms/step - loss: 7.2020 - mae: 7.2020 - mse: 78.4888 - val_loss: 6.9806 - val_mae: 6.9806 - val_mse: 75.4564\n",
            "Epoch 74/300\n",
            "25/25 [==============================] - 0s 3ms/step - loss: 7.2033 - mae: 7.2033 - mse: 78.4764 - val_loss: 6.9817 - val_mae: 6.9817 - val_mse: 75.4389\n",
            "Epoch 75/300\n",
            "25/25 [==============================] - 0s 2ms/step - loss: 7.2024 - mae: 7.2024 - mse: 78.4770 - val_loss: 6.9803 - val_mae: 6.9803 - val_mse: 75.4612\n",
            "Epoch 76/300\n",
            "25/25 [==============================] - 0s 2ms/step - loss: 7.2014 - mae: 7.2014 - mse: 78.4808 - val_loss: 6.9806 - val_mae: 6.9806 - val_mse: 75.4498\n",
            "Epoch 77/300\n",
            "25/25 [==============================] - 0s 2ms/step - loss: 7.2017 - mae: 7.2017 - mse: 78.4746 - val_loss: 6.9808 - val_mae: 6.9808 - val_mse: 75.4456\n",
            "Epoch 78/300\n",
            "25/25 [==============================] - 0s 3ms/step - loss: 7.2017 - mae: 7.2017 - mse: 78.4712 - val_loss: 6.9809 - val_mae: 6.9809 - val_mse: 75.4435\n",
            "Epoch 79/300\n",
            "25/25 [==============================] - 0s 3ms/step - loss: 7.2017 - mae: 7.2017 - mse: 78.4760 - val_loss: 6.9805 - val_mae: 6.9805 - val_mse: 75.4489\n",
            "Epoch 80/300\n",
            "25/25 [==============================] - 0s 2ms/step - loss: 7.2015 - mae: 7.2015 - mse: 78.4726 - val_loss: 6.9805 - val_mae: 6.9805 - val_mse: 75.4465\n",
            "Epoch 81/300\n",
            "25/25 [==============================] - 0s 3ms/step - loss: 7.2027 - mae: 7.2027 - mse: 78.4636 - val_loss: 6.9815 - val_mae: 6.9815 - val_mse: 75.4345\n",
            "Epoch 82/300\n",
            "25/25 [==============================] - 0s 2ms/step - loss: 7.2031 - mae: 7.2031 - mse: 78.5086 - val_loss: 6.9803 - val_mae: 6.9803 - val_mse: 75.4500\n",
            "Epoch 83/300\n",
            "25/25 [==============================] - 0s 2ms/step - loss: 7.2017 - mae: 7.2017 - mse: 78.4785 - val_loss: 6.9802 - val_mae: 6.9802 - val_mse: 75.4504\n",
            "Epoch 84/300\n",
            "25/25 [==============================] - 0s 3ms/step - loss: 7.2013 - mae: 7.2013 - mse: 78.4872 - val_loss: 6.9800 - val_mae: 6.9800 - val_mse: 75.4555\n",
            "Epoch 85/300\n",
            "25/25 [==============================] - 0s 3ms/step - loss: 7.2016 - mae: 7.2016 - mse: 78.4797 - val_loss: 6.9804 - val_mae: 6.9804 - val_mse: 75.4432\n",
            "Epoch 86/300\n",
            "25/25 [==============================] - 0s 2ms/step - loss: 7.2014 - mae: 7.2014 - mse: 78.4646 - val_loss: 6.9803 - val_mae: 6.9803 - val_mse: 75.4439\n",
            "Epoch 87/300\n",
            "25/25 [==============================] - 0s 2ms/step - loss: 7.2036 - mae: 7.2036 - mse: 78.5224 - val_loss: 6.9791 - val_mae: 6.9791 - val_mse: 75.4774\n",
            "Epoch 88/300\n",
            "25/25 [==============================] - 0s 2ms/step - loss: 7.2013 - mae: 7.2013 - mse: 78.4959 - val_loss: 6.9797 - val_mae: 6.9797 - val_mse: 75.4557\n",
            "Epoch 89/300\n",
            "25/25 [==============================] - 0s 3ms/step - loss: 7.2016 - mae: 7.2016 - mse: 78.4736 - val_loss: 6.9798 - val_mae: 6.9798 - val_mse: 75.4512\n",
            "Epoch 90/300\n",
            "25/25 [==============================] - 0s 3ms/step - loss: 7.2017 - mae: 7.2017 - mse: 78.4646 - val_loss: 6.9803 - val_mae: 6.9803 - val_mse: 75.4381\n",
            "Epoch 91/300\n",
            "25/25 [==============================] - 0s 3ms/step - loss: 7.2019 - mae: 7.2019 - mse: 78.4729 - val_loss: 6.9800 - val_mae: 6.9800 - val_mse: 75.4426\n",
            "Epoch 92/300\n",
            "25/25 [==============================] - 0s 3ms/step - loss: 7.2056 - mae: 7.2056 - mse: 78.4906 - val_loss: 6.9807 - val_mae: 6.9807 - val_mse: 75.4311\n",
            "Epoch 93/300\n",
            "25/25 [==============================] - 0s 2ms/step - loss: 7.2014 - mae: 7.2014 - mse: 78.4623 - val_loss: 6.9796 - val_mae: 6.9796 - val_mse: 75.4489\n",
            "Epoch 94/300\n",
            "25/25 [==============================] - 0s 2ms/step - loss: 7.2011 - mae: 7.2011 - mse: 78.4553 - val_loss: 6.9801 - val_mae: 6.9801 - val_mse: 75.4364\n",
            "Epoch 95/300\n",
            "25/25 [==============================] - 0s 3ms/step - loss: 7.2017 - mae: 7.2017 - mse: 78.4731 - val_loss: 6.9795 - val_mae: 6.9795 - val_mse: 75.4471\n",
            "Epoch 96/300\n",
            "25/25 [==============================] - 0s 3ms/step - loss: 7.2015 - mae: 7.2015 - mse: 78.4679 - val_loss: 6.9801 - val_mae: 6.9801 - val_mse: 75.4340\n",
            "Epoch 97/300\n",
            "25/25 [==============================] - 0s 2ms/step - loss: 7.2016 - mae: 7.2016 - mse: 78.4726 - val_loss: 6.9803 - val_mae: 6.9803 - val_mse: 75.4294\n",
            "Epoch 98/300\n",
            "25/25 [==============================] - 0s 2ms/step - loss: 7.2015 - mae: 7.2015 - mse: 78.4598 - val_loss: 6.9794 - val_mae: 6.9794 - val_mse: 75.4442\n",
            "Epoch 99/300\n",
            "25/25 [==============================] - 0s 2ms/step - loss: 7.2018 - mae: 7.2018 - mse: 78.5013 - val_loss: 6.9791 - val_mae: 6.9791 - val_mse: 75.4498\n",
            "Epoch 100/300\n",
            "25/25 [==============================] - 0s 3ms/step - loss: 7.2014 - mae: 7.2014 - mse: 78.4717 - val_loss: 6.9798 - val_mae: 6.9798 - val_mse: 75.4329\n",
            "Epoch 101/300\n",
            "25/25 [==============================] - 0s 3ms/step - loss: 7.2010 - mae: 7.2010 - mse: 78.4620 - val_loss: 6.9796 - val_mae: 6.9796 - val_mse: 75.4343\n",
            "Epoch 102/300\n",
            "25/25 [==============================] - 0s 3ms/step - loss: 7.2020 - mae: 7.2020 - mse: 78.4798 - val_loss: 6.9795 - val_mae: 6.9795 - val_mse: 75.4343\n",
            "Epoch 103/300\n",
            "25/25 [==============================] - 0s 2ms/step - loss: 7.2006 - mae: 7.2006 - mse: 78.4591 - val_loss: 6.9794 - val_mae: 6.9794 - val_mse: 75.4355\n",
            "Epoch 104/300\n",
            "25/25 [==============================] - 0s 3ms/step - loss: 7.2005 - mae: 7.2005 - mse: 78.4511 - val_loss: 6.9796 - val_mae: 6.9796 - val_mse: 75.4292\n",
            "Epoch 105/300\n",
            "25/25 [==============================] - 0s 3ms/step - loss: 7.2011 - mae: 7.2011 - mse: 78.4583 - val_loss: 6.9794 - val_mae: 6.9794 - val_mse: 75.4316\n",
            "Epoch 106/300\n",
            "25/25 [==============================] - 0s 2ms/step - loss: 7.2010 - mae: 7.2010 - mse: 78.4584 - val_loss: 6.9794 - val_mae: 6.9794 - val_mse: 75.4298\n",
            "Epoch 107/300\n",
            "25/25 [==============================] - 0s 3ms/step - loss: 7.2006 - mae: 7.2006 - mse: 78.4644 - val_loss: 6.9790 - val_mae: 6.9790 - val_mse: 75.4370\n",
            "Epoch 108/300\n",
            "25/25 [==============================] - 0s 2ms/step - loss: 7.2012 - mae: 7.2012 - mse: 78.4642 - val_loss: 6.9788 - val_mae: 6.9788 - val_mse: 75.4385\n",
            "Epoch 109/300\n",
            "25/25 [==============================] - 0s 2ms/step - loss: 7.2011 - mae: 7.2011 - mse: 78.4786 - val_loss: 6.9794 - val_mae: 6.9794 - val_mse: 75.4247\n",
            "Epoch 110/300\n",
            "25/25 [==============================] - 0s 2ms/step - loss: 7.2014 - mae: 7.2014 - mse: 78.4579 - val_loss: 6.9794 - val_mae: 6.9794 - val_mse: 75.4234\n",
            "Epoch 111/300\n",
            "25/25 [==============================] - 0s 3ms/step - loss: 7.2012 - mae: 7.2012 - mse: 78.4655 - val_loss: 6.9790 - val_mae: 6.9790 - val_mse: 75.4273\n",
            "Epoch 112/300\n",
            "25/25 [==============================] - 0s 3ms/step - loss: 7.2066 - mae: 7.2066 - mse: 78.4833 - val_loss: 6.9805 - val_mae: 6.9805 - val_mse: 75.4096\n",
            "Epoch 113/300\n",
            "25/25 [==============================] - 0s 2ms/step - loss: 7.1999 - mae: 7.1999 - mse: 78.4440 - val_loss: 6.9786 - val_mae: 6.9786 - val_mse: 75.4338\n",
            "Epoch 114/300\n",
            "25/25 [==============================] - 0s 2ms/step - loss: 7.2034 - mae: 7.2034 - mse: 78.5628 - val_loss: 6.9775 - val_mae: 6.9775 - val_mse: 75.4675\n",
            "Epoch 115/300\n",
            "25/25 [==============================] - 0s 2ms/step - loss: 7.2020 - mae: 7.2020 - mse: 78.5215 - val_loss: 6.9788 - val_mae: 6.9788 - val_mse: 75.4239\n",
            "Epoch 116/300\n",
            "25/25 [==============================] - 0s 2ms/step - loss: 7.2025 - mae: 7.2025 - mse: 78.5014 - val_loss: 6.9796 - val_mae: 6.9796 - val_mse: 75.4129\n",
            "Epoch 117/300\n",
            "25/25 [==============================] - 0s 2ms/step - loss: 7.2008 - mae: 7.2008 - mse: 78.4209 - val_loss: 6.9802 - val_mae: 6.9802 - val_mse: 75.4060\n",
            "Epoch 118/300\n",
            "25/25 [==============================] - 0s 3ms/step - loss: 7.2005 - mae: 7.2005 - mse: 78.4137 - val_loss: 6.9804 - val_mae: 6.9804 - val_mse: 75.4030\n",
            "Epoch 119/300\n",
            "25/25 [==============================] - 0s 2ms/step - loss: 7.2039 - mae: 7.2039 - mse: 78.4778 - val_loss: 6.9779 - val_mae: 6.9779 - val_mse: 75.4400\n",
            "Epoch 120/300\n",
            "25/25 [==============================] - 0s 3ms/step - loss: 7.2024 - mae: 7.2024 - mse: 78.4480 - val_loss: 6.9795 - val_mae: 6.9795 - val_mse: 75.4084\n",
            "Epoch 121/300\n",
            "25/25 [==============================] - 0s 2ms/step - loss: 7.2071 - mae: 7.2071 - mse: 78.5586 - val_loss: 6.9775 - val_mae: 6.9775 - val_mse: 75.4478\n",
            "Epoch 122/300\n",
            "25/25 [==============================] - 0s 3ms/step - loss: 7.2005 - mae: 7.2005 - mse: 78.4421 - val_loss: 6.9785 - val_mae: 6.9785 - val_mse: 75.4173\n",
            "Epoch 123/300\n",
            "25/25 [==============================] - 0s 3ms/step - loss: 7.2003 - mae: 7.2003 - mse: 78.4493 - val_loss: 6.9785 - val_mae: 6.9785 - val_mse: 75.4159\n",
            "Epoch 124/300\n",
            "25/25 [==============================] - 0s 2ms/step - loss: 7.2002 - mae: 7.2002 - mse: 78.4312 - val_loss: 6.9790 - val_mae: 6.9790 - val_mse: 75.4077\n",
            "Epoch 125/300\n",
            "25/25 [==============================] - 0s 2ms/step - loss: 7.2005 - mae: 7.2005 - mse: 78.4356 - val_loss: 6.9780 - val_mae: 6.9780 - val_mse: 75.4202\n",
            "Epoch 126/300\n",
            "25/25 [==============================] - 0s 2ms/step - loss: 7.2004 - mae: 7.2004 - mse: 78.4751 - val_loss: 6.9777 - val_mae: 6.9777 - val_mse: 75.4261\n",
            "Epoch 127/300\n",
            "25/25 [==============================] - 0s 2ms/step - loss: 7.2037 - mae: 7.2037 - mse: 78.4729 - val_loss: 6.9791 - val_mae: 6.9791 - val_mse: 75.4022\n",
            "Epoch 128/300\n",
            "25/25 [==============================] - 0s 2ms/step - loss: 7.2005 - mae: 7.2005 - mse: 78.4501 - val_loss: 6.9774 - val_mae: 6.9774 - val_mse: 75.4302\n",
            "Epoch 129/300\n",
            "25/25 [==============================] - 0s 2ms/step - loss: 7.2001 - mae: 7.2001 - mse: 78.4449 - val_loss: 6.9786 - val_mae: 6.9786 - val_mse: 75.4039\n",
            "Epoch 130/300\n",
            "25/25 [==============================] - 0s 2ms/step - loss: 7.2018 - mae: 7.2018 - mse: 78.4700 - val_loss: 6.9778 - val_mae: 6.9778 - val_mse: 75.4127\n",
            "Epoch 131/300\n",
            "25/25 [==============================] - 0s 2ms/step - loss: 7.2051 - mae: 7.2051 - mse: 78.4468 - val_loss: 6.9803 - val_mae: 6.9803 - val_mse: 75.3878\n",
            "Epoch 132/300\n",
            "25/25 [==============================] - 0s 3ms/step - loss: 7.2004 - mae: 7.2004 - mse: 78.4616 - val_loss: 6.9771 - val_mae: 6.9771 - val_mse: 75.4276\n",
            "Epoch 133/300\n",
            "25/25 [==============================] - 0s 2ms/step - loss: 7.2060 - mae: 7.2060 - mse: 78.4903 - val_loss: 6.9794 - val_mae: 6.9794 - val_mse: 75.3902\n",
            "Epoch 134/300\n",
            "25/25 [==============================] - 0s 2ms/step - loss: 7.2052 - mae: 7.2052 - mse: 78.5548 - val_loss: 6.9767 - val_mae: 6.9767 - val_mse: 75.4352\n",
            "Epoch 135/300\n",
            "25/25 [==============================] - 0s 3ms/step - loss: 7.1995 - mae: 7.1995 - mse: 78.4428 - val_loss: 6.9772 - val_mae: 6.9772 - val_mse: 75.4156\n",
            "Epoch 136/300\n",
            "25/25 [==============================] - 0s 3ms/step - loss: 7.2001 - mae: 7.2001 - mse: 78.4467 - val_loss: 6.9773 - val_mae: 6.9773 - val_mse: 75.4115\n",
            "Epoch 137/300\n",
            "25/25 [==============================] - 0s 2ms/step - loss: 7.1995 - mae: 7.1995 - mse: 78.4209 - val_loss: 6.9779 - val_mae: 6.9779 - val_mse: 75.3981\n",
            "Epoch 138/300\n",
            "25/25 [==============================] - 0s 2ms/step - loss: 7.2000 - mae: 7.2000 - mse: 78.4424 - val_loss: 6.9772 - val_mae: 6.9772 - val_mse: 75.4087\n",
            "Epoch 139/300\n",
            "25/25 [==============================] - 0s 2ms/step - loss: 7.2014 - mae: 7.2014 - mse: 78.4267 - val_loss: 6.9788 - val_mae: 6.9788 - val_mse: 75.3862\n",
            "Epoch 140/300\n",
            "25/25 [==============================] - 0s 2ms/step - loss: 7.1992 - mae: 7.1992 - mse: 78.3963 - val_loss: 6.9777 - val_mae: 6.9777 - val_mse: 75.3960\n",
            "Epoch 141/300\n",
            "25/25 [==============================] - 0s 3ms/step - loss: 7.2032 - mae: 7.2032 - mse: 78.5148 - val_loss: 6.9763 - val_mae: 6.9763 - val_mse: 75.4269\n",
            "Epoch 142/300\n",
            "25/25 [==============================] - 0s 2ms/step - loss: 7.2022 - mae: 7.2022 - mse: 78.4195 - val_loss: 6.9775 - val_mae: 6.9775 - val_mse: 75.3940\n",
            "Epoch 143/300\n",
            "25/25 [==============================] - 0s 2ms/step - loss: 7.1996 - mae: 7.1996 - mse: 78.4276 - val_loss: 6.9772 - val_mae: 6.9772 - val_mse: 75.3967\n",
            "Epoch 144/300\n",
            "25/25 [==============================] - 0s 3ms/step - loss: 7.1993 - mae: 7.1993 - mse: 78.4178 - val_loss: 6.9771 - val_mae: 6.9771 - val_mse: 75.3962\n",
            "Epoch 145/300\n",
            "25/25 [==============================] - 0s 2ms/step - loss: 7.1999 - mae: 7.1999 - mse: 78.4060 - val_loss: 6.9774 - val_mae: 6.9774 - val_mse: 75.3905\n",
            "Epoch 146/300\n",
            "25/25 [==============================] - 0s 2ms/step - loss: 7.1989 - mae: 7.1989 - mse: 78.4240 - val_loss: 6.9764 - val_mae: 6.9764 - val_mse: 75.4039\n",
            "Epoch 147/300\n",
            "25/25 [==============================] - 0s 3ms/step - loss: 7.1997 - mae: 7.1997 - mse: 78.4616 - val_loss: 6.9767 - val_mae: 6.9767 - val_mse: 75.3951\n",
            "Epoch 148/300\n",
            "25/25 [==============================] - 0s 2ms/step - loss: 7.2009 - mae: 7.2009 - mse: 78.4377 - val_loss: 6.9761 - val_mae: 6.9761 - val_mse: 75.4081\n",
            "Epoch 149/300\n",
            "25/25 [==============================] - 0s 2ms/step - loss: 7.2002 - mae: 7.2002 - mse: 78.4401 - val_loss: 6.9774 - val_mae: 6.9774 - val_mse: 75.3818\n",
            "Epoch 150/300\n",
            "25/25 [==============================] - 0s 3ms/step - loss: 7.1995 - mae: 7.1995 - mse: 78.4310 - val_loss: 6.9767 - val_mae: 6.9767 - val_mse: 75.3887\n",
            "Epoch 151/300\n",
            "25/25 [==============================] - 0s 2ms/step - loss: 7.2003 - mae: 7.2003 - mse: 78.4378 - val_loss: 6.9767 - val_mae: 6.9767 - val_mse: 75.3867\n",
            "Epoch 152/300\n",
            "25/25 [==============================] - 0s 2ms/step - loss: 7.1997 - mae: 7.1997 - mse: 78.4158 - val_loss: 6.9765 - val_mae: 6.9765 - val_mse: 75.3884\n",
            "Epoch 153/300\n",
            "25/25 [==============================] - 0s 4ms/step - loss: 7.2012 - mae: 7.2012 - mse: 78.4578 - val_loss: 6.9764 - val_mae: 6.9764 - val_mse: 75.3872\n",
            "Epoch 154/300\n",
            "25/25 [==============================] - 0s 2ms/step - loss: 7.1996 - mae: 7.1996 - mse: 78.4576 - val_loss: 6.9758 - val_mae: 6.9758 - val_mse: 75.3968\n",
            "Epoch 155/300\n",
            "25/25 [==============================] - 0s 3ms/step - loss: 7.1996 - mae: 7.1996 - mse: 78.4405 - val_loss: 6.9762 - val_mae: 6.9762 - val_mse: 75.3848\n",
            "Epoch 156/300\n",
            "25/25 [==============================] - 0s 2ms/step - loss: 7.2027 - mae: 7.2027 - mse: 78.5115 - val_loss: 6.9752 - val_mae: 6.9752 - val_mse: 75.4099\n",
            "Epoch 157/300\n",
            "25/25 [==============================] - 0s 2ms/step - loss: 7.2002 - mae: 7.2002 - mse: 78.4138 - val_loss: 6.9777 - val_mae: 6.9777 - val_mse: 75.3648\n",
            "Epoch 158/300\n",
            "25/25 [==============================] - 0s 2ms/step - loss: 7.1980 - mae: 7.1980 - mse: 78.3750 - val_loss: 6.9769 - val_mae: 6.9769 - val_mse: 75.3709\n",
            "Epoch 159/300\n",
            "25/25 [==============================] - 0s 2ms/step - loss: 7.1987 - mae: 7.1987 - mse: 78.4180 - val_loss: 6.9752 - val_mae: 6.9752 - val_mse: 75.3962\n",
            "Epoch 160/300\n",
            "25/25 [==============================] - 0s 2ms/step - loss: 7.1996 - mae: 7.1996 - mse: 78.4365 - val_loss: 6.9770 - val_mae: 6.9770 - val_mse: 75.3660\n",
            "Epoch 161/300\n",
            "25/25 [==============================] - 0s 2ms/step - loss: 7.2025 - mae: 7.2025 - mse: 78.4065 - val_loss: 6.9764 - val_mae: 6.9764 - val_mse: 75.3697\n",
            "Epoch 162/300\n",
            "25/25 [==============================] - 0s 3ms/step - loss: 7.1990 - mae: 7.1990 - mse: 78.4068 - val_loss: 6.9751 - val_mae: 6.9751 - val_mse: 75.3891\n",
            "Epoch 163/300\n",
            "25/25 [==============================] - 0s 2ms/step - loss: 7.1996 - mae: 7.1996 - mse: 78.4926 - val_loss: 6.9748 - val_mae: 6.9748 - val_mse: 75.3965\n",
            "Epoch 164/300\n",
            "25/25 [==============================] - 0s 2ms/step - loss: 7.1999 - mae: 7.1999 - mse: 78.4391 - val_loss: 6.9760 - val_mae: 6.9760 - val_mse: 75.3682\n",
            "Epoch 165/300\n",
            "25/25 [==============================] - 0s 2ms/step - loss: 7.1982 - mae: 7.1982 - mse: 78.3837 - val_loss: 6.9767 - val_mae: 6.9767 - val_mse: 75.3598\n",
            "Epoch 166/300\n",
            "25/25 [==============================] - 0s 2ms/step - loss: 7.1982 - mae: 7.1982 - mse: 78.3917 - val_loss: 6.9762 - val_mae: 6.9762 - val_mse: 75.3622\n",
            "Epoch 167/300\n",
            "25/25 [==============================] - 0s 2ms/step - loss: 7.2003 - mae: 7.2003 - mse: 78.4339 - val_loss: 6.9744 - val_mae: 6.9744 - val_mse: 75.3920\n",
            "Epoch 168/300\n",
            "25/25 [==============================] - 0s 2ms/step - loss: 7.2004 - mae: 7.2004 - mse: 78.3779 - val_loss: 6.9782 - val_mae: 6.9782 - val_mse: 75.3463\n",
            "Epoch 169/300\n",
            "25/25 [==============================] - 0s 2ms/step - loss: 7.1985 - mae: 7.1985 - mse: 78.3755 - val_loss: 6.9749 - val_mae: 6.9749 - val_mse: 75.3731\n",
            "Epoch 170/300\n",
            "25/25 [==============================] - 0s 3ms/step - loss: 7.1982 - mae: 7.1982 - mse: 78.3889 - val_loss: 6.9748 - val_mae: 6.9748 - val_mse: 75.3732\n",
            "Epoch 171/300\n",
            "25/25 [==============================] - 0s 3ms/step - loss: 7.1987 - mae: 7.1987 - mse: 78.4158 - val_loss: 6.9752 - val_mae: 6.9752 - val_mse: 75.3644\n",
            "Epoch 172/300\n",
            "25/25 [==============================] - 0s 3ms/step - loss: 7.1986 - mae: 7.1986 - mse: 78.4122 - val_loss: 6.9744 - val_mae: 6.9744 - val_mse: 75.3732\n",
            "Epoch 173/300\n",
            "25/25 [==============================] - 0s 4ms/step - loss: 7.1975 - mae: 7.1975 - mse: 78.3883 - val_loss: 6.9744 - val_mae: 6.9744 - val_mse: 75.3720\n",
            "Epoch 174/300\n",
            "25/25 [==============================] - 0s 2ms/step - loss: 7.1979 - mae: 7.1979 - mse: 78.4022 - val_loss: 6.9742 - val_mae: 6.9742 - val_mse: 75.3721\n",
            "Epoch 175/300\n",
            "25/25 [==============================] - 0s 3ms/step - loss: 7.1982 - mae: 7.1982 - mse: 78.4038 - val_loss: 6.9763 - val_mae: 6.9763 - val_mse: 75.3443\n",
            "Epoch 176/300\n",
            "25/25 [==============================] - 0s 3ms/step - loss: 7.1969 - mae: 7.1969 - mse: 78.3821 - val_loss: 6.9738 - val_mae: 6.9738 - val_mse: 75.3762\n",
            "Epoch 177/300\n",
            "25/25 [==============================] - 0s 2ms/step - loss: 7.1978 - mae: 7.1978 - mse: 78.4209 - val_loss: 6.9741 - val_mae: 6.9741 - val_mse: 75.3662\n",
            "Epoch 178/300\n",
            "25/25 [==============================] - 0s 2ms/step - loss: 7.1973 - mae: 7.1973 - mse: 78.3763 - val_loss: 6.9748 - val_mae: 6.9748 - val_mse: 75.3538\n",
            "Epoch 179/300\n",
            "25/25 [==============================] - 0s 2ms/step - loss: 7.1992 - mae: 7.1992 - mse: 78.4173 - val_loss: 6.9752 - val_mae: 6.9752 - val_mse: 75.3459\n",
            "Epoch 180/300\n",
            "25/25 [==============================] - 0s 2ms/step - loss: 7.1987 - mae: 7.1987 - mse: 78.3456 - val_loss: 6.9751 - val_mae: 6.9751 - val_mse: 75.3447\n",
            "Epoch 181/300\n",
            "25/25 [==============================] - 0s 3ms/step - loss: 7.1987 - mae: 7.1987 - mse: 78.4345 - val_loss: 6.9736 - val_mae: 6.9736 - val_mse: 75.3650\n",
            "Epoch 182/300\n",
            "25/25 [==============================] - 0s 2ms/step - loss: 7.1986 - mae: 7.1986 - mse: 78.3508 - val_loss: 6.9754 - val_mae: 6.9754 - val_mse: 75.3383\n",
            "Epoch 183/300\n",
            "25/25 [==============================] - 0s 2ms/step - loss: 7.1977 - mae: 7.1977 - mse: 78.3598 - val_loss: 6.9736 - val_mae: 6.9736 - val_mse: 75.3579\n",
            "Epoch 184/300\n",
            "25/25 [==============================] - 0s 3ms/step - loss: 7.1967 - mae: 7.1967 - mse: 78.3693 - val_loss: 6.9734 - val_mae: 6.9734 - val_mse: 75.3595\n",
            "Epoch 185/300\n",
            "25/25 [==============================] - 0s 2ms/step - loss: 7.1977 - mae: 7.1977 - mse: 78.4319 - val_loss: 6.9735 - val_mae: 6.9735 - val_mse: 75.3542\n",
            "Epoch 186/300\n",
            "25/25 [==============================] - 0s 3ms/step - loss: 7.1981 - mae: 7.1981 - mse: 78.4015 - val_loss: 6.9740 - val_mae: 6.9740 - val_mse: 75.3436\n",
            "Epoch 187/300\n",
            "25/25 [==============================] - 0s 2ms/step - loss: 7.1986 - mae: 7.1986 - mse: 78.3513 - val_loss: 6.9754 - val_mae: 6.9754 - val_mse: 75.3285\n",
            "Epoch 188/300\n",
            "25/25 [==============================] - 0s 2ms/step - loss: 7.1981 - mae: 7.1981 - mse: 78.3401 - val_loss: 6.9751 - val_mae: 6.9751 - val_mse: 75.3288\n",
            "Epoch 189/300\n",
            "25/25 [==============================] - 0s 3ms/step - loss: 7.1958 - mae: 7.1958 - mse: 78.3402 - val_loss: 6.9729 - val_mae: 6.9729 - val_mse: 75.3536\n",
            "Epoch 190/300\n",
            "25/25 [==============================] - 0s 2ms/step - loss: 7.1995 - mae: 7.1995 - mse: 78.4412 - val_loss: 6.9727 - val_mae: 6.9727 - val_mse: 75.3543\n",
            "Epoch 191/300\n",
            "25/25 [==============================] - 0s 2ms/step - loss: 7.1965 - mae: 7.1965 - mse: 78.3702 - val_loss: 6.9727 - val_mae: 6.9727 - val_mse: 75.3522\n",
            "Epoch 192/300\n",
            "25/25 [==============================] - 0s 2ms/step - loss: 7.1962 - mae: 7.1962 - mse: 78.3703 - val_loss: 6.9727 - val_mae: 6.9727 - val_mse: 75.3487\n",
            "Epoch 193/300\n",
            "25/25 [==============================] - 0s 3ms/step - loss: 7.1973 - mae: 7.1973 - mse: 78.3957 - val_loss: 6.9728 - val_mae: 6.9728 - val_mse: 75.3439\n",
            "Epoch 194/300\n",
            "25/25 [==============================] - 0s 2ms/step - loss: 7.1968 - mae: 7.1968 - mse: 78.3277 - val_loss: 6.9753 - val_mae: 6.9753 - val_mse: 75.3164\n",
            "Epoch 195/300\n",
            "25/25 [==============================] - 0s 2ms/step - loss: 7.1994 - mae: 7.1994 - mse: 78.3671 - val_loss: 6.9757 - val_mae: 6.9757 - val_mse: 75.3132\n",
            "Epoch 196/300\n",
            "25/25 [==============================] - 0s 2ms/step - loss: 7.1983 - mae: 7.1983 - mse: 78.3345 - val_loss: 6.9729 - val_mae: 6.9729 - val_mse: 75.3351\n",
            "Epoch 197/300\n",
            "25/25 [==============================] - 0s 2ms/step - loss: 7.1968 - mae: 7.1968 - mse: 78.4395 - val_loss: 6.9708 - val_mae: 6.9708 - val_mse: 75.3929\n",
            "Epoch 198/300\n",
            "25/25 [==============================] - 0s 3ms/step - loss: 7.1967 - mae: 7.1967 - mse: 78.4011 - val_loss: 6.9717 - val_mae: 6.9717 - val_mse: 75.3551\n",
            "Epoch 199/300\n",
            "25/25 [==============================] - 0s 3ms/step - loss: 7.2023 - mae: 7.2023 - mse: 78.4180 - val_loss: 6.9746 - val_mae: 6.9746 - val_mse: 75.3108\n",
            "Epoch 200/300\n",
            "25/25 [==============================] - 0s 3ms/step - loss: 7.1977 - mae: 7.1977 - mse: 78.3910 - val_loss: 6.9714 - val_mae: 6.9714 - val_mse: 75.3554\n",
            "Epoch 201/300\n",
            "25/25 [==============================] - 0s 4ms/step - loss: 7.1993 - mae: 7.1993 - mse: 78.4497 - val_loss: 6.9710 - val_mae: 6.9710 - val_mse: 75.3633\n",
            "Epoch 202/300\n",
            "25/25 [==============================] - 0s 2ms/step - loss: 7.1954 - mae: 7.1954 - mse: 78.2875 - val_loss: 6.9738 - val_mae: 6.9738 - val_mse: 75.3105\n",
            "Epoch 203/300\n",
            "25/25 [==============================] - 0s 2ms/step - loss: 7.1962 - mae: 7.1962 - mse: 78.3346 - val_loss: 6.9734 - val_mae: 6.9734 - val_mse: 75.3124\n",
            "Epoch 204/300\n",
            "25/25 [==============================] - 0s 3ms/step - loss: 7.1960 - mae: 7.1960 - mse: 78.3196 - val_loss: 6.9726 - val_mae: 6.9726 - val_mse: 75.3187\n",
            "Epoch 205/300\n",
            "25/25 [==============================] - 0s 2ms/step - loss: 7.1975 - mae: 7.1975 - mse: 78.3493 - val_loss: 6.9720 - val_mae: 6.9720 - val_mse: 75.3252\n",
            "Epoch 206/300\n",
            "25/25 [==============================] - 0s 3ms/step - loss: 7.1953 - mae: 7.1953 - mse: 78.3516 - val_loss: 6.9716 - val_mae: 6.9716 - val_mse: 75.3277\n",
            "Epoch 207/300\n",
            "25/25 [==============================] - 0s 2ms/step - loss: 7.1957 - mae: 7.1957 - mse: 78.3504 - val_loss: 6.9704 - val_mae: 6.9704 - val_mse: 75.3578\n",
            "Epoch 208/300\n",
            "25/25 [==============================] - 0s 2ms/step - loss: 7.1972 - mae: 7.1972 - mse: 78.3884 - val_loss: 6.9707 - val_mae: 6.9707 - val_mse: 75.3410\n",
            "Epoch 209/300\n",
            "25/25 [==============================] - 0s 3ms/step - loss: 7.1985 - mae: 7.1985 - mse: 78.3749 - val_loss: 6.9732 - val_mae: 6.9732 - val_mse: 75.3007\n",
            "Epoch 210/300\n",
            "25/25 [==============================] - 0s 3ms/step - loss: 7.1988 - mae: 7.1988 - mse: 78.4343 - val_loss: 6.9704 - val_mae: 6.9704 - val_mse: 75.3420\n",
            "Epoch 211/300\n",
            "25/25 [==============================] - 0s 3ms/step - loss: 7.1987 - mae: 7.1987 - mse: 78.3601 - val_loss: 6.9720 - val_mae: 6.9720 - val_mse: 75.3083\n",
            "Epoch 212/300\n",
            "25/25 [==============================] - 0s 3ms/step - loss: 7.1984 - mae: 7.1984 - mse: 78.4003 - val_loss: 6.9712 - val_mae: 6.9712 - val_mse: 75.3163\n",
            "Epoch 213/300\n",
            "25/25 [==============================] - 0s 2ms/step - loss: 7.1962 - mae: 7.1962 - mse: 78.3392 - val_loss: 6.9724 - val_mae: 6.9724 - val_mse: 75.2987\n",
            "Epoch 214/300\n",
            "25/25 [==============================] - 0s 2ms/step - loss: 7.1988 - mae: 7.1988 - mse: 78.3570 - val_loss: 6.9732 - val_mae: 6.9732 - val_mse: 75.2910\n",
            "Epoch 215/300\n",
            "25/25 [==============================] - 0s 3ms/step - loss: 7.1981 - mae: 7.1981 - mse: 78.3426 - val_loss: 6.9698 - val_mae: 6.9698 - val_mse: 75.3404\n",
            "Epoch 216/300\n",
            "25/25 [==============================] - 0s 2ms/step - loss: 7.1973 - mae: 7.1973 - mse: 78.4517 - val_loss: 6.9692 - val_mae: 6.9692 - val_mse: 75.3590\n",
            "Epoch 217/300\n",
            "25/25 [==============================] - 0s 2ms/step - loss: 7.1943 - mae: 7.1943 - mse: 78.3097 - val_loss: 6.9716 - val_mae: 6.9716 - val_mse: 75.2981\n",
            "Epoch 218/300\n",
            "25/25 [==============================] - 0s 3ms/step - loss: 7.2001 - mae: 7.2001 - mse: 78.3095 - val_loss: 6.9741 - val_mae: 6.9741 - val_mse: 75.2815\n",
            "Epoch 219/300\n",
            "25/25 [==============================] - 0s 3ms/step - loss: 7.2007 - mae: 7.2007 - mse: 78.4519 - val_loss: 6.9696 - val_mae: 6.9696 - val_mse: 75.3292\n",
            "Epoch 220/300\n",
            "25/25 [==============================] - 0s 2ms/step - loss: 7.1992 - mae: 7.1992 - mse: 78.3616 - val_loss: 6.9722 - val_mae: 6.9722 - val_mse: 75.2862\n",
            "Epoch 221/300\n",
            "25/25 [==============================] - 0s 3ms/step - loss: 7.1946 - mae: 7.1946 - mse: 78.2939 - val_loss: 6.9713 - val_mae: 6.9713 - val_mse: 75.2927\n",
            "Epoch 222/300\n",
            "25/25 [==============================] - 0s 3ms/step - loss: 7.1948 - mae: 7.1948 - mse: 78.3345 - val_loss: 6.9692 - val_mae: 6.9692 - val_mse: 75.3288\n",
            "Epoch 223/300\n",
            "25/25 [==============================] - 0s 2ms/step - loss: 7.1947 - mae: 7.1947 - mse: 78.3363 - val_loss: 6.9700 - val_mae: 6.9700 - val_mse: 75.3050\n",
            "Epoch 224/300\n",
            "25/25 [==============================] - 0s 2ms/step - loss: 7.1957 - mae: 7.1957 - mse: 78.3262 - val_loss: 6.9705 - val_mae: 6.9705 - val_mse: 75.2954\n",
            "Epoch 225/300\n",
            "25/25 [==============================] - 0s 2ms/step - loss: 7.1971 - mae: 7.1971 - mse: 78.3073 - val_loss: 6.9708 - val_mae: 6.9708 - val_mse: 75.2878\n",
            "Epoch 226/300\n",
            "25/25 [==============================] - 0s 3ms/step - loss: 7.1940 - mae: 7.1940 - mse: 78.2916 - val_loss: 6.9707 - val_mae: 6.9707 - val_mse: 75.2869\n",
            "Epoch 227/300\n",
            "25/25 [==============================] - 0s 2ms/step - loss: 7.1966 - mae: 7.1966 - mse: 78.3933 - val_loss: 6.9677 - val_mae: 6.9677 - val_mse: 75.3630\n",
            "Epoch 228/300\n",
            "25/25 [==============================] - 0s 3ms/step - loss: 7.1975 - mae: 7.1975 - mse: 78.4660 - val_loss: 6.9681 - val_mae: 6.9681 - val_mse: 75.3377\n",
            "Epoch 229/300\n",
            "25/25 [==============================] - 0s 2ms/step - loss: 7.1935 - mae: 7.1935 - mse: 78.3323 - val_loss: 6.9695 - val_mae: 6.9695 - val_mse: 75.2954\n",
            "Epoch 230/300\n",
            "25/25 [==============================] - 0s 3ms/step - loss: 7.1948 - mae: 7.1948 - mse: 78.3079 - val_loss: 6.9716 - val_mae: 6.9716 - val_mse: 75.2698\n",
            "Epoch 231/300\n",
            "25/25 [==============================] - 0s 2ms/step - loss: 7.1940 - mae: 7.1940 - mse: 78.3134 - val_loss: 6.9693 - val_mae: 6.9693 - val_mse: 75.2933\n",
            "Epoch 232/300\n",
            "25/25 [==============================] - 0s 3ms/step - loss: 7.1952 - mae: 7.1952 - mse: 78.3192 - val_loss: 6.9710 - val_mae: 6.9710 - val_mse: 75.2702\n",
            "Epoch 233/300\n",
            "25/25 [==============================] - 0s 2ms/step - loss: 7.1990 - mae: 7.1990 - mse: 78.4264 - val_loss: 6.9700 - val_mae: 6.9700 - val_mse: 75.2778\n",
            "Epoch 234/300\n",
            "25/25 [==============================] - 0s 3ms/step - loss: 7.1938 - mae: 7.1938 - mse: 78.2755 - val_loss: 6.9703 - val_mae: 6.9703 - val_mse: 75.2728\n",
            "Epoch 235/300\n",
            "25/25 [==============================] - 0s 3ms/step - loss: 7.1964 - mae: 7.1964 - mse: 78.2825 - val_loss: 6.9699 - val_mae: 6.9699 - val_mse: 75.2741\n",
            "Epoch 236/300\n",
            "25/25 [==============================] - 0s 2ms/step - loss: 7.1957 - mae: 7.1957 - mse: 78.3890 - val_loss: 6.9671 - val_mae: 6.9671 - val_mse: 75.3370\n",
            "Epoch 237/300\n",
            "25/25 [==============================] - 0s 2ms/step - loss: 7.2011 - mae: 7.2011 - mse: 78.5534 - val_loss: 6.9666 - val_mae: 6.9666 - val_mse: 75.3533\n",
            "Epoch 238/300\n",
            "25/25 [==============================] - 0s 3ms/step - loss: 7.1924 - mae: 7.1924 - mse: 78.2753 - val_loss: 6.9699 - val_mae: 6.9699 - val_mse: 75.2663\n",
            "Epoch 239/300\n",
            "25/25 [==============================] - 0s 2ms/step - loss: 7.1931 - mae: 7.1931 - mse: 78.2667 - val_loss: 6.9701 - val_mae: 6.9701 - val_mse: 75.2622\n",
            "Epoch 240/300\n",
            "25/25 [==============================] - 0s 3ms/step - loss: 7.1982 - mae: 7.1982 - mse: 78.3951 - val_loss: 6.9674 - val_mae: 6.9674 - val_mse: 75.3045\n",
            "Epoch 241/300\n",
            "25/25 [==============================] - 0s 2ms/step - loss: 7.1951 - mae: 7.1951 - mse: 78.2498 - val_loss: 6.9716 - val_mae: 6.9716 - val_mse: 75.2505\n",
            "Epoch 242/300\n",
            "25/25 [==============================] - 0s 3ms/step - loss: 7.1949 - mae: 7.1949 - mse: 78.2528 - val_loss: 6.9704 - val_mae: 6.9704 - val_mse: 75.2538\n",
            "Epoch 243/300\n",
            "25/25 [==============================] - 0s 3ms/step - loss: 7.1941 - mae: 7.1941 - mse: 78.3130 - val_loss: 6.9666 - val_mae: 6.9666 - val_mse: 75.3218\n",
            "Epoch 244/300\n",
            "25/25 [==============================] - 0s 3ms/step - loss: 7.1940 - mae: 7.1940 - mse: 78.3557 - val_loss: 6.9682 - val_mae: 6.9682 - val_mse: 75.2726\n",
            "Epoch 245/300\n",
            "25/25 [==============================] - 0s 2ms/step - loss: 7.1926 - mae: 7.1926 - mse: 78.2808 - val_loss: 6.9689 - val_mae: 6.9689 - val_mse: 75.2609\n",
            "Epoch 246/300\n",
            "25/25 [==============================] - 0s 3ms/step - loss: 7.1937 - mae: 7.1937 - mse: 78.2758 - val_loss: 6.9680 - val_mae: 6.9680 - val_mse: 75.2702\n",
            "Epoch 247/300\n",
            "25/25 [==============================] - 0s 3ms/step - loss: 7.1943 - mae: 7.1943 - mse: 78.3379 - val_loss: 6.9673 - val_mae: 6.9673 - val_mse: 75.2789\n",
            "Epoch 248/300\n",
            "25/25 [==============================] - 0s 3ms/step - loss: 7.1929 - mae: 7.1929 - mse: 78.3000 - val_loss: 6.9687 - val_mae: 6.9687 - val_mse: 75.2556\n",
            "Epoch 249/300\n",
            "25/25 [==============================] - 0s 3ms/step - loss: 7.1940 - mae: 7.1940 - mse: 78.2603 - val_loss: 6.9685 - val_mae: 6.9685 - val_mse: 75.2552\n",
            "Epoch 250/300\n",
            "25/25 [==============================] - 0s 2ms/step - loss: 7.1928 - mae: 7.1928 - mse: 78.2622 - val_loss: 6.9694 - val_mae: 6.9694 - val_mse: 75.2442\n",
            "Epoch 251/300\n",
            "25/25 [==============================] - 0s 2ms/step - loss: 7.1925 - mae: 7.1925 - mse: 78.2602 - val_loss: 6.9664 - val_mae: 6.9664 - val_mse: 75.2839\n",
            "Epoch 252/300\n",
            "25/25 [==============================] - 0s 3ms/step - loss: 7.1945 - mae: 7.1945 - mse: 78.3557 - val_loss: 6.9657 - val_mae: 6.9657 - val_mse: 75.3053\n",
            "Epoch 253/300\n",
            "25/25 [==============================] - 0s 2ms/step - loss: 7.1918 - mae: 7.1918 - mse: 78.2938 - val_loss: 6.9676 - val_mae: 6.9676 - val_mse: 75.2562\n",
            "Epoch 254/300\n",
            "25/25 [==============================] - 0s 4ms/step - loss: 7.1968 - mae: 7.1968 - mse: 78.3500 - val_loss: 6.9680 - val_mae: 6.9680 - val_mse: 75.2476\n",
            "Epoch 255/300\n",
            "25/25 [==============================] - 0s 2ms/step - loss: 7.1932 - mae: 7.1932 - mse: 78.2682 - val_loss: 6.9677 - val_mae: 6.9677 - val_mse: 75.2485\n",
            "Epoch 256/300\n",
            "25/25 [==============================] - 0s 2ms/step - loss: 7.1927 - mae: 7.1927 - mse: 78.2589 - val_loss: 6.9687 - val_mae: 6.9687 - val_mse: 75.2365\n",
            "Epoch 257/300\n",
            "25/25 [==============================] - 0s 2ms/step - loss: 7.1947 - mae: 7.1947 - mse: 78.3285 - val_loss: 6.9671 - val_mae: 6.9671 - val_mse: 75.2517\n",
            "Epoch 258/300\n",
            "25/25 [==============================] - 0s 3ms/step - loss: 7.1929 - mae: 7.1929 - mse: 78.2445 - val_loss: 6.9674 - val_mae: 6.9674 - val_mse: 75.2449\n",
            "Epoch 259/300\n",
            "25/25 [==============================] - 0s 2ms/step - loss: 7.1937 - mae: 7.1937 - mse: 78.3233 - val_loss: 6.9658 - val_mae: 6.9658 - val_mse: 75.2666\n",
            "Epoch 260/300\n",
            "25/25 [==============================] - 0s 2ms/step - loss: 7.1935 - mae: 7.1935 - mse: 78.2867 - val_loss: 6.9686 - val_mae: 6.9686 - val_mse: 75.2284\n",
            "Epoch 261/300\n",
            "25/25 [==============================] - 0s 2ms/step - loss: 7.1921 - mae: 7.1921 - mse: 78.2930 - val_loss: 6.9658 - val_mae: 6.9658 - val_mse: 75.2615\n",
            "Epoch 262/300\n",
            "25/25 [==============================] - 0s 2ms/step - loss: 7.1937 - mae: 7.1937 - mse: 78.2781 - val_loss: 6.9651 - val_mae: 6.9651 - val_mse: 75.2732\n",
            "Epoch 263/300\n",
            "25/25 [==============================] - 0s 3ms/step - loss: 7.1923 - mae: 7.1923 - mse: 78.2357 - val_loss: 6.9672 - val_mae: 6.9672 - val_mse: 75.2337\n",
            "Epoch 264/300\n",
            "25/25 [==============================] - 0s 3ms/step - loss: 7.1983 - mae: 7.1983 - mse: 78.3913 - val_loss: 6.9640 - val_mae: 6.9640 - val_mse: 75.3099\n",
            "Epoch 265/300\n",
            "25/25 [==============================] - 0s 2ms/step - loss: 7.1909 - mae: 7.1909 - mse: 78.2576 - val_loss: 6.9676 - val_mae: 6.9676 - val_mse: 75.2251\n",
            "Epoch 266/300\n",
            "25/25 [==============================] - 0s 3ms/step - loss: 7.2004 - mae: 7.2004 - mse: 78.4098 - val_loss: 6.9639 - val_mae: 6.9639 - val_mse: 75.2998\n",
            "Epoch 267/300\n",
            "25/25 [==============================] - 0s 2ms/step - loss: 7.1946 - mae: 7.1946 - mse: 78.3103 - val_loss: 6.9669 - val_mae: 6.9669 - val_mse: 75.2276\n",
            "Epoch 268/300\n",
            "25/25 [==============================] - 0s 2ms/step - loss: 7.1919 - mae: 7.1919 - mse: 78.2247 - val_loss: 6.9667 - val_mae: 6.9667 - val_mse: 75.2270\n",
            "Epoch 269/300\n",
            "25/25 [==============================] - 0s 3ms/step - loss: 7.1941 - mae: 7.1941 - mse: 78.2355 - val_loss: 6.9665 - val_mae: 6.9665 - val_mse: 75.2277\n",
            "Epoch 270/300\n",
            "25/25 [==============================] - 0s 2ms/step - loss: 7.1935 - mae: 7.1935 - mse: 78.3457 - val_loss: 6.9641 - val_mae: 6.9641 - val_mse: 75.2695\n",
            "Epoch 271/300\n",
            "25/25 [==============================] - 0s 2ms/step - loss: 7.1934 - mae: 7.1934 - mse: 78.3006 - val_loss: 6.9638 - val_mae: 6.9638 - val_mse: 75.2741\n",
            "Epoch 272/300\n",
            "25/25 [==============================] - 0s 3ms/step - loss: 7.1914 - mae: 7.1914 - mse: 78.2886 - val_loss: 6.9656 - val_mae: 6.9656 - val_mse: 75.2300\n",
            "Epoch 273/300\n",
            "25/25 [==============================] - 0s 2ms/step - loss: 7.1918 - mae: 7.1918 - mse: 78.2016 - val_loss: 6.9665 - val_mae: 6.9665 - val_mse: 75.2169\n",
            "Epoch 274/300\n",
            "25/25 [==============================] - 0s 3ms/step - loss: 7.1932 - mae: 7.1932 - mse: 78.3168 - val_loss: 6.9639 - val_mae: 6.9639 - val_mse: 75.2568\n",
            "Epoch 275/300\n",
            "25/25 [==============================] - 0s 2ms/step - loss: 7.1942 - mae: 7.1942 - mse: 78.2393 - val_loss: 6.9680 - val_mae: 6.9680 - val_mse: 75.2039\n",
            "Epoch 276/300\n",
            "25/25 [==============================] - 0s 2ms/step - loss: 7.1937 - mae: 7.1937 - mse: 78.3664 - val_loss: 6.9634 - val_mae: 6.9634 - val_mse: 75.2633\n",
            "Epoch 277/300\n",
            "25/25 [==============================] - 0s 3ms/step - loss: 7.1944 - mae: 7.1944 - mse: 78.3820 - val_loss: 6.9629 - val_mae: 6.9629 - val_mse: 75.2778\n",
            "Epoch 278/300\n",
            "25/25 [==============================] - 0s 3ms/step - loss: 7.2009 - mae: 7.2009 - mse: 78.3044 - val_loss: 6.9659 - val_mae: 6.9659 - val_mse: 75.2103\n",
            "Epoch 279/300\n",
            "25/25 [==============================] - 0s 2ms/step - loss: 7.1903 - mae: 7.1903 - mse: 78.2299 - val_loss: 6.9649 - val_mae: 6.9649 - val_mse: 75.2195\n",
            "Epoch 280/300\n",
            "25/25 [==============================] - 0s 3ms/step - loss: 7.1908 - mae: 7.1908 - mse: 78.2205 - val_loss: 6.9651 - val_mae: 6.9651 - val_mse: 75.2142\n",
            "Epoch 281/300\n",
            "25/25 [==============================] - 0s 3ms/step - loss: 7.1938 - mae: 7.1938 - mse: 78.2413 - val_loss: 6.9673 - val_mae: 6.9673 - val_mse: 75.1956\n",
            "Epoch 282/300\n",
            "25/25 [==============================] - 0s 3ms/step - loss: 7.1968 - mae: 7.1968 - mse: 78.3547 - val_loss: 6.9622 - val_mae: 6.9622 - val_mse: 75.2804\n",
            "Epoch 283/300\n",
            "25/25 [==============================] - 0s 3ms/step - loss: 7.1907 - mae: 7.1907 - mse: 78.2292 - val_loss: 6.9659 - val_mae: 6.9659 - val_mse: 75.1991\n",
            "Epoch 284/300\n",
            "25/25 [==============================] - 0s 2ms/step - loss: 7.1903 - mae: 7.1903 - mse: 78.1802 - val_loss: 6.9656 - val_mae: 6.9656 - val_mse: 75.1993\n",
            "Epoch 285/300\n",
            "25/25 [==============================] - 0s 3ms/step - loss: 7.1911 - mae: 7.1911 - mse: 78.2399 - val_loss: 6.9629 - val_mae: 6.9629 - val_mse: 75.2362\n",
            "Epoch 286/300\n",
            "25/25 [==============================] - 0s 2ms/step - loss: 7.1911 - mae: 7.1911 - mse: 78.2301 - val_loss: 6.9633 - val_mae: 6.9633 - val_mse: 75.2242\n",
            "Epoch 287/300\n",
            "25/25 [==============================] - 0s 2ms/step - loss: 7.1934 - mae: 7.1934 - mse: 78.2218 - val_loss: 6.9668 - val_mae: 6.9668 - val_mse: 75.1871\n",
            "Epoch 288/300\n",
            "25/25 [==============================] - 0s 2ms/step - loss: 7.1925 - mae: 7.1925 - mse: 78.2908 - val_loss: 6.9614 - val_mae: 6.9614 - val_mse: 75.2769\n",
            "Epoch 289/300\n",
            "25/25 [==============================] - 0s 3ms/step - loss: 7.1908 - mae: 7.1908 - mse: 78.2804 - val_loss: 6.9642 - val_mae: 6.9642 - val_mse: 75.2012\n",
            "Epoch 290/300\n",
            "25/25 [==============================] - 0s 2ms/step - loss: 7.1898 - mae: 7.1898 - mse: 78.2410 - val_loss: 6.9625 - val_mae: 6.9625 - val_mse: 75.2268\n",
            "Epoch 291/300\n",
            "25/25 [==============================] - 0s 3ms/step - loss: 7.1898 - mae: 7.1898 - mse: 78.2027 - val_loss: 6.9643 - val_mae: 6.9643 - val_mse: 75.1951\n",
            "Epoch 292/300\n",
            "25/25 [==============================] - 0s 3ms/step - loss: 7.1938 - mae: 7.1938 - mse: 78.3287 - val_loss: 6.9618 - val_mae: 6.9618 - val_mse: 75.2362\n",
            "Epoch 293/300\n",
            "25/25 [==============================] - 0s 2ms/step - loss: 7.1897 - mae: 7.1897 - mse: 78.2340 - val_loss: 6.9638 - val_mae: 6.9638 - val_mse: 75.1956\n",
            "Epoch 294/300\n",
            "25/25 [==============================] - 0s 3ms/step - loss: 7.1902 - mae: 7.1902 - mse: 78.2440 - val_loss: 6.9630 - val_mae: 6.9630 - val_mse: 75.2054\n",
            "Epoch 295/300\n",
            "25/25 [==============================] - 0s 2ms/step - loss: 7.1902 - mae: 7.1902 - mse: 78.2174 - val_loss: 6.9626 - val_mae: 6.9626 - val_mse: 75.2087\n",
            "Epoch 296/300\n",
            "25/25 [==============================] - 0s 3ms/step - loss: 7.1912 - mae: 7.1912 - mse: 78.1778 - val_loss: 6.9664 - val_mae: 6.9664 - val_mse: 75.1729\n",
            "Epoch 297/300\n",
            "25/25 [==============================] - 0s 2ms/step - loss: 7.1887 - mae: 7.1887 - mse: 78.1712 - val_loss: 6.9638 - val_mae: 6.9638 - val_mse: 75.1857\n",
            "Epoch 298/300\n",
            "25/25 [==============================] - 0s 3ms/step - loss: 7.1897 - mae: 7.1897 - mse: 78.2242 - val_loss: 6.9621 - val_mae: 6.9621 - val_mse: 75.2079\n",
            "Epoch 299/300\n",
            "25/25 [==============================] - 0s 3ms/step - loss: 7.1912 - mae: 7.1912 - mse: 78.2330 - val_loss: 6.9633 - val_mae: 6.9633 - val_mse: 75.1860\n",
            "Epoch 300/300\n",
            "25/25 [==============================] - 0s 2ms/step - loss: 7.1933 - mae: 7.1933 - mse: 78.2639 - val_loss: 6.9631 - val_mae: 6.9631 - val_mse: 75.1859\n"
          ],
          "name": "stdout"
        }
      ]
    },
    {
      "cell_type": "code",
      "metadata": {
        "colab": {
          "base_uri": "https://localhost:8080/"
        },
        "id": "A3XW8ixgLFKf",
        "outputId": "6e215346-0318-49c2-ea8f-e0394da17549"
      },
      "source": [
        "print(history)"
      ],
      "execution_count": 22,
      "outputs": [
        {
          "output_type": "stream",
          "text": [
            "<tensorflow.python.keras.callbacks.History object at 0x7eff7a888790>\n"
          ],
          "name": "stdout"
        }
      ]
    },
    {
      "cell_type": "code",
      "metadata": {
        "colab": {
          "base_uri": "https://localhost:8080/"
        },
        "id": "9GfKb4RyLFlz",
        "outputId": "05056bc7-a853-4f8b-c4cf-2ae3ddcd04f0"
      },
      "source": [
        "model.summary()"
      ],
      "execution_count": 23,
      "outputs": [
        {
          "output_type": "stream",
          "text": [
            "Model: \"sequential\"\n",
            "_________________________________________________________________\n",
            "Layer (type)                 Output Shape              Param #   \n",
            "=================================================================\n",
            "dense (Dense)                (None, 1)                 2         \n",
            "=================================================================\n",
            "Total params: 2\n",
            "Trainable params: 2\n",
            "Non-trainable params: 0\n",
            "_________________________________________________________________\n"
          ],
          "name": "stdout"
        }
      ]
    },
    {
      "cell_type": "code",
      "metadata": {
        "colab": {
          "base_uri": "https://localhost:8080/",
          "height": 1000
        },
        "id": "qsx6XJmxLH4u",
        "outputId": "b94a89af-c72b-4ab3-dacd-8b8e2f9f1bcf"
      },
      "source": [
        "#tempString = 'mse'\n",
        "def curvePlots(tempString):\n",
        "\n",
        " plt.plot(history.history[tempString])\n",
        " plt.plot(history.history[f'val_{tempString}'])\n",
        " plt.xlabel('NumEpochs')\n",
        " plt.ylabel(tempString)\n",
        " plt.legend([tempString ,f'val_{tempString}'])\n",
        " plt.show()\n",
        "\n",
        "curvePlots('mse')\n",
        "curvePlots('mae')\n",
        "curvePlots('loss')"
      ],
      "execution_count": 24,
      "outputs": [
        {
          "output_type": "display_data",
          "data": {
            "image/png": "[encoded data removed]",
            "text/plain": [
              "<Figure size 576x396 with 1 Axes>"
            ]
          },
          "metadata": {
            "tags": []
          }
        },
        {
          "output_type": "display_data",
          "data": {
            "image/png": "[encoded data removed]",
            "text/plain": [
              "<Figure size 576x396 with 1 Axes>"
            ]
          },
          "metadata": {
            "tags": []
          }
        },
        {
          "output_type": "display_data",
          "data": {
            "image/png": "[encoded data removed]",
            "text/plain": [
              "<Figure size 576x396 with 1 Axes>"
            ]
          },
          "metadata": {
            "tags": []
          }
        }
      ]
    },
    {
      "cell_type": "code",
      "metadata": {
        "colab": {
          "base_uri": "https://localhost:8080/"
        },
        "id": "k4W3BzMqLL35",
        "outputId": "e625a418-73c1-4b85-a235-5d6a0f22da18"
      },
      "source": [
        "model.predict([1])"
      ],
      "execution_count": 25,
      "outputs": [
        {
          "output_type": "execute_result",
          "data": {
            "text/plain": [
              "array([[2.5997524]], dtype=float32)"
            ]
          },
          "metadata": {
            "tags": []
          },
          "execution_count": 25
        }
      ]
    },
    {
      "cell_type": "code",
      "metadata": {
        "colab": {
          "base_uri": "https://localhost:8080/"
        },
        "id": "_ndF2j9GLQFU",
        "outputId": "e011e51d-756d-4cd5-a370-2c7b426761a3"
      },
      "source": [
        "print(f'Prediction for input value 1:{model.predict([1])}')\n",
        "\n",
        "#for a list of values\n",
        "tempListforPreds=[1,2,3,4,5,6]\n",
        "print(f'''\n",
        "\n",
        "input List ={tempListforPreds}\n",
        "\n",
        "List of Predictions:\n",
        "{model.predict(tempListforPreds)}\n",
        "\n",
        "List of Predictions(flattened out):\n",
        "{model.predict(tempListforPreds).flatten()}\n",
        "''')"
      ],
      "execution_count": 26,
      "outputs": [
        {
          "output_type": "stream",
          "text": [
            "Prediction for input value 1:[[2.5997524]]\n",
            "\n",
            "\n",
            "input List =[1, 2, 3, 4, 5, 6]\n",
            "\n",
            "List of Predictions:\n",
            "[[2.5997524]\n",
            " [3.524477 ]\n",
            " [4.4492016]\n",
            " [5.373926 ]\n",
            " [6.2986503]\n",
            " [7.223375 ]]\n",
            "\n",
            "List of Predictions(flattened out):\n",
            "[2.5997524 3.524477  4.4492016 5.373926  6.2986503 7.223375 ]\n",
            "\n"
          ],
          "name": "stdout"
        }
      ]
    },
    {
      "cell_type": "code",
      "metadata": {
        "colab": {
          "base_uri": "https://localhost:8080/"
        },
        "id": "fG2R3R3OLShl",
        "outputId": "e31a8fb0-bced-4b5c-d86f-7d95e8184f2f"
      },
      "source": [
        "print(testFeatures)"
      ],
      "execution_count": 27,
      "outputs": [
        {
          "output_type": "stream",
          "text": [
            "     reading score\n",
            "9               60\n",
            "11              52\n",
            "19              58\n",
            "23              73\n",
            "28              70\n",
            "..             ...\n",
            "962            100\n",
            "966             68\n",
            "976             62\n",
            "980             24\n",
            "983             87\n",
            "\n",
            "[200 rows x 1 columns]\n"
          ],
          "name": "stdout"
        }
      ]
    },
    {
      "cell_type": "code",
      "metadata": {
        "id": "EUty3kBFLVK9"
      },
      "source": [
        "testPreds = model.predict([testFeatures]).flatten()"
      ],
      "execution_count": 30,
      "outputs": []
    },
    {
      "cell_type": "code",
      "metadata": {
        "id": "-cpf2Uz6LgDR",
        "colab": {
          "base_uri": "https://localhost:8080/"
        },
        "outputId": "0c34ebf0-1a8a-4739-c471-4a0257e8a76b"
      },
      "source": [
        "print(len(testPreds))\n",
        "print(testPreds)"
      ],
      "execution_count": 29,
      "outputs": [
        {
          "output_type": "stream",
          "text": [
            "200\n",
            "[57.1585   49.760704 55.30905  69.17992  66.40574  68.25519  76.57771\n",
            " 69.17992  55.30905  61.782124 67.33047  73.803535 52.534878 56.233776\n",
            " 59.932674 48.83598  46.98653  45.13708  37.739285 78.42716  67.33047\n",
            " 33.11566  81.20133  76.57771  63.631573 63.631573 72.878815 65.48102\n",
            " 54.384327 77.50243  79.35188  35.889835 58.083225 41.438183 64.5563\n",
            " 71.029366 63.631573 66.40574  71.029366 48.83598  72.878815 64.5563\n",
            " 47.911255 65.48102  49.760704 60.8574   53.459602 76.57771  65.48102\n",
            " 58.083225 68.25519  47.911255 70.10464  60.8574   69.17992  72.878815\n",
            " 74.728264 40.51346  71.95409  66.40574  73.803535 59.932674 49.760704\n",
            " 77.50243  71.029366 69.17992  57.1585   39.588734 63.631573 49.760704\n",
            " 60.8574   81.20133  50.68543  44.212357 71.029366 64.5563   84.90023\n",
            " 60.8574   72.878815 69.17992  91.37331  89.52386  46.98653  73.803535\n",
            " 60.8574   63.631573 59.932674 67.33047  78.42716  80.27661  62.70685\n",
            " 68.25519  69.17992  77.50243  44.212357 80.27661  61.782124 51.610153\n",
            " 81.20133  45.13708  50.68543  67.33047  46.98653  82.12606  39.588734\n",
            " 62.70685  89.52386  59.932674 71.95409  84.90023  43.287632 37.739285\n",
            " 62.70685  71.029366 84.90023  41.438183 76.57771  74.728264 62.70685\n",
            " 94.14748  72.878815 77.50243  57.1585   79.35188  55.30905  57.1585\n",
            " 56.233776 73.803535 59.932674 48.83598  83.05078  86.74968  70.10464\n",
            " 82.12606  72.878815 60.8574   77.50243  62.70685  50.68543  77.50243\n",
            " 68.25519  62.70685  68.25519  56.233776 58.083225 66.40574  69.17992\n",
            " 46.061806 55.30905  57.1585   79.35188  52.534878 89.52386  55.30905\n",
            " 59.00795  46.061806 61.782124 42.362907 74.728264 80.27661  80.27661\n",
            " 62.70685  79.35188  88.59913  71.95409  70.10464  56.233776 60.8574\n",
            " 55.30905  80.27661  80.27661  51.610153 71.029366 63.631573 63.631573\n",
            " 81.20133  70.10464  48.83598  55.30905  79.35188  69.17992  61.782124\n",
            " 28.492039 73.803535 73.803535 40.51346  94.14748  70.10464  67.33047\n",
            " 59.932674 54.384327 59.00795  55.30905  71.029366 51.610153 94.14748\n",
            " 64.5563   59.00795  23.868416 82.12606 ]\n"
          ],
          "name": "stdout"
        }
      ]
    },
    {
      "cell_type": "code",
      "metadata": {
        "colab": {
          "base_uri": "https://localhost:8080/",
          "height": 361
        },
        "id": "zPU0MZWFOfkD",
        "outputId": "98715754-78f3-40f1-e179-0d0d4bcbaa19"
      },
      "source": [
        "# prediciton plot - To see how well is your model predicting across the actual labels\n",
        "\n",
        "def predPlot(labels, predictions):\n",
        "  plt.scatter(labels, predictions)\n",
        "  plt.ylabel('Predictions')\n",
        "  plt.xlabel('True Value or Labels')\n",
        "  plt.axis('equal')\n",
        "  plt.axis('square')\n",
        "  plt.xlim([0, plt.xlim()[1]])\n",
        "  plt.ylim([0, plt.ylim()[1]])\n",
        "  plt.show()\n",
        "\n",
        "predPlot(testLabels, testPreds)"
      ],
      "execution_count": 31,
      "outputs": [
        {
          "output_type": "display_data",
          "data": {
            "image/png": "[encoded data removed]",
            "text/plain": [
              "<Figure size 576x396 with 1 Axes>"
            ]
          },
          "metadata": {
            "tags": []
          }
        }
      ]
    },
    {
      "cell_type": "code",
      "metadata": {
        "colab": {
          "base_uri": "https://localhost:8080/",
          "height": 361
        },
        "id": "lqeHAD8_PeWw",
        "outputId": "7c029704-e27c-4a92-b0d3-8a4fb4010520"
      },
      "source": [
        "#error plot -- It is a gaussian distribution \n",
        "# Shows how much the model deviates from the central value\n",
        "\n",
        "def errorPlot(preds, labels, counts):\n",
        "  errors = preds - labels\n",
        "  plt.hist(errors, counts)\n",
        "  plt.xlabel('Error')\n",
        "  plt.ylabel('Counts')\n",
        "  plt.show()\n",
        "\n",
        "errorPlot(testPreds, testLabels, numEpochs)"
      ],
      "execution_count": 32,
      "outputs": [
        {
          "output_type": "display_data",
          "data": {
            "image/png": "[encoded data removed]",
            "text/plain": [
              "<Figure size 576x396 with 1 Axes>"
            ]
          },
          "metadata": {
            "tags": []
          }
        }
      ]
    },
    {
      "cell_type": "code",
      "metadata": {
        "id": "_8Z_AkpDPjpV"
      },
      "source": [
        ""
      ],
      "execution_count": null,
      "outputs": []
    }
  ]
}